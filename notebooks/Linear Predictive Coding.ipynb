{
 "cells": [
  {
   "cell_type": "code",
   "execution_count": 1,
   "metadata": {},
   "outputs": [],
   "source": [
    "import scipy.io.wavfile as wav\n",
    "import scipy.signal as sig\n",
    "\n",
    "import matplotlib.pyplot as plt\n",
    "import numpy as np\n",
    "\n",
    "import IPython.display as ipd\n",
    "\n",
    "import numpy as np\n",
    "from numpy.linalg import norm\n",
    "from spectrum import arburg\n",
    "\n",
    "from spectrum.burg import _arburg2\n",
    "from scipy.signal import lfilter, lfiltic\n",
    "from tqdm import tqdm, tqdm_notebook as tn"
   ]
  },
  {
   "cell_type": "code",
   "execution_count": 2,
   "metadata": {},
   "outputs": [],
   "source": [
    "def LPC(previous_sig, next_sig, gap_start, gap_end, lpc_order):\n",
    "\n",
    "    target_length = gap_end - gap_start\n",
    "    \n",
    "    ab, _, _ = _arburg2(previous_sig, lpc_order)\n",
    "    Zb = lfiltic(b=[1], a=ab, y=previous_sig[:-lpc_order-1:-1])\n",
    "    forw_pred, _ = lfilter(b=[1], a=ab, x=np.zeros((target_length)), zi=Zb)\n",
    "\n",
    "    next_sig = np.flipud(next_sig)\n",
    "    af, _, _ = _arburg2(next_sig, lpc_order)\n",
    "    Zf = lfiltic([1], af, next_sig[:-lpc_order-1:-1])\n",
    "    backw_pred, _ = lfilter([1], af, np.zeros((target_length)), zi=Zf)\n",
    "    backw_pred = np.flipud(backw_pred)\n",
    "\n",
    "    t = np.linspace(0, np.pi/2, target_length)\n",
    "    sqCos = np.cos(t)**2\n",
    "    sigout = sqCos*forw_pred + np.flipud(sqCos)*backw_pred\n",
    "    return sigout"
   ]
  },
  {
   "cell_type": "code",
   "execution_count": 3,
   "metadata": {},
   "outputs": [],
   "source": [
    "SNR = lambda y, y_hat: 20 * (np.log10(norm(y)) - np.log10(norm(y-y_hat)))"
   ]
  },
  {
   "cell_type": "code",
   "execution_count": 4,
   "metadata": {},
   "outputs": [],
   "source": [
    "def plot_signal_by_parts(signal, gap_start, gap_end, gap=None):\n",
    "    if gap is None:\n",
    "        plt.title(\"Original signal\")\n",
    "        plt.plot(np.arange(gap_start), signal[:gap_start])\n",
    "        plt.plot(np.arange(gap_start, gap_end), signal[gap_start:gap_end])\n",
    "        plt.plot(np.arange(gap_end, len(signal)), signal[gap_end:])\n",
    "    else:\n",
    "        plt.title(\"Reconstructed signal\")\n",
    "        plt.plot(np.arange(gap_start), signal[:gap_start])\n",
    "        plt.plot(np.arange(gap_start, gap_end), gap)\n",
    "        plt.plot(np.arange(gap_end, len(signal)), signal[gap_end:])\n",
    "    \n",
    "    plt.show()"
   ]
  },
  {
   "cell_type": "markdown",
   "metadata": {},
   "source": [
    "# TESTING WITH RML"
   ]
  },
  {
   "cell_type": "code",
   "execution_count": 5,
   "metadata": {},
   "outputs": [],
   "source": [
    "from mlp import audio\n",
    "from mlp import normalization\n",
    "from mlp import utils as mlp\n",
    "from mlp.dataset import WAVAudioDS, TimePostprocessing, WAVTimeAudioDS, PolarPreprocessing\n",
    "from multiprocessing import Pool\n",
    "from multiprocessing.pool import ThreadPool\n",
    "import multiprocessing\n",
    "\n",
    "import pickle\n",
    "import torch"
   ]
  },
  {
   "cell_type": "code",
   "execution_count": 6,
   "metadata": {},
   "outputs": [],
   "source": [
    "fs = 48000\n",
    "bs = 1\n",
    "stroke_width_ms = 32\n",
    "patch_width = 64\n",
    "patch_height = 64"
   ]
  },
  {
   "cell_type": "code",
   "execution_count": 7,
   "metadata": {
    "scrolled": true
   },
   "outputs": [
    {
     "name": "stderr",
     "output_type": "stream",
     "text": [
      "100%|██████████| 4000/4000 [05:08<00:00, 17.01it/s]\n"
     ]
    }
   ],
   "source": [
    "preprocess = PolarPreprocessing(\n",
    "    normalization.norm_mag, \n",
    "    normalization.norm_phase, \n",
    "    patch_width, \n",
    "    patch_height\n",
    ")\n",
    "\n",
    "\n",
    "# stroke_mask = mlp.build_stroke_purge_mask(patch_width, patch_height, stroke_width_ms, fs, nperseg=256)\n",
    "time_mask = mlp.build_time_purge_mask(patch_width, stroke_width_ms, fs)\n",
    "\n",
    "val_files = pickle.load(open(\"valid.pk\", \"rb\"))\n",
    "\n",
    "torch.multiprocessing.set_sharing_strategy('file_system') # I was getting memory errors without this line.\n",
    "with Pool(8) as p:\n",
    "    ds_valid = WAVTimeAudioDS(files=val_files, mk_source=lambda x: x * time_mask, preprocess=preprocess, \n",
    "                          patch_width=patch_width, proc_pool=p, fs=fs, random_patches=False) "
   ]
  },
  {
   "cell_type": "code",
   "execution_count": 8,
   "metadata": {},
   "outputs": [
    {
     "data": {
      "text/plain": [
       "77928"
      ]
     },
     "execution_count": 8,
     "metadata": {},
     "output_type": "execute_result"
    }
   ],
   "source": [
    "len(ds_valid)"
   ]
  },
  {
   "cell_type": "code",
   "execution_count": 9,
   "metadata": {},
   "outputs": [],
   "source": [
    "import lpc"
   ]
  },
  {
   "cell_type": "code",
   "execution_count": 20,
   "metadata": {},
   "outputs": [
    {
     "name": "stderr",
     "output_type": "stream",
     "text": [
      "  0%|          | 253/77928 [02:06<10:18:54,  2.09it/s]"
     ]
    }
   ],
   "source": [
    "context_size = int(69 * fs / 1000)\n",
    "lpc_order = 1000\n",
    "rec_signals = []\n",
    "n_threads = 6\n",
    "# chunksize = len(ds_valid) / (n_threads * 4)\n",
    "\n",
    "chunksize = 250"
   ]
  },
  {
   "cell_type": "code",
   "execution_count": null,
   "metadata": {},
   "outputs": [
    {
     "name": "stdout",
     "output_type": "stream",
     "text": [
      " 56%|█████████████████████▉                 | 2250/4000 [01:59<00:55, 31.30it/s]"
     ]
    }
   ],
   "source": [
    "!python lpc.py"
   ]
  },
  {
   "cell_type": "code",
   "execution_count": 18,
   "metadata": {},
   "outputs": [],
   "source": [
    "import mlp.complx as complx\n",
    "\n",
    "def get_norm_mag_from_freqs(freqs):\n",
    "    freqs[0], freqs[1] = complx.to_polar(freqs)\n",
    "    freqs[0], freqs[1] = normalization.norm_mag(freqs[0]), normalization.norm_phase(freqs[1])\n",
    "    return freqs[0]\n",
    "\n",
    "def reconstruct_with_target_phase(lpc_signal, target):\n",
    "    _, _, target = audio.stft(target, fs=fs, nperseg=256)\n",
    "    target = target[:,:-2]\n",
    "    target = WAVAudioDS.freqs_to_torch(target, max_freqs=64)  \n",
    "    target[0], target[1] = complx.to_polar(target)\n",
    "    target[0], target[1] = normalization.norm_mag(target[0]), normalization.norm_phase(target[1])\n",
    "\n",
    "    _, _, lpc_signal = audio.stft(lpc_signal, fs=fs, nperseg=256)\n",
    "    lpc_signal = lpc_signal[:,:-2]\n",
    "    lpc_signal = WAVAudioDS.freqs_to_torch(lpc_signal, max_freqs=64)\n",
    "    lpc_signal[0], lpc_signal[1] = complx.to_polar(lpc_signal)\n",
    "    lpc_signal[0], lpc_signal[1] = normalization.norm_mag(lpc_signal[0]), normalization.norm_phase(lpc_signal[1])\n",
    "    \n",
    "    rec_signal = torch.stack([lpc_signal[0], target[1]])\n",
    "    rec_signal = audio.torch_out_to_time_domain([rec_signal])[0]\n",
    "    target_signal = audio.torch_out_to_time_domain([target])[0]\n",
    "    \n",
    "    return rec_signal, lpc_signal[0], target_signal, target[0]\n",
    "\n",
    "\n",
    "mse = lambda y, y_hat: ((y - y_hat)**2).mean()"
   ]
  },
  {
   "cell_type": "code",
   "execution_count": 19,
   "metadata": {
    "scrolled": true
   },
   "outputs": [
    {
     "name": "stderr",
     "output_type": "stream",
     "text": [
      "0it [00:00, ?it/s]"
     ]
    },
    {
     "data": {
      "image/png": "[encoded data removed]",
      "text/plain": [
       "<Figure size 432x288 with 1 Axes>"
      ]
     },
     "metadata": {},
     "output_type": "display_data"
    },
    {
     "name": "stderr",
     "output_type": "stream",
     "text": [
      "/opt/anaconda3/lib/python3.7/site-packages/numpy/core/numeric.py:501: ComplexWarning: Casting complex values to real discards the imaginary part\n",
      "  return array(a, dtype, copy=False, order=order)\n"
     ]
    },
    {
     "data": {
      "image/png": "[encoded data removed]",
      "text/plain": [
       "<Figure size 432x288 with 1 Axes>"
      ]
     },
     "metadata": {},
     "output_type": "display_data"
    },
    {
     "name": "stderr",
     "output_type": "stream",
     "text": [
      "/opt/anaconda3/lib/python3.7/site-packages/ipykernel_launcher.py:21: ComplexWarning: Casting complex values to real discards the imaginary part\n",
      "\n",
      "  0%|          | 0/1 [00:00<?, ?it/s]\u001b[A\n",
      "100%|██████████| 1/1 [00:00<00:00, 678.80it/s]\u001b[A\n",
      "  0%|          | 0/1 [00:00<?, ?it/s]\u001b[A\n",
      "100%|██████████| 1/1 [00:00<00:00, 43.12it/s]\u001b[A\n",
      "  0%|          | 0/1 [00:00<?, ?it/s]\u001b[A\n",
      "100%|██████████| 1/1 [00:00<00:00, 423.32it/s]\u001b[A\n",
      "  0%|          | 0/1 [00:00<?, ?it/s]\u001b[A\n",
      "1it [00:00,  2.89it/s]\n",
      "  0%|          | 0/1 [00:00<?, ?it/s]\u001b[A\n",
      "100%|██████████| 1/1 [00:00<00:00, 787.22it/s]\u001b[A\n",
      "  0%|          | 0/1 [00:00<?, ?it/s]\u001b[A\n",
      "100%|██████████| 1/1 [00:00<00:00, 286.32it/s]\u001b[A\n",
      "  0%|          | 0/1 [00:00<?, ?it/s]\u001b[A\n",
      "100%|██████████| 1/1 [00:00<00:00, 479.24it/s]\u001b[A\n",
      "  0%|          | 0/1 [00:00<?, ?it/s]\u001b[A\n",
      "100%|██████████| 1/1 [00:00<00:00, 281.40it/s]\u001b[A\n",
      "  0%|          | 0/1 [00:00<?, ?it/s]\u001b[A\n",
      "100%|██████████| 1/1 [00:00<00:00, 860.37it/s]\u001b[A\n",
      "  0%|          | 0/1 [00:00<?, ?it/s]\u001b[A\n",
      "100%|██████████| 1/1 [00:00<00:00, 294.85it/s]\u001b[A\n",
      "  0%|          | 0/1 [00:00<?, ?it/s]\u001b[A\n",
      "100%|██████████| 1/1 [00:00<00:00, 839.03it/s]\u001b[A\n",
      "  0%|          | 0/1 [00:00<?, ?it/s]\u001b[A\n",
      "100%|██████████| 1/1 [00:00<00:00, 315.76it/s]\u001b[A\n",
      "  0%|          | 0/1 [00:00<?, ?it/s]\u001b[A\n",
      "100%|██████████| 1/1 [00:00<00:00, 732.63it/s]\u001b[A\n",
      "  0%|          | 0/1 [00:00<?, ?it/s]\u001b[A\n",
      "100%|██████████| 1/1 [00:00<00:00, 339.37it/s]\u001b[A\n",
      "  0%|          | 0/1 [00:00<?, ?it/s]\u001b[A\n",
      "100%|██████████| 1/1 [00:00<00:00, 598.50it/s]\u001b[A\n",
      "  0%|          | 0/1 [00:00<?, ?it/s]\u001b[A\n",
      "100%|██████████| 1/1 [00:00<00:00, 340.70it/s]\u001b[A\n",
      "  0%|          | 0/1 [00:00<?, ?it/s]\u001b[A\n",
      "100%|██████████| 1/1 [00:00<00:00, 774.43it/s]\u001b[A\n",
      "  0%|          | 0/1 [00:00<?, ?it/s]\u001b[A\n",
      "100%|██████████| 1/1 [00:00<00:00, 271.97it/s]\u001b[A\n",
      "  0%|          | 0/1 [00:00<?, ?it/s]\u001b[A\n",
      "100%|██████████| 1/1 [00:00<00:00, 685.57it/s]\u001b[A\n",
      "  0%|          | 0/1 [00:00<?, ?it/s]\u001b[A\n",
      "5it [00:00,  3.97it/s]\n",
      "  0%|          | 0/1 [00:00<?, ?it/s]\u001b[A\n",
      "100%|██████████| 1/1 [00:00<00:00, 599.19it/s]\u001b[A\n",
      "  0%|          | 0/1 [00:00<?, ?it/s]\u001b[A\n",
      "100%|██████████| 1/1 [00:00<00:00, 195.36it/s]\u001b[A\n",
      "  0%|          | 0/1 [00:00<?, ?it/s]\u001b[A\n",
      "100%|██████████| 1/1 [00:00<00:00, 528.32it/s]\u001b[A\n",
      "  0%|          | 0/1 [00:00<?, ?it/s]\u001b[A\n",
      "100%|██████████| 1/1 [00:00<00:00, 164.77it/s]\u001b[A\n",
      "  0%|          | 0/1 [00:00<?, ?it/s]\u001b[A\n",
      "100%|██████████| 1/1 [00:00<00:00, 938.11it/s]\u001b[A\n",
      "  0%|          | 0/1 [00:00<?, ?it/s]\u001b[A\n",
      "100%|██████████| 1/1 [00:00<00:00, 175.38it/s]\u001b[A\n",
      "  0%|          | 0/1 [00:00<?, ?it/s]\u001b[A\n",
      "100%|██████████| 1/1 [00:00<00:00, 444.59it/s]\u001b[A\n",
      "  0%|          | 0/1 [00:00<?, ?it/s]\u001b[A\n",
      "100%|██████████| 1/1 [00:00<00:00, 172.51it/s]\u001b[A\n",
      "  0%|          | 0/1 [00:00<?, ?it/s]\u001b[A\n",
      "100%|██████████| 1/1 [00:00<00:00, 571.82it/s]\u001b[A\n",
      "  0%|          | 0/1 [00:00<?, ?it/s]\u001b[A\n",
      "100%|██████████| 1/1 [00:00<00:00, 197.45it/s]\u001b[A\n",
      "  0%|          | 0/1 [00:00<?, ?it/s]\u001b[A\n",
      "100%|██████████| 1/1 [00:00<00:00, 374.63it/s]\u001b[A\n",
      "  0%|          | 0/1 [00:00<?, ?it/s]\u001b[A\n",
      "8it [00:00,  5.30it/s]\n",
      "  0%|          | 0/1 [00:00<?, ?it/s]\u001b[A\n",
      "100%|██████████| 1/1 [00:00<00:00, 785.74it/s]\u001b[A\n",
      "  0%|          | 0/1 [00:00<?, ?it/s]\u001b[A\n",
      "100%|██████████| 1/1 [00:00<00:00, 267.15it/s]\u001b[A\n",
      "  0%|          | 0/1 [00:00<?, ?it/s]\u001b[A\n",
      "100%|██████████| 1/1 [00:00<00:00, 803.51it/s]\u001b[A\n",
      "  0%|          | 0/1 [00:00<?, ?it/s]\u001b[A\n",
      "100%|██████████| 1/1 [00:00<00:00, 280.91it/s]\u001b[A\n",
      "  0%|          | 0/1 [00:00<?, ?it/s]\u001b[A\n",
      "100%|██████████| 1/1 [00:00<00:00, 784.28it/s]\u001b[A\n",
      "  0%|          | 0/1 [00:00<?, ?it/s]\u001b[A\n",
      "100%|██████████| 1/1 [00:00<00:00, 287.52it/s]\u001b[A\n",
      "  0%|          | 0/1 [00:00<?, ?it/s]\u001b[A\n",
      "100%|██████████| 1/1 [00:00<00:00, 996.04it/s]\u001b[A\n",
      "  0%|          | 0/1 [00:00<?, ?it/s]\u001b[A\n",
      "100%|██████████| 1/1 [00:00<00:00, 270.51it/s]\u001b[A\n",
      "  0%|          | 0/1 [00:00<?, ?it/s]\u001b[A\n",
      "100%|██████████| 1/1 [00:00<00:00, 531.13it/s]\u001b[A\n",
      "  0%|          | 0/1 [00:00<?, ?it/s]\u001b[A\n",
      "100%|██████████| 1/1 [00:00<00:00, 197.44it/s]\u001b[A\n",
      "  0%|          | 0/1 [00:00<?, ?it/s]\u001b[A\n",
      "100%|██████████| 1/1 [00:00<00:00, 780.19it/s]\u001b[A\n",
      "  0%|          | 0/1 [00:00<?, ?it/s]\u001b[A\n",
      "11it [00:00,  7.04it/s]\n",
      "  0%|          | 0/1 [00:00<?, ?it/s]\u001b[A\n",
      "100%|██████████| 1/1 [00:00<00:00, 657.00it/s]\u001b[A\n",
      "  0%|          | 0/1 [00:00<?, ?it/s]\u001b[A\n",
      "100%|██████████| 1/1 [00:00<00:00, 231.38it/s]\u001b[A\n",
      "  0%|          | 0/1 [00:00<?, ?it/s]\u001b[A\n",
      "100%|██████████| 1/1 [00:00<00:00, 410.92it/s]\u001b[A\n",
      "  0%|          | 0/1 [00:00<?, ?it/s]\u001b[A\n",
      "100%|██████████| 1/1 [00:00<00:00, 281.69it/s]\u001b[A\n",
      "  0%|          | 0/1 [00:00<?, ?it/s]\u001b[A\n",
      "100%|██████████| 1/1 [00:00<00:00, 1287.78it/s]\u001b[A\n",
      "  0%|          | 0/1 [00:00<?, ?it/s]\u001b[A\n",
      "100%|██████████| 1/1 [00:00<00:00, 228.73it/s]\u001b[A\n",
      "  0%|          | 0/1 [00:00<?, ?it/s]\u001b[A\n",
      "100%|██████████| 1/1 [00:00<00:00, 470.64it/s]\u001b[A\n",
      "  0%|          | 0/1 [00:00<?, ?it/s]\u001b[A\n",
      "100%|██████████| 1/1 [00:00<00:00, 246.52it/s]\u001b[A\n",
      "  0%|          | 0/1 [00:00<?, ?it/s]\u001b[A\n",
      "100%|██████████| 1/1 [00:00<00:00, 571.04it/s]\u001b[A\n",
      "  0%|          | 0/1 [00:00<?, ?it/s]\u001b[A\n",
      "100%|██████████| 1/1 [00:00<00:00, 380.26it/s]\u001b[A\n",
      "  0%|          | 0/1 [00:00<?, ?it/s]\u001b[A\n",
      "100%|██████████| 1/1 [00:00<00:00, 606.99it/s]\u001b[A\n",
      "  0%|          | 0/1 [00:00<?, ?it/s]\u001b[A\n",
      "14it [00:00,  9.10it/s]\n",
      "  0%|          | 0/1 [00:00<?, ?it/s]\u001b[A\n",
      "100%|██████████| 1/1 [00:00<00:00, 815.06it/s]\u001b[A\n",
      "  0%|          | 0/1 [00:00<?, ?it/s]\u001b[A\n",
      "100%|██████████| 1/1 [00:00<00:00, 276.16it/s]\u001b[A\n",
      "  0%|          | 0/1 [00:00<?, ?it/s]\u001b[A\n",
      "100%|██████████| 1/1 [00:00<00:00, 597.65it/s]\u001b[A\n",
      "  0%|          | 0/1 [00:00<?, ?it/s]\u001b[A\n",
      "100%|██████████| 1/1 [00:00<00:00, 212.92it/s]\u001b[A\n",
      "  0%|          | 0/1 [00:00<?, ?it/s]\u001b[A\n",
      "100%|██████████| 1/1 [00:00<00:00, 591.33it/s]\u001b[A\n",
      "  0%|          | 0/1 [00:00<?, ?it/s]\u001b[A\n",
      "100%|██████████| 1/1 [00:00<00:00, 218.90it/s]\u001b[A\n",
      "  0%|          | 0/1 [00:00<?, ?it/s]\u001b[A\n",
      "100%|██████████| 1/1 [00:00<00:00, 700.69it/s]\u001b[A\n",
      "  0%|          | 0/1 [00:00<?, ?it/s]\u001b[A\n",
      "100%|██████████| 1/1 [00:00<00:00, 246.30it/s]\u001b[A\n",
      "  0%|          | 0/1 [00:00<?, ?it/s]\u001b[A\n",
      "100%|██████████| 1/1 [00:00<00:00, 536.56it/s]\u001b[A\n",
      "  0%|          | 0/1 [00:00<?, ?it/s]\u001b[A\n",
      "100%|██████████| 1/1 [00:00<00:00, 328.19it/s]\u001b[A\n",
      "  0%|          | 0/1 [00:00<?, ?it/s]\u001b[A\n",
      "100%|██████████| 1/1 [00:00<00:00, 446.96it/s]\u001b[A\n",
      "  0%|          | 0/1 [00:00<?, ?it/s]\u001b[A\n",
      "17it [00:00, 11.45it/s]\n",
      "  0%|          | 0/1 [00:00<?, ?it/s]\u001b[A\n",
      "100%|██████████| 1/1 [00:00<00:00, 1051.20it/s]\u001b[A\n",
      "  0%|          | 0/1 [00:00<?, ?it/s]\u001b[A\n",
      "100%|██████████| 1/1 [00:00<00:00, 238.11it/s]\u001b[A\n",
      "  0%|          | 0/1 [00:00<?, ?it/s]\u001b[A\n",
      "100%|██████████| 1/1 [00:00<00:00, 957.60it/s]\u001b[A\n",
      "  0%|          | 0/1 [00:00<?, ?it/s]\u001b[A\n",
      "100%|██████████| 1/1 [00:00<00:00, 360.52it/s]\u001b[A\n",
      "  0%|          | 0/1 [00:00<?, ?it/s]\u001b[A\n",
      "100%|██████████| 1/1 [00:00<00:00, 633.58it/s]\u001b[A\n",
      "  0%|          | 0/1 [00:00<?, ?it/s]\u001b[A\n",
      "100%|██████████| 1/1 [00:00<00:00, 188.47it/s]\u001b[A\n",
      "  0%|          | 0/1 [00:00<?, ?it/s]\u001b[A\n",
      "100%|██████████| 1/1 [00:00<00:00, 426.42it/s]\u001b[A\n",
      "  0%|          | 0/1 [00:00<?, ?it/s]\u001b[A\n",
      "100%|██████████| 1/1 [00:00<00:00, 190.64it/s]\u001b[A\n",
      "  0%|          | 0/1 [00:00<?, ?it/s]\u001b[A\n",
      "100%|██████████| 1/1 [00:00<00:00, 539.32it/s]\u001b[A\n",
      "  0%|          | 0/1 [00:00<?, ?it/s]\u001b[A\n",
      "100%|██████████| 1/1 [00:00<00:00, 206.02it/s]\u001b[A\n",
      "  0%|          | 0/1 [00:00<?, ?it/s]\u001b[A\n",
      "100%|██████████| 1/1 [00:00<00:00, 541.20it/s]\u001b[A\n",
      "  0%|          | 0/1 [00:00<?, ?it/s]\u001b[A\n",
      "20it [00:01, 13.98it/s]\n",
      "  0%|          | 0/1 [00:00<?, ?it/s]\u001b[A\n",
      "100%|██████████| 1/1 [00:00<00:00, 826.79it/s]\u001b[A\n",
      "  0%|          | 0/1 [00:00<?, ?it/s]\u001b[A\n",
      "100%|██████████| 1/1 [00:00<00:00, 211.92it/s]\u001b[A\n",
      "  0%|          | 0/1 [00:00<?, ?it/s]\u001b[A\n",
      "100%|██████████| 1/1 [00:00<00:00, 691.79it/s]\u001b[A\n",
      "  0%|          | 0/1 [00:00<?, ?it/s]\u001b[A\n",
      "100%|██████████| 1/1 [00:00<00:00, 214.50it/s]\u001b[A\n",
      "  0%|          | 0/1 [00:00<?, ?it/s]\u001b[A\n",
      "100%|██████████| 1/1 [00:00<00:00, 433.30it/s]\u001b[A\n",
      "  0%|          | 0/1 [00:00<?, ?it/s]\u001b[A\n",
      "100%|██████████| 1/1 [00:00<00:00, 245.60it/s]\u001b[A\n",
      "  0%|          | 0/1 [00:00<?, ?it/s]\u001b[A\n",
      "100%|██████████| 1/1 [00:00<00:00, 326.51it/s]\u001b[A\n",
      "  0%|          | 0/1 [00:00<?, ?it/s]\u001b[A\n",
      "22it [00:01, 20.30it/s]\n"
     ]
    }
   ],
   "source": [
    "mse_list = []\n",
    "snr_list = []\n",
    "snr_list_or_phase = []\n",
    "\n",
    "for i, (lpc_signal, (src, target)) in tqdm(enumerate(zip(rec_signals, ds_valid))):\n",
    "\n",
    "    if lpc_signal is None:\n",
    "        continue\n",
    "        \n",
    "    sample_length = len(target)\n",
    "    sample_ms = int(np.floor(32 * fs / 1000))\n",
    "    gap_start = sample_length // 2 - sample_ms // 2\n",
    "    gap_end = gap_start + sample_ms\n",
    "    \n",
    "    if i == 0:\n",
    "        plot_signal_by_parts(target, gap_start, gap_end)\n",
    "        plot_signal_by_parts(target, gap_start, gap_end, lpc_signal)\n",
    "\n",
    "    snr_list.append(SNR(target[gap_start:gap_end], lpc_signal))\n",
    "    \n",
    "    lpc_signal = np.concatenate([target[:gap_start], lpc_signal, target[gap_end:]]).astype(np.float32)    \n",
    "    rec_signal_time, rec_signal_mag, target_time, target_mag = reconstruct_with_target_phase(lpc_signal, target)\n",
    "    \n",
    "    snr_list_or_phase.append(SNR(target_time[gap_start:gap_end], rec_signal_time[gap_start:gap_end]))\n",
    "    mse_list.append(mse(target_mag[:, 26:38], rec_signal_mag[:, 26:38]))"
   ]
  },
  {
   "cell_type": "code",
   "execution_count": 20,
   "metadata": {},
   "outputs": [
    {
     "data": {
      "text/plain": [
       "<matplotlib.image.AxesImage at 0x7f24c72b7208>"
      ]
     },
     "execution_count": 20,
     "metadata": {},
     "output_type": "execute_result"
    },
    {
     "data": {
      "image/png": "[encoded data removed]",
      "text/plain": [
       "<Figure size 288x288 with 1 Axes>"
      ]
     },
     "metadata": {},
     "output_type": "display_data"
    }
   ],
   "source": [
    "plt.matshow(target_mag)"
   ]
  },
  {
   "cell_type": "code",
   "execution_count": 21,
   "metadata": {},
   "outputs": [
    {
     "data": {
      "text/plain": [
       "<matplotlib.image.AxesImage at 0x7f24c640da58>"
      ]
     },
     "execution_count": 21,
     "metadata": {},
     "output_type": "execute_result"
    },
    {
     "data": {
      "image/png": "[encoded data removed]",
      "text/plain": [
       "<Figure size 288x288 with 1 Axes>"
      ]
     },
     "metadata": {},
     "output_type": "display_data"
    }
   ],
   "source": [
    "plt.matshow(rec_signal_mag, vmin=np.min(target_mag.numpy()), vmax=np.max(target_mag.numpy()))"
   ]
  },
  {
   "cell_type": "code",
   "execution_count": 22,
   "metadata": {},
   "outputs": [
    {
     "data": {
      "text/plain": [
       "tensor(0.3610)"
      ]
     },
     "execution_count": 22,
     "metadata": {},
     "output_type": "execute_result"
    }
   ],
   "source": [
    "mse(target_mag[:, 26:38], rec_signal_mag[:, 26:38])"
   ]
  },
  {
   "cell_type": "code",
   "execution_count": null,
   "metadata": {},
   "outputs": [],
   "source": []
  },
  {
   "cell_type": "markdown",
   "metadata": {},
   "source": [
    "# Mean SNR and MSE"
   ]
  },
  {
   "cell_type": "code",
   "execution_count": 23,
   "metadata": {},
   "outputs": [
    {
     "name": "stdout",
     "output_type": "stream",
     "text": [
      "LPC\n",
      "SNR: 1.9120612680271727\n",
      "SNR std: 3.285468822642674\n"
     ]
    },
    {
     "data": {
      "image/png": "[encoded data removed]",
      "text/plain": [
       "<Figure size 432x288 with 1 Axes>"
      ]
     },
     "metadata": {},
     "output_type": "display_data"
    }
   ],
   "source": [
    "print('LPC')\n",
    "print('SNR:', np.mean(snr_list))\n",
    "print('SNR std:', np.std(snr_list))\n",
    "counts, bins, _ = plt.hist(snr_list, bins=50)"
   ]
  },
  {
   "cell_type": "code",
   "execution_count": 24,
   "metadata": {},
   "outputs": [
    {
     "name": "stdout",
     "output_type": "stream",
     "text": [
      "LPC\n",
      "SNR: 11.146632217282576\n",
      "SNR std: 0.6059719702820122\n"
     ]
    },
    {
     "data": {
      "image/png": "[encoded data removed]",
      "text/plain": [
       "<Figure size 432x288 with 1 Axes>"
      ]
     },
     "metadata": {},
     "output_type": "display_data"
    }
   ],
   "source": [
    "print('LPC')\n",
    "print('SNR:', np.mean(snr_list_or_phase))\n",
    "print('SNR std:', np.std(snr_list_or_phase))\n",
    "counts, bins, _ = plt.hist(snr_list_or_phase, bins=50)"
   ]
  },
  {
   "cell_type": "code",
   "execution_count": 25,
   "metadata": {},
   "outputs": [
    {
     "name": "stdout",
     "output_type": "stream",
     "text": [
      "LPC\n",
      "MSE: 0.33847597\n",
      "MSE std: 0.11073126\n"
     ]
    },
    {
     "data": {
      "image/png": "[encoded data removed]",
      "text/plain": [
       "<Figure size 432x288 with 1 Axes>"
      ]
     },
     "metadata": {},
     "output_type": "display_data"
    }
   ],
   "source": [
    "print('LPC')\n",
    "print('MSE:', np.mean(mse_list))\n",
    "print('MSE std:', np.std(mse_list))\n",
    "_ = plt.hist(mse_list, bins=50)"
   ]
  },
  {
   "cell_type": "code",
   "execution_count": null,
   "metadata": {},
   "outputs": [],
   "source": []
  },
  {
   "cell_type": "code",
   "execution_count": null,
   "metadata": {},
   "outputs": [],
   "source": []
  }
 ],
 "metadata": {
  "kernelspec": {
   "display_name": "Python 3",
   "language": "python",
   "name": "python3"
  },
  "language_info": {
   "codemirror_mode": {
    "name": "ipython",
    "version": 3
   },
   "file_extension": ".py",
   "mimetype": "text/x-python",
   "name": "python",
   "nbconvert_exporter": "python",
   "pygments_lexer": "ipython3",
   "version": "3.7.1"
  }
 },
 "nbformat": 4,
 "nbformat_minor": 2
}
