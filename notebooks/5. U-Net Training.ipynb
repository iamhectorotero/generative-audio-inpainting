{
 "cells": [
  {
   "cell_type": "code",
   "execution_count": 1,
   "metadata": {},
   "outputs": [],
   "source": [
    "import pickle as pk\n",
    "import matplotlib.pyplot as plt\n",
    "import numpy as np\n",
    "import torch\n",
    "\n",
    "from torch.utils.data import DataLoader\n",
    "\n",
    "from rml import training\n",
    "from rml import utils\n",
    "from rml.utils import plotting\n",
    "\n",
    "from mlp import audio\n",
    "from mlp import normalization\n",
    "from mlp import utils as mlp\n",
    "from mlp.dataset import WAVAudioDS, PolarPreprocessing\n",
    "\n",
    "from multiprocessing import Pool\n",
    "\n",
    "from models.unet import *"
   ]
  },
  {
   "cell_type": "code",
   "execution_count": 2,
   "metadata": {},
   "outputs": [],
   "source": [
    "%matplotlib inline"
   ]
  },
  {
   "cell_type": "code",
   "execution_count": 3,
   "metadata": {},
   "outputs": [],
   "source": [
    "utils.utils.set_is_notebook(True)\n",
    "device = utils.utils.device"
   ]
  },
  {
   "cell_type": "code",
   "execution_count": 4,
   "metadata": {},
   "outputs": [],
   "source": [
    "fs = 48000\n",
    "bs = 32\n",
    "stroke_width = 10\n",
    "patch_width = 128\n",
    "patch_height = 64"
   ]
  },
  {
   "cell_type": "code",
   "execution_count": 5,
   "metadata": {},
   "outputs": [],
   "source": [
    "stroke_mask = mlp.build_stroke_purge_mask(patch_width, patch_height, stroke_width, fs)\n",
    "stroke_mask_not = ~stroke_mask\n",
    "\n",
    "purge_mask = stroke_mask.float()\n",
    "keep_mask = stroke_mask_not.float()"
   ]
  },
  {
   "cell_type": "code",
   "execution_count": 6,
   "metadata": {},
   "outputs": [],
   "source": [
    "files_train = pk.load(open('../files/train.pk', 'rb'))[:1]\n",
    "files_test = pk.load(open('../files/test.pk', 'rb'))[:1]\n",
    "files_valid = pk.load(open('../files/valid.pk', 'rb'))[:1]"
   ]
  },
  {
   "cell_type": "code",
   "execution_count": 7,
   "metadata": {},
   "outputs": [
    {
     "name": "stderr",
     "output_type": "stream",
     "text": [
      "100%|██████████| 1/1 [00:00<00:00, 1347.35it/s]\n",
      "100%|██████████| 1/1 [00:00<00:00, 650.38it/s]\n"
     ]
    }
   ],
   "source": [
    "preprocess = PolarPreprocessing(\n",
    "    normalization.norm_mag, \n",
    "    normalization.norm_phase, \n",
    "    patch_width, \n",
    "    patch_height\n",
    ")\n",
    "\n",
    "with Pool(8) as p:\n",
    "    ds_train = WAVAudioDS(files_train, lambda x: x * purge_mask, preprocess, patch_width, p) # just using a fraction of our data\n",
    "    ds_test = WAVAudioDS(files_test, lambda x: x * purge_mask, preprocess, patch_width, p)\n",
    "\n",
    "dl_train = DataLoader(ds_train, batch_size=bs, num_workers=4, shuffle=True)\n",
    "dl_test = DataLoader(ds_test, batch_size=bs, num_workers=4, shuffle=False)"
   ]
  },
  {
   "cell_type": "code",
   "execution_count": 8,
   "metadata": {},
   "outputs": [
    {
     "data": {
      "image/png": "[encoded data removed]",
      "text/plain": [
       "<Figure size 432x288 with 1 Axes>"
      ]
     },
     "metadata": {
      "needs_background": "light"
     },
     "output_type": "display_data"
    },
    {
     "data": {
      "image/png": "[encoded data removed]",
      "text/plain": [
       "<Figure size 432x288 with 1 Axes>"
      ]
     },
     "metadata": {
      "needs_background": "light"
     },
     "output_type": "display_data"
    }
   ],
   "source": [
    "# the data has a really nice distribution now :)\n",
    "plt.hist(ds_train.stroke[0].view(-1), bins=100)\n",
    "plt.show()\n",
    "\n",
    "plt.hist(ds_train.stroke[1].view(-1), bins=100)\n",
    "plt.show()"
   ]
  },
  {
   "cell_type": "code",
   "execution_count": 9,
   "metadata": {},
   "outputs": [],
   "source": [
    "mse = torch.nn.MSELoss()\n",
    "loss_mask =  stroke_mask_not.float().to(device)\n",
    "\n",
    "def MSEGapLoss(pred, targ):\n",
    "    return mse(pred * loss_mask, targ * loss_mask)"
   ]
  },
  {
   "cell_type": "code",
   "execution_count": 10,
   "metadata": {},
   "outputs": [],
   "source": [
    "class UNet(nn.Module):\n",
    "    def __init__(self):\n",
    "        super(UNet, self).__init__()\n",
    "        self.inc = inconv(2, 64)\n",
    "        self.down1 = down(64, 128)\n",
    "        self.down2 = down(128, 256)\n",
    "        self.down3 = down(256, 512)\n",
    "        self.down4 = down(512, 512)\n",
    "        self.up1 = up(1024, 256)\n",
    "        self.up2 = up(512, 128)\n",
    "        self.up3 = up(256, 64)\n",
    "        self.up4 = up(128, 64)\n",
    "        self.outc = outconv(64, 2)\n",
    "\n",
    "    def forward(self, x):\n",
    "        x1 = self.inc(x)\n",
    "        x2 = self.down1(x1)\n",
    "        x3 = self.down2(x2)\n",
    "        x4 = self.down3(x3)\n",
    "        x5 = self.down4(x4)\n",
    "        x = self.up1(x5, x4)\n",
    "        x = self.up2(x, x3)\n",
    "        x = self.up3(x, x2)\n",
    "        x = self.up4(x, x1)\n",
    "        x = self.outc(x)\n",
    "        return x\n",
    "    \n",
    "model = UNet().to(device)\n",
    "optim = torch.optim.Adam(model.parameters())"
   ]
  },
  {
   "cell_type": "code",
   "execution_count": 11,
   "metadata": {},
   "outputs": [
    {
     "data": {
      "application/vnd.jupyter.widget-view+json": {
       "model_id": "218ef017206a4c329f3785998042482f",
       "version_major": 2,
       "version_minor": 0
      },
      "text/plain": [
       "HBox(children=(IntProgress(value=0), HTML(value='')))"
      ]
     },
     "metadata": {},
     "output_type": "display_data"
    },
    {
     "name": "stdout",
     "output_type": "stream",
     "text": [
      "\r\n",
      "Epoch: 0\n"
     ]
    },
    {
     "data": {
      "application/vnd.jupyter.widget-view+json": {
       "model_id": "b43ad752ff774a23a9fb3c4f4d3961e3",
       "version_major": 2,
       "version_minor": 0
      },
      "text/plain": [
       "HBox(children=(IntProgress(value=0, max=1), HTML(value='')))"
      ]
     },
     "metadata": {},
     "output_type": "display_data"
    },
    {
     "name": "stdout",
     "output_type": "stream",
     "text": [
      "\n"
     ]
    },
    {
     "data": {
      "application/vnd.jupyter.widget-view+json": {
       "model_id": "4b0c3b173f01434cb7d7d64567479d6a",
       "version_major": 2,
       "version_minor": 0
      },
      "text/plain": [
       "HBox(children=(IntProgress(value=0, max=1), HTML(value='')))"
      ]
     },
     "metadata": {},
     "output_type": "display_data"
    },
    {
     "name": "stdout",
     "output_type": "stream",
     "text": [
      "\n",
      "\r",
      "Train Cost: 65307.21484375\n",
      "\r",
      "Test Cost: 65183.453125\n",
      "\r\n",
      "Epoch: 1\n"
     ]
    },
    {
     "data": {
      "application/vnd.jupyter.widget-view+json": {
       "model_id": "220cfdeab72048c5af61b936717939da",
       "version_major": 2,
       "version_minor": 0
      },
      "text/plain": [
       "HBox(children=(IntProgress(value=0, max=1), HTML(value='')))"
      ]
     },
     "metadata": {},
     "output_type": "display_data"
    },
    {
     "name": "stdout",
     "output_type": "stream",
     "text": [
      "\n"
     ]
    },
    {
     "data": {
      "application/vnd.jupyter.widget-view+json": {
       "model_id": "6aa61cdda6234e589ec7a6e57b816a64",
       "version_major": 2,
       "version_minor": 0
      },
      "text/plain": [
       "HBox(children=(IntProgress(value=0, max=1), HTML(value='')))"
      ]
     },
     "metadata": {},
     "output_type": "display_data"
    },
    {
     "name": "stdout",
     "output_type": "stream",
     "text": [
      "\n",
      "\r",
      "Train Cost: 34115.84765625\n",
      "\r",
      "Test Cost: 63606.4453125\n",
      "\r\n",
      "Epoch: 2\n"
     ]
    },
    {
     "data": {
      "application/vnd.jupyter.widget-view+json": {
       "model_id": "72133dad00cf48e7b0fd46e390cb07f2",
       "version_major": 2,
       "version_minor": 0
      },
      "text/plain": [
       "HBox(children=(IntProgress(value=0, max=1), HTML(value='')))"
      ]
     },
     "metadata": {},
     "output_type": "display_data"
    },
    {
     "name": "stdout",
     "output_type": "stream",
     "text": [
      "\n"
     ]
    },
    {
     "data": {
      "application/vnd.jupyter.widget-view+json": {
       "model_id": "26c41f40d65a427abcf5e10f030a192b",
       "version_major": 2,
       "version_minor": 0
      },
      "text/plain": [
       "HBox(children=(IntProgress(value=0, max=1), HTML(value='')))"
      ]
     },
     "metadata": {},
     "output_type": "display_data"
    },
    {
     "name": "stdout",
     "output_type": "stream",
     "text": [
      "\n",
      "\r",
      "Train Cost: 27811.86328125\n",
      "\r",
      "Test Cost: 60310.4375\n",
      "\r\n",
      "Epoch: 3\n"
     ]
    },
    {
     "data": {
      "application/vnd.jupyter.widget-view+json": {
       "model_id": "e5385a1331444522bf7fb26d3a95e7f5",
       "version_major": 2,
       "version_minor": 0
      },
      "text/plain": [
       "HBox(children=(IntProgress(value=0, max=1), HTML(value='')))"
      ]
     },
     "metadata": {},
     "output_type": "display_data"
    },
    {
     "name": "stdout",
     "output_type": "stream",
     "text": [
      "\n"
     ]
    },
    {
     "data": {
      "application/vnd.jupyter.widget-view+json": {
       "model_id": "fce353dde89447429c822294db5ea27d",
       "version_major": 2,
       "version_minor": 0
      },
      "text/plain": [
       "HBox(children=(IntProgress(value=0, max=1), HTML(value='')))"
      ]
     },
     "metadata": {},
     "output_type": "display_data"
    },
    {
     "name": "stdout",
     "output_type": "stream",
     "text": [
      "\n",
      "\r",
      "Train Cost: 14383.7138671875\n",
      "\r",
      "Test Cost: 56041.0\n",
      "\r\n",
      "Epoch: 4\n"
     ]
    },
    {
     "data": {
      "application/vnd.jupyter.widget-view+json": {
       "model_id": "4c5b27cab4014109b9ead4bd29914a28",
       "version_major": 2,
       "version_minor": 0
      },
      "text/plain": [
       "HBox(children=(IntProgress(value=0, max=1), HTML(value='')))"
      ]
     },
     "metadata": {},
     "output_type": "display_data"
    },
    {
     "name": "stdout",
     "output_type": "stream",
     "text": [
      "\n"
     ]
    },
    {
     "data": {
      "application/vnd.jupyter.widget-view+json": {
       "model_id": "b4f4c32494d34f539d0a5ceb20f755f8",
       "version_major": 2,
       "version_minor": 0
      },
      "text/plain": [
       "HBox(children=(IntProgress(value=0, max=1), HTML(value='')))"
      ]
     },
     "metadata": {},
     "output_type": "display_data"
    },
    {
     "name": "stdout",
     "output_type": "stream",
     "text": [
      "\n",
      "\r",
      "Train Cost: 11527.1845703125\n",
      "\r",
      "Test Cost: 52365.5078125\n",
      "\r\n",
      "Epoch: 5\n"
     ]
    },
    {
     "data": {
      "application/vnd.jupyter.widget-view+json": {
       "model_id": "2de30c7a10554f5b88f639f86765e818",
       "version_major": 2,
       "version_minor": 0
      },
      "text/plain": [
       "HBox(children=(IntProgress(value=0, max=1), HTML(value='')))"
      ]
     },
     "metadata": {},
     "output_type": "display_data"
    },
    {
     "name": "stdout",
     "output_type": "stream",
     "text": [
      "\n"
     ]
    },
    {
     "data": {
      "application/vnd.jupyter.widget-view+json": {
       "model_id": "ab25efee0c1145e1a8ef9d2a4b1cb814",
       "version_major": 2,
       "version_minor": 0
      },
      "text/plain": [
       "HBox(children=(IntProgress(value=0, max=1), HTML(value='')))"
      ]
     },
     "metadata": {},
     "output_type": "display_data"
    },
    {
     "name": "stdout",
     "output_type": "stream",
     "text": [
      "\n",
      "\r",
      "Train Cost: 10552.638671875\n",
      "\r",
      "Test Cost: 49040.97265625\n",
      "\r\n",
      "Epoch: 6\n"
     ]
    },
    {
     "data": {
      "application/vnd.jupyter.widget-view+json": {
       "model_id": "425fcfe562634a658b97036c9750ccbe",
       "version_major": 2,
       "version_minor": 0
      },
      "text/plain": [
       "HBox(children=(IntProgress(value=0, max=1), HTML(value='')))"
      ]
     },
     "metadata": {},
     "output_type": "display_data"
    },
    {
     "name": "stdout",
     "output_type": "stream",
     "text": [
      "\n"
     ]
    },
    {
     "data": {
      "application/vnd.jupyter.widget-view+json": {
       "model_id": "a822aef3019d4986ac74e4d3e6701fc8",
       "version_major": 2,
       "version_minor": 0
      },
      "text/plain": [
       "HBox(children=(IntProgress(value=0, max=1), HTML(value='')))"
      ]
     },
     "metadata": {},
     "output_type": "display_data"
    },
    {
     "name": "stdout",
     "output_type": "stream",
     "text": [
      "\n",
      "\r",
      "Train Cost: 8192.7275390625\n",
      "\r",
      "Test Cost: 44193.953125\n",
      "\r\n",
      "Epoch: 7\n"
     ]
    },
    {
     "data": {
      "application/vnd.jupyter.widget-view+json": {
       "model_id": "5ab8a4f7d6e245d3b77a0589a326aa32",
       "version_major": 2,
       "version_minor": 0
      },
      "text/plain": [
       "HBox(children=(IntProgress(value=0, max=1), HTML(value='')))"
      ]
     },
     "metadata": {},
     "output_type": "display_data"
    },
    {
     "name": "stdout",
     "output_type": "stream",
     "text": [
      "\n"
     ]
    },
    {
     "data": {
      "application/vnd.jupyter.widget-view+json": {
       "model_id": "76a26adc843c4344bc39601b3c6b5750",
       "version_major": 2,
       "version_minor": 0
      },
      "text/plain": [
       "HBox(children=(IntProgress(value=0, max=1), HTML(value='')))"
      ]
     },
     "metadata": {},
     "output_type": "display_data"
    },
    {
     "name": "stdout",
     "output_type": "stream",
     "text": [
      "\n",
      "\r",
      "Train Cost: 7914.30810546875\n",
      "\r",
      "Test Cost: 39273.8671875\n",
      "\r\n",
      "Epoch: 8\n"
     ]
    },
    {
     "data": {
      "application/vnd.jupyter.widget-view+json": {
       "model_id": "42656ebcff7040baadeca037ba2d7910",
       "version_major": 2,
       "version_minor": 0
      },
      "text/plain": [
       "HBox(children=(IntProgress(value=0, max=1), HTML(value='')))"
      ]
     },
     "metadata": {},
     "output_type": "display_data"
    },
    {
     "name": "stdout",
     "output_type": "stream",
     "text": [
      "\n"
     ]
    },
    {
     "data": {
      "application/vnd.jupyter.widget-view+json": {
       "model_id": "4db2d68ef5f14231a983e12e79d4cadd",
       "version_major": 2,
       "version_minor": 0
      },
      "text/plain": [
       "HBox(children=(IntProgress(value=0, max=1), HTML(value='')))"
      ]
     },
     "metadata": {},
     "output_type": "display_data"
    },
    {
     "name": "stdout",
     "output_type": "stream",
     "text": [
      "\n",
      "\r",
      "Train Cost: 6359.15185546875\n",
      "\r",
      "Test Cost: 35176.66796875\n",
      "\r\n",
      "Epoch: 9\n"
     ]
    },
    {
     "data": {
      "application/vnd.jupyter.widget-view+json": {
       "model_id": "3ecfe54c5e33425f8c66e6dd4a7867c5",
       "version_major": 2,
       "version_minor": 0
      },
      "text/plain": [
       "HBox(children=(IntProgress(value=0, max=1), HTML(value='')))"
      ]
     },
     "metadata": {},
     "output_type": "display_data"
    },
    {
     "name": "stdout",
     "output_type": "stream",
     "text": [
      "\n"
     ]
    },
    {
     "data": {
      "application/vnd.jupyter.widget-view+json": {
       "model_id": "2bbea9a07851415185e5e67341a5d26b",
       "version_major": 2,
       "version_minor": 0
      },
      "text/plain": [
       "HBox(children=(IntProgress(value=0, max=1), HTML(value='')))"
      ]
     },
     "metadata": {},
     "output_type": "display_data"
    },
    {
     "name": "stdout",
     "output_type": "stream",
     "text": [
      "\n",
      "\r",
      "Train Cost: 5834.88671875\n",
      "\r",
      "Test Cost: 32815.25\n",
      "\r\n",
      "Epoch: 10\n"
     ]
    },
    {
     "data": {
      "application/vnd.jupyter.widget-view+json": {
       "model_id": "300e04bfa38c4b4ca1e8c31e5e6f29fc",
       "version_major": 2,
       "version_minor": 0
      },
      "text/plain": [
       "HBox(children=(IntProgress(value=0, max=1), HTML(value='')))"
      ]
     },
     "metadata": {},
     "output_type": "display_data"
    },
    {
     "name": "stdout",
     "output_type": "stream",
     "text": [
      "\n"
     ]
    },
    {
     "data": {
      "application/vnd.jupyter.widget-view+json": {
       "model_id": "ac2f1d34ddf44de4a4a753e9ce7839e5",
       "version_major": 2,
       "version_minor": 0
      },
      "text/plain": [
       "HBox(children=(IntProgress(value=0, max=1), HTML(value='')))"
      ]
     },
     "metadata": {},
     "output_type": "display_data"
    },
    {
     "name": "stdout",
     "output_type": "stream",
     "text": [
      "\n",
      "\r",
      "Train Cost: 5725.8818359375\n",
      "\r",
      "Test Cost: 29638.548828125\n",
      "\r\n",
      "Epoch: 11\n"
     ]
    },
    {
     "data": {
      "application/vnd.jupyter.widget-view+json": {
       "model_id": "e12eecd47e5143848ac37e731bedbd9a",
       "version_major": 2,
       "version_minor": 0
      },
      "text/plain": [
       "HBox(children=(IntProgress(value=0, max=1), HTML(value='')))"
      ]
     },
     "metadata": {},
     "output_type": "display_data"
    },
    {
     "name": "stdout",
     "output_type": "stream",
     "text": [
      "\n"
     ]
    },
    {
     "data": {
      "application/vnd.jupyter.widget-view+json": {
       "model_id": "21294341d89f4af28600ca4614ab7b49",
       "version_major": 2,
       "version_minor": 0
      },
      "text/plain": [
       "HBox(children=(IntProgress(value=0, max=1), HTML(value='')))"
      ]
     },
     "metadata": {},
     "output_type": "display_data"
    },
    {
     "name": "stdout",
     "output_type": "stream",
     "text": [
      "\n",
      "\r",
      "Train Cost: 5147.29150390625\n",
      "\r",
      "Test Cost: 25636.23046875\n",
      "\r\n",
      "Epoch: 12\n"
     ]
    },
    {
     "data": {
      "application/vnd.jupyter.widget-view+json": {
       "model_id": "84adcb3edb3e4e5ba0120f1302987b8d",
       "version_major": 2,
       "version_minor": 0
      },
      "text/plain": [
       "HBox(children=(IntProgress(value=0, max=1), HTML(value='')))"
      ]
     },
     "metadata": {},
     "output_type": "display_data"
    },
    {
     "name": "stdout",
     "output_type": "stream",
     "text": [
      "\n"
     ]
    },
    {
     "data": {
      "application/vnd.jupyter.widget-view+json": {
       "model_id": "6cad96a1f1fd44d4bd0e2e06e181958a",
       "version_major": 2,
       "version_minor": 0
      },
      "text/plain": [
       "HBox(children=(IntProgress(value=0, max=1), HTML(value='')))"
      ]
     },
     "metadata": {},
     "output_type": "display_data"
    },
    {
     "name": "stdout",
     "output_type": "stream",
     "text": [
      "\n",
      "\r",
      "Train Cost: 4910.333984375\n",
      "\r",
      "Test Cost: 21441.140625\n",
      "\r\n",
      "Epoch: 13\n"
     ]
    },
    {
     "data": {
      "application/vnd.jupyter.widget-view+json": {
       "model_id": "83144d79269d4144b75e32b6dde94558",
       "version_major": 2,
       "version_minor": 0
      },
      "text/plain": [
       "HBox(children=(IntProgress(value=0, max=1), HTML(value='')))"
      ]
     },
     "metadata": {},
     "output_type": "display_data"
    },
    {
     "name": "stdout",
     "output_type": "stream",
     "text": [
      "\n"
     ]
    },
    {
     "data": {
      "application/vnd.jupyter.widget-view+json": {
       "model_id": "818f5694a6e34db49f092cc6811a5812",
       "version_major": 2,
       "version_minor": 0
      },
      "text/plain": [
       "HBox(children=(IntProgress(value=0, max=1), HTML(value='')))"
      ]
     },
     "metadata": {},
     "output_type": "display_data"
    },
    {
     "name": "stdout",
     "output_type": "stream",
     "text": [
      "\n",
      "\r",
      "Train Cost: 4780.08935546875\n",
      "\r",
      "Test Cost: 18515.806640625\n",
      "\r\n",
      "Epoch: 14\n"
     ]
    },
    {
     "data": {
      "application/vnd.jupyter.widget-view+json": {
       "model_id": "58b85eb659a04e24a3aeb82495a6b88d",
       "version_major": 2,
       "version_minor": 0
      },
      "text/plain": [
       "HBox(children=(IntProgress(value=0, max=1), HTML(value='')))"
      ]
     },
     "metadata": {},
     "output_type": "display_data"
    },
    {
     "name": "stdout",
     "output_type": "stream",
     "text": [
      "\n"
     ]
    },
    {
     "data": {
      "application/vnd.jupyter.widget-view+json": {
       "model_id": "54f40f118ae84dfabe31c77b70ec4989",
       "version_major": 2,
       "version_minor": 0
      },
      "text/plain": [
       "HBox(children=(IntProgress(value=0, max=1), HTML(value='')))"
      ]
     },
     "metadata": {},
     "output_type": "display_data"
    },
    {
     "name": "stdout",
     "output_type": "stream",
     "text": [
      "\n",
      "\r",
      "Train Cost: 4331.9111328125\n",
      "\r",
      "Test Cost: 17161.724609375\n",
      "\r\n",
      "Epoch: 15\n"
     ]
    },
    {
     "data": {
      "application/vnd.jupyter.widget-view+json": {
       "model_id": "23f22e53e29c4b438e23ce0235af793a",
       "version_major": 2,
       "version_minor": 0
      },
      "text/plain": [
       "HBox(children=(IntProgress(value=0, max=1), HTML(value='')))"
      ]
     },
     "metadata": {},
     "output_type": "display_data"
    },
    {
     "name": "stdout",
     "output_type": "stream",
     "text": [
      "\n"
     ]
    },
    {
     "data": {
      "application/vnd.jupyter.widget-view+json": {
       "model_id": "680cb58a798449b590338f30b224315e",
       "version_major": 2,
       "version_minor": 0
      },
      "text/plain": [
       "HBox(children=(IntProgress(value=0, max=1), HTML(value='')))"
      ]
     },
     "metadata": {},
     "output_type": "display_data"
    },
    {
     "name": "stdout",
     "output_type": "stream",
     "text": [
      "\n",
      "\r",
      "Train Cost: 4095.356689453125\n",
      "\r",
      "Test Cost: 15682.251953125\n",
      "\r\n",
      "Epoch: 16\n"
     ]
    },
    {
     "data": {
      "application/vnd.jupyter.widget-view+json": {
       "model_id": "10443ee07628497e815f58b3bc1c316f",
       "version_major": 2,
       "version_minor": 0
      },
      "text/plain": [
       "HBox(children=(IntProgress(value=0, max=1), HTML(value='')))"
      ]
     },
     "metadata": {},
     "output_type": "display_data"
    },
    {
     "name": "stdout",
     "output_type": "stream",
     "text": [
      "\n"
     ]
    },
    {
     "data": {
      "application/vnd.jupyter.widget-view+json": {
       "model_id": "10c515eb5b8d438094cd23272412fe02",
       "version_major": 2,
       "version_minor": 0
      },
      "text/plain": [
       "HBox(children=(IntProgress(value=0, max=1), HTML(value='')))"
      ]
     },
     "metadata": {},
     "output_type": "display_data"
    },
    {
     "name": "stdout",
     "output_type": "stream",
     "text": [
      "\n",
      "\r",
      "Train Cost: 4002.140869140625\n",
      "\r",
      "Test Cost: 13320.951171875\n",
      "\r\n",
      "Epoch: 17\n"
     ]
    },
    {
     "data": {
      "application/vnd.jupyter.widget-view+json": {
       "model_id": "2ac85731306f478f9d5cf8d48c23c8be",
       "version_major": 2,
       "version_minor": 0
      },
      "text/plain": [
       "HBox(children=(IntProgress(value=0, max=1), HTML(value='')))"
      ]
     },
     "metadata": {},
     "output_type": "display_data"
    },
    {
     "name": "stdout",
     "output_type": "stream",
     "text": [
      "\n"
     ]
    },
    {
     "data": {
      "application/vnd.jupyter.widget-view+json": {
       "model_id": "424964a62c5e48cf9d73f4400d7c1c3f",
       "version_major": 2,
       "version_minor": 0
      },
      "text/plain": [
       "HBox(children=(IntProgress(value=0, max=1), HTML(value='')))"
      ]
     },
     "metadata": {},
     "output_type": "display_data"
    },
    {
     "name": "stdout",
     "output_type": "stream",
     "text": [
      "\n",
      "\r",
      "Train Cost: 3813.066650390625\n",
      "\r",
      "Test Cost: 10978.1474609375\n",
      "\r\n",
      "Epoch: 18\n"
     ]
    },
    {
     "data": {
      "application/vnd.jupyter.widget-view+json": {
       "model_id": "38299d5487364b71bc7810f8bceb3c46",
       "version_major": 2,
       "version_minor": 0
      },
      "text/plain": [
       "HBox(children=(IntProgress(value=0, max=1), HTML(value='')))"
      ]
     },
     "metadata": {},
     "output_type": "display_data"
    },
    {
     "name": "stdout",
     "output_type": "stream",
     "text": [
      "\n"
     ]
    },
    {
     "data": {
      "application/vnd.jupyter.widget-view+json": {
       "model_id": "a1f7fdd16dd6444aa55d43881847ee0f",
       "version_major": 2,
       "version_minor": 0
      },
      "text/plain": [
       "HBox(children=(IntProgress(value=0, max=1), HTML(value='')))"
      ]
     },
     "metadata": {},
     "output_type": "display_data"
    },
    {
     "name": "stdout",
     "output_type": "stream",
     "text": [
      "\n",
      "\r",
      "Train Cost: 4137.3544921875\n",
      "\r",
      "Test Cost: 9310.96875\n",
      "\r\n",
      "Epoch: 19\n"
     ]
    },
    {
     "data": {
      "application/vnd.jupyter.widget-view+json": {
       "model_id": "78d965250d7d47e3957bf1859e7932a2",
       "version_major": 2,
       "version_minor": 0
      },
      "text/plain": [
       "HBox(children=(IntProgress(value=0, max=1), HTML(value='')))"
      ]
     },
     "metadata": {},
     "output_type": "display_data"
    },
    {
     "name": "stdout",
     "output_type": "stream",
     "text": [
      "\n"
     ]
    },
    {
     "data": {
      "application/vnd.jupyter.widget-view+json": {
       "model_id": "648dfe9386624135bb5f66dfe874e702",
       "version_major": 2,
       "version_minor": 0
      },
      "text/plain": [
       "HBox(children=(IntProgress(value=0, max=1), HTML(value='')))"
      ]
     },
     "metadata": {},
     "output_type": "display_data"
    },
    {
     "name": "stdout",
     "output_type": "stream",
     "text": [
      "\n",
      "\r",
      "Train Cost: 4105.21826171875\n",
      "\r",
      "Test Cost: 8367.869140625\n",
      "\r\n",
      "Epoch: 20\n"
     ]
    },
    {
     "data": {
      "application/vnd.jupyter.widget-view+json": {
       "model_id": "1ced7d11ccab4e21a5c6abd745134ac7",
       "version_major": 2,
       "version_minor": 0
      },
      "text/plain": [
       "HBox(children=(IntProgress(value=0, max=1), HTML(value='')))"
      ]
     },
     "metadata": {},
     "output_type": "display_data"
    },
    {
     "name": "stdout",
     "output_type": "stream",
     "text": [
      "\n"
     ]
    },
    {
     "data": {
      "application/vnd.jupyter.widget-view+json": {
       "model_id": "ae57b0a9595b4ab7bbd9f42af5e460bd",
       "version_major": 2,
       "version_minor": 0
      },
      "text/plain": [
       "HBox(children=(IntProgress(value=0, max=1), HTML(value='')))"
      ]
     },
     "metadata": {},
     "output_type": "display_data"
    },
    {
     "name": "stdout",
     "output_type": "stream",
     "text": [
      "\n",
      "\r",
      "Train Cost: 3853.198974609375\n",
      "\r",
      "Test Cost: 7777.78515625\n",
      "\r\n",
      "Epoch: 21\n"
     ]
    },
    {
     "data": {
      "application/vnd.jupyter.widget-view+json": {
       "model_id": "3b5af6d9ddfe4468b4cb3716ffc73361",
       "version_major": 2,
       "version_minor": 0
      },
      "text/plain": [
       "HBox(children=(IntProgress(value=0, max=1), HTML(value='')))"
      ]
     },
     "metadata": {},
     "output_type": "display_data"
    },
    {
     "name": "stdout",
     "output_type": "stream",
     "text": [
      "\n"
     ]
    },
    {
     "data": {
      "application/vnd.jupyter.widget-view+json": {
       "model_id": "22cc56d2f1404e6c8fbb00eed98d6980",
       "version_major": 2,
       "version_minor": 0
      },
      "text/plain": [
       "HBox(children=(IntProgress(value=0, max=1), HTML(value='')))"
      ]
     },
     "metadata": {},
     "output_type": "display_data"
    },
    {
     "name": "stdout",
     "output_type": "stream",
     "text": [
      "\n",
      "\r",
      "Train Cost: 3329.463134765625\n",
      "\r",
      "Test Cost: 7699.580078125\n",
      "\r\n",
      "Epoch: 22\n"
     ]
    },
    {
     "data": {
      "application/vnd.jupyter.widget-view+json": {
       "model_id": "fc4a0eb9459f4689bf4721010749584d",
       "version_major": 2,
       "version_minor": 0
      },
      "text/plain": [
       "HBox(children=(IntProgress(value=0, max=1), HTML(value='')))"
      ]
     },
     "metadata": {},
     "output_type": "display_data"
    },
    {
     "name": "stdout",
     "output_type": "stream",
     "text": [
      "\n"
     ]
    },
    {
     "data": {
      "application/vnd.jupyter.widget-view+json": {
       "model_id": "f4f2a11201a44537b57c3fc1a2ada8ac",
       "version_major": 2,
       "version_minor": 0
      },
      "text/plain": [
       "HBox(children=(IntProgress(value=0, max=1), HTML(value='')))"
      ]
     },
     "metadata": {},
     "output_type": "display_data"
    },
    {
     "name": "stdout",
     "output_type": "stream",
     "text": [
      "\n",
      "\r",
      "Train Cost: 3290.615234375\n",
      "\r",
      "Test Cost: 6922.7587890625\n",
      "\r\n",
      "Epoch: 23\n"
     ]
    },
    {
     "data": {
      "application/vnd.jupyter.widget-view+json": {
       "model_id": "32624d73d8d5404bac7890667e641660",
       "version_major": 2,
       "version_minor": 0
      },
      "text/plain": [
       "HBox(children=(IntProgress(value=0, max=1), HTML(value='')))"
      ]
     },
     "metadata": {},
     "output_type": "display_data"
    },
    {
     "name": "stdout",
     "output_type": "stream",
     "text": [
      "\n"
     ]
    },
    {
     "data": {
      "application/vnd.jupyter.widget-view+json": {
       "model_id": "7eaf6246e74c4f1e9db30497eda70a43",
       "version_major": 2,
       "version_minor": 0
      },
      "text/plain": [
       "HBox(children=(IntProgress(value=0, max=1), HTML(value='')))"
      ]
     },
     "metadata": {},
     "output_type": "display_data"
    },
    {
     "name": "stdout",
     "output_type": "stream",
     "text": [
      "\n",
      "\r",
      "Train Cost: 3511.56396484375\n",
      "\r",
      "Test Cost: 5845.57421875\n",
      "\r\n",
      "Epoch: 24\n"
     ]
    },
    {
     "data": {
      "application/vnd.jupyter.widget-view+json": {
       "model_id": "8a79e015d8144b62bcbe44bf76981b7f",
       "version_major": 2,
       "version_minor": 0
      },
      "text/plain": [
       "HBox(children=(IntProgress(value=0, max=1), HTML(value='')))"
      ]
     },
     "metadata": {},
     "output_type": "display_data"
    },
    {
     "name": "stdout",
     "output_type": "stream",
     "text": [
      "\n"
     ]
    },
    {
     "data": {
      "application/vnd.jupyter.widget-view+json": {
       "model_id": "40bc8a19130a48ca91a6d3444c3adba3",
       "version_major": 2,
       "version_minor": 0
      },
      "text/plain": [
       "HBox(children=(IntProgress(value=0, max=1), HTML(value='')))"
      ]
     },
     "metadata": {},
     "output_type": "display_data"
    },
    {
     "name": "stdout",
     "output_type": "stream",
     "text": [
      "\n",
      "\r",
      "Train Cost: 3341.436279296875\n",
      "\r",
      "Test Cost: 5542.58154296875\n",
      "\r\n",
      "Epoch: 25\n"
     ]
    },
    {
     "data": {
      "application/vnd.jupyter.widget-view+json": {
       "model_id": "8183873292f349a983b20be3409dc978",
       "version_major": 2,
       "version_minor": 0
      },
      "text/plain": [
       "HBox(children=(IntProgress(value=0, max=1), HTML(value='')))"
      ]
     },
     "metadata": {},
     "output_type": "display_data"
    },
    {
     "name": "stdout",
     "output_type": "stream",
     "text": [
      "\n"
     ]
    },
    {
     "data": {
      "application/vnd.jupyter.widget-view+json": {
       "model_id": "e8096874f0584e6e92c38cbf6bcc1d56",
       "version_major": 2,
       "version_minor": 0
      },
      "text/plain": [
       "HBox(children=(IntProgress(value=0, max=1), HTML(value='')))"
      ]
     },
     "metadata": {},
     "output_type": "display_data"
    },
    {
     "name": "stdout",
     "output_type": "stream",
     "text": [
      "\n",
      "\r",
      "Train Cost: 2978.310546875\n",
      "\r",
      "Test Cost: 5515.26806640625\n",
      "\r\n",
      "Epoch: 26\n"
     ]
    },
    {
     "data": {
      "application/vnd.jupyter.widget-view+json": {
       "model_id": "a12571aea69048aca0001f1fb330f56b",
       "version_major": 2,
       "version_minor": 0
      },
      "text/plain": [
       "HBox(children=(IntProgress(value=0, max=1), HTML(value='')))"
      ]
     },
     "metadata": {},
     "output_type": "display_data"
    },
    {
     "name": "stdout",
     "output_type": "stream",
     "text": [
      "\n"
     ]
    },
    {
     "data": {
      "application/vnd.jupyter.widget-view+json": {
       "model_id": "7750e1f7666a4b8ea260ccd010bdf8e0",
       "version_major": 2,
       "version_minor": 0
      },
      "text/plain": [
       "HBox(children=(IntProgress(value=0, max=1), HTML(value='')))"
      ]
     },
     "metadata": {},
     "output_type": "display_data"
    },
    {
     "name": "stdout",
     "output_type": "stream",
     "text": [
      "\n",
      "\r",
      "Train Cost: 3750.333984375\n",
      "\r",
      "Test Cost: 4680.79345703125\n",
      "\r\n",
      "Epoch: 27\n"
     ]
    },
    {
     "data": {
      "application/vnd.jupyter.widget-view+json": {
       "model_id": "9785b8be220347b2b8de227caf875fe8",
       "version_major": 2,
       "version_minor": 0
      },
      "text/plain": [
       "HBox(children=(IntProgress(value=0, max=1), HTML(value='')))"
      ]
     },
     "metadata": {},
     "output_type": "display_data"
    },
    {
     "name": "stdout",
     "output_type": "stream",
     "text": [
      "\n"
     ]
    },
    {
     "data": {
      "application/vnd.jupyter.widget-view+json": {
       "model_id": "41195f9bdaa74296870167ebd30be975",
       "version_major": 2,
       "version_minor": 0
      },
      "text/plain": [
       "HBox(children=(IntProgress(value=0, max=1), HTML(value='')))"
      ]
     },
     "metadata": {},
     "output_type": "display_data"
    },
    {
     "name": "stdout",
     "output_type": "stream",
     "text": [
      "\n",
      "\r",
      "Train Cost: 3160.34521484375\n",
      "\r",
      "Test Cost: 4164.91845703125\n",
      "\r\n",
      "Epoch: 28\n"
     ]
    },
    {
     "data": {
      "application/vnd.jupyter.widget-view+json": {
       "model_id": "22a8a8158335432392e47bc9b3c596a7",
       "version_major": 2,
       "version_minor": 0
      },
      "text/plain": [
       "HBox(children=(IntProgress(value=0, max=1), HTML(value='')))"
      ]
     },
     "metadata": {},
     "output_type": "display_data"
    },
    {
     "name": "stdout",
     "output_type": "stream",
     "text": [
      "\n"
     ]
    },
    {
     "data": {
      "application/vnd.jupyter.widget-view+json": {
       "model_id": "807b314126084ad488c8d640d7b976ee",
       "version_major": 2,
       "version_minor": 0
      },
      "text/plain": [
       "HBox(children=(IntProgress(value=0, max=1), HTML(value='')))"
      ]
     },
     "metadata": {},
     "output_type": "display_data"
    },
    {
     "name": "stdout",
     "output_type": "stream",
     "text": [
      "\n",
      "\r",
      "Train Cost: 2825.49560546875\n",
      "\r",
      "Test Cost: 4074.64501953125\n",
      "\r\n",
      "Epoch: 29\n"
     ]
    },
    {
     "data": {
      "application/vnd.jupyter.widget-view+json": {
       "model_id": "4cd801b0a625448da0c2899f92f329b4",
       "version_major": 2,
       "version_minor": 0
      },
      "text/plain": [
       "HBox(children=(IntProgress(value=0, max=1), HTML(value='')))"
      ]
     },
     "metadata": {},
     "output_type": "display_data"
    },
    {
     "name": "stdout",
     "output_type": "stream",
     "text": [
      "\n"
     ]
    },
    {
     "data": {
      "application/vnd.jupyter.widget-view+json": {
       "model_id": "ceb07109f6b34aa99fc4cd88d8940aae",
       "version_major": 2,
       "version_minor": 0
      },
      "text/plain": [
       "HBox(children=(IntProgress(value=0, max=1), HTML(value='')))"
      ]
     },
     "metadata": {},
     "output_type": "display_data"
    },
    {
     "name": "stdout",
     "output_type": "stream",
     "text": [
      "\n",
      "\r",
      "Train Cost: 2831.132080078125\n",
      "\r",
      "Test Cost: 3716.732421875\n",
      "\r\n",
      "Epoch: 30\n"
     ]
    },
    {
     "data": {
      "application/vnd.jupyter.widget-view+json": {
       "model_id": "f61ae8282c2b4f4a897e08d0e9c7a98d",
       "version_major": 2,
       "version_minor": 0
      },
      "text/plain": [
       "HBox(children=(IntProgress(value=0, max=1), HTML(value='')))"
      ]
     },
     "metadata": {},
     "output_type": "display_data"
    },
    {
     "name": "stdout",
     "output_type": "stream",
     "text": [
      "\n"
     ]
    },
    {
     "data": {
      "application/vnd.jupyter.widget-view+json": {
       "model_id": "18601fcdbdab4c589a8d81d7a6f9ed2e",
       "version_major": 2,
       "version_minor": 0
      },
      "text/plain": [
       "HBox(children=(IntProgress(value=0, max=1), HTML(value='')))"
      ]
     },
     "metadata": {},
     "output_type": "display_data"
    },
    {
     "name": "stdout",
     "output_type": "stream",
     "text": [
      "\n",
      "\r",
      "Train Cost: 3126.889892578125\n",
      "\r",
      "Test Cost: 3273.76025390625\n",
      "\r\n",
      "Epoch: 31\n"
     ]
    },
    {
     "data": {
      "application/vnd.jupyter.widget-view+json": {
       "model_id": "59b19acb1f6d4e5f9cb8c32014647be1",
       "version_major": 2,
       "version_minor": 0
      },
      "text/plain": [
       "HBox(children=(IntProgress(value=0, max=1), HTML(value='')))"
      ]
     },
     "metadata": {},
     "output_type": "display_data"
    },
    {
     "name": "stdout",
     "output_type": "stream",
     "text": [
      "\n"
     ]
    },
    {
     "data": {
      "application/vnd.jupyter.widget-view+json": {
       "model_id": "094ca9c055e640fba0abd5f8de8a5344",
       "version_major": 2,
       "version_minor": 0
      },
      "text/plain": [
       "HBox(children=(IntProgress(value=0, max=1), HTML(value='')))"
      ]
     },
     "metadata": {},
     "output_type": "display_data"
    },
    {
     "name": "stdout",
     "output_type": "stream",
     "text": [
      "\n",
      "\r",
      "Train Cost: 2960.889892578125\n",
      "\r",
      "Test Cost: 3339.920654296875\n",
      "\r\n",
      "Epoch: 32\n"
     ]
    },
    {
     "data": {
      "application/vnd.jupyter.widget-view+json": {
       "model_id": "d56e6ab6dc6647b9ac5217273268d1f7",
       "version_major": 2,
       "version_minor": 0
      },
      "text/plain": [
       "HBox(children=(IntProgress(value=0, max=1), HTML(value='')))"
      ]
     },
     "metadata": {},
     "output_type": "display_data"
    },
    {
     "name": "stdout",
     "output_type": "stream",
     "text": [
      "\n"
     ]
    },
    {
     "data": {
      "application/vnd.jupyter.widget-view+json": {
       "model_id": "05900b76c2e34a1b9ea1846d3fd89f7a",
       "version_major": 2,
       "version_minor": 0
      },
      "text/plain": [
       "HBox(children=(IntProgress(value=0, max=1), HTML(value='')))"
      ]
     },
     "metadata": {},
     "output_type": "display_data"
    },
    {
     "name": "stdout",
     "output_type": "stream",
     "text": [
      "\n",
      "\r",
      "Train Cost: 2896.53857421875\n",
      "\r",
      "Test Cost: 3208.01513671875\n",
      "\r\n",
      "Epoch: 33\n"
     ]
    },
    {
     "data": {
      "application/vnd.jupyter.widget-view+json": {
       "model_id": "fd2fbe64bc8848ce8c62f39cb6c4139e",
       "version_major": 2,
       "version_minor": 0
      },
      "text/plain": [
       "HBox(children=(IntProgress(value=0, max=1), HTML(value='')))"
      ]
     },
     "metadata": {},
     "output_type": "display_data"
    },
    {
     "name": "stdout",
     "output_type": "stream",
     "text": [
      "\n"
     ]
    },
    {
     "data": {
      "application/vnd.jupyter.widget-view+json": {
       "model_id": "03d4c7e56649401392eaafa549caf660",
       "version_major": 2,
       "version_minor": 0
      },
      "text/plain": [
       "HBox(children=(IntProgress(value=0, max=1), HTML(value='')))"
      ]
     },
     "metadata": {},
     "output_type": "display_data"
    },
    {
     "name": "stdout",
     "output_type": "stream",
     "text": [
      "\n",
      "\r",
      "Train Cost: 2691.33544921875\n",
      "\r",
      "Test Cost: 3301.857421875\n",
      "\r\n",
      "Epoch: 34\n"
     ]
    },
    {
     "data": {
      "application/vnd.jupyter.widget-view+json": {
       "model_id": "ee8608683ed04bcda32aba96c09c10ce",
       "version_major": 2,
       "version_minor": 0
      },
      "text/plain": [
       "HBox(children=(IntProgress(value=0, max=1), HTML(value='')))"
      ]
     },
     "metadata": {},
     "output_type": "display_data"
    },
    {
     "name": "stdout",
     "output_type": "stream",
     "text": [
      "\n"
     ]
    },
    {
     "data": {
      "application/vnd.jupyter.widget-view+json": {
       "model_id": "0246697fd6f84e0597c7d85a807c348d",
       "version_major": 2,
       "version_minor": 0
      },
      "text/plain": [
       "HBox(children=(IntProgress(value=0, max=1), HTML(value='')))"
      ]
     },
     "metadata": {},
     "output_type": "display_data"
    },
    {
     "name": "stdout",
     "output_type": "stream",
     "text": [
      "\n",
      "\r",
      "Train Cost: 2631.664794921875\n",
      "\r",
      "Test Cost: 3423.354248046875\n",
      "\r\n",
      "Epoch: 35\n"
     ]
    },
    {
     "data": {
      "application/vnd.jupyter.widget-view+json": {
       "model_id": "e34de18a2a784ca39cdd547091ade849",
       "version_major": 2,
       "version_minor": 0
      },
      "text/plain": [
       "HBox(children=(IntProgress(value=0, max=1), HTML(value='')))"
      ]
     },
     "metadata": {},
     "output_type": "display_data"
    },
    {
     "name": "stdout",
     "output_type": "stream",
     "text": [
      "\n"
     ]
    },
    {
     "data": {
      "application/vnd.jupyter.widget-view+json": {
       "model_id": "439b038652ef441ca386f4c7ca2dffcd",
       "version_major": 2,
       "version_minor": 0
      },
      "text/plain": [
       "HBox(children=(IntProgress(value=0, max=1), HTML(value='')))"
      ]
     },
     "metadata": {},
     "output_type": "display_data"
    },
    {
     "name": "stdout",
     "output_type": "stream",
     "text": [
      "\n",
      "\r",
      "Train Cost: 2659.374267578125\n",
      "\r",
      "Test Cost: 3277.901123046875\n",
      "\r\n",
      "Epoch: 36\n"
     ]
    },
    {
     "data": {
      "application/vnd.jupyter.widget-view+json": {
       "model_id": "46ef555b10784f0abc219c6918c22118",
       "version_major": 2,
       "version_minor": 0
      },
      "text/plain": [
       "HBox(children=(IntProgress(value=0, max=1), HTML(value='')))"
      ]
     },
     "metadata": {},
     "output_type": "display_data"
    },
    {
     "name": "stdout",
     "output_type": "stream",
     "text": [
      "\n"
     ]
    },
    {
     "data": {
      "application/vnd.jupyter.widget-view+json": {
       "model_id": "cdf6932f9370431eb9b647f0f78f7137",
       "version_major": 2,
       "version_minor": 0
      },
      "text/plain": [
       "HBox(children=(IntProgress(value=0, max=1), HTML(value='')))"
      ]
     },
     "metadata": {},
     "output_type": "display_data"
    },
    {
     "name": "stdout",
     "output_type": "stream",
     "text": [
      "\n",
      "\r",
      "Train Cost: 2614.564453125\n",
      "\r",
      "Test Cost: 3062.790283203125\n",
      "\r\n",
      "Epoch: 37\n"
     ]
    },
    {
     "data": {
      "application/vnd.jupyter.widget-view+json": {
       "model_id": "a436b7c4dafe4d95818d291d39bb8f54",
       "version_major": 2,
       "version_minor": 0
      },
      "text/plain": [
       "HBox(children=(IntProgress(value=0, max=1), HTML(value='')))"
      ]
     },
     "metadata": {},
     "output_type": "display_data"
    },
    {
     "name": "stdout",
     "output_type": "stream",
     "text": [
      "\n"
     ]
    },
    {
     "data": {
      "application/vnd.jupyter.widget-view+json": {
       "model_id": "d5d25a1a791e4e57a5d0cb713764974b",
       "version_major": 2,
       "version_minor": 0
      },
      "text/plain": [
       "HBox(children=(IntProgress(value=0, max=1), HTML(value='')))"
      ]
     },
     "metadata": {},
     "output_type": "display_data"
    },
    {
     "name": "stdout",
     "output_type": "stream",
     "text": [
      "\n",
      "\r",
      "Train Cost: 2766.56298828125\n",
      "\r",
      "Test Cost: 3067.801513671875\n",
      "\r\n",
      "Epoch: 38\n"
     ]
    },
    {
     "data": {
      "application/vnd.jupyter.widget-view+json": {
       "model_id": "10e4ac291f9a421086a4c06f55bd9a0f",
       "version_major": 2,
       "version_minor": 0
      },
      "text/plain": [
       "HBox(children=(IntProgress(value=0, max=1), HTML(value='')))"
      ]
     },
     "metadata": {},
     "output_type": "display_data"
    },
    {
     "name": "stdout",
     "output_type": "stream",
     "text": [
      "\n"
     ]
    },
    {
     "data": {
      "application/vnd.jupyter.widget-view+json": {
       "model_id": "ffa27d7ba7df42db8875ef6eef36a055",
       "version_major": 2,
       "version_minor": 0
      },
      "text/plain": [
       "HBox(children=(IntProgress(value=0, max=1), HTML(value='')))"
      ]
     },
     "metadata": {},
     "output_type": "display_data"
    },
    {
     "name": "stdout",
     "output_type": "stream",
     "text": [
      "\n",
      "\r",
      "Train Cost: 2709.75244140625\n",
      "\r",
      "Test Cost: 3153.09375\n",
      "\r\n",
      "Epoch: 39\n"
     ]
    },
    {
     "data": {
      "application/vnd.jupyter.widget-view+json": {
       "model_id": "6ea3ef7841d24b0796212a3f47c0b88b",
       "version_major": 2,
       "version_minor": 0
      },
      "text/plain": [
       "HBox(children=(IntProgress(value=0, max=1), HTML(value='')))"
      ]
     },
     "metadata": {},
     "output_type": "display_data"
    },
    {
     "name": "stdout",
     "output_type": "stream",
     "text": [
      "\n"
     ]
    },
    {
     "data": {
      "application/vnd.jupyter.widget-view+json": {
       "model_id": "1c74988a6df441e29ad1b27ddff30520",
       "version_major": 2,
       "version_minor": 0
      },
      "text/plain": [
       "HBox(children=(IntProgress(value=0, max=1), HTML(value='')))"
      ]
     },
     "metadata": {},
     "output_type": "display_data"
    },
    {
     "name": "stdout",
     "output_type": "stream",
     "text": [
      "\n",
      "\r",
      "Train Cost: 2486.69091796875\n",
      "\r",
      "Test Cost: 2994.992919921875\n",
      "\r\n",
      "Epoch: 40\n"
     ]
    },
    {
     "data": {
      "application/vnd.jupyter.widget-view+json": {
       "model_id": "e8650b03e8ad47a09d6dd3463de59397",
       "version_major": 2,
       "version_minor": 0
      },
      "text/plain": [
       "HBox(children=(IntProgress(value=0, max=1), HTML(value='')))"
      ]
     },
     "metadata": {},
     "output_type": "display_data"
    },
    {
     "name": "stdout",
     "output_type": "stream",
     "text": [
      "\n"
     ]
    },
    {
     "data": {
      "application/vnd.jupyter.widget-view+json": {
       "model_id": "0891caae19cf4b579c560fdc3f922fc1",
       "version_major": 2,
       "version_minor": 0
      },
      "text/plain": [
       "HBox(children=(IntProgress(value=0, max=1), HTML(value='')))"
      ]
     },
     "metadata": {},
     "output_type": "display_data"
    },
    {
     "name": "stdout",
     "output_type": "stream",
     "text": [
      "\n",
      "\r",
      "Train Cost: 2448.6123046875\n",
      "\r",
      "Test Cost: 2980.697265625\n",
      "\r\n",
      "Epoch: 41\n"
     ]
    },
    {
     "data": {
      "application/vnd.jupyter.widget-view+json": {
       "model_id": "ae80dd36c41a4b06932fb80343dea10e",
       "version_major": 2,
       "version_minor": 0
      },
      "text/plain": [
       "HBox(children=(IntProgress(value=0, max=1), HTML(value='')))"
      ]
     },
     "metadata": {},
     "output_type": "display_data"
    },
    {
     "name": "stdout",
     "output_type": "stream",
     "text": [
      "\n"
     ]
    },
    {
     "data": {
      "application/vnd.jupyter.widget-view+json": {
       "model_id": "ec4c26d364ed41399f9be1e6dacff095",
       "version_major": 2,
       "version_minor": 0
      },
      "text/plain": [
       "HBox(children=(IntProgress(value=0, max=1), HTML(value='')))"
      ]
     },
     "metadata": {},
     "output_type": "display_data"
    },
    {
     "name": "stdout",
     "output_type": "stream",
     "text": [
      "\n",
      "\r",
      "Train Cost: 2338.053466796875\n",
      "\r",
      "Test Cost: 2965.2314453125\n",
      "\r\n",
      "Epoch: 42\n"
     ]
    },
    {
     "data": {
      "application/vnd.jupyter.widget-view+json": {
       "model_id": "7357bf625af84e3c9898f54a3e908fe0",
       "version_major": 2,
       "version_minor": 0
      },
      "text/plain": [
       "HBox(children=(IntProgress(value=0, max=1), HTML(value='')))"
      ]
     },
     "metadata": {},
     "output_type": "display_data"
    },
    {
     "name": "stdout",
     "output_type": "stream",
     "text": [
      "\n"
     ]
    },
    {
     "data": {
      "application/vnd.jupyter.widget-view+json": {
       "model_id": "0884d03e7731474bbad3eb76b2d43919",
       "version_major": 2,
       "version_minor": 0
      },
      "text/plain": [
       "HBox(children=(IntProgress(value=0, max=1), HTML(value='')))"
      ]
     },
     "metadata": {},
     "output_type": "display_data"
    },
    {
     "name": "stdout",
     "output_type": "stream",
     "text": [
      "\n",
      "\r",
      "Train Cost: 2352.352783203125\n",
      "\r",
      "Test Cost: 2938.022216796875\n",
      "\r\n",
      "Epoch: 43\n"
     ]
    },
    {
     "data": {
      "application/vnd.jupyter.widget-view+json": {
       "model_id": "5d0f05d352b34d15aa2f456062c9b448",
       "version_major": 2,
       "version_minor": 0
      },
      "text/plain": [
       "HBox(children=(IntProgress(value=0, max=1), HTML(value='')))"
      ]
     },
     "metadata": {},
     "output_type": "display_data"
    },
    {
     "name": "stdout",
     "output_type": "stream",
     "text": [
      "\n"
     ]
    },
    {
     "data": {
      "application/vnd.jupyter.widget-view+json": {
       "model_id": "94022c5c9b2342eca7967b2c7b380df1",
       "version_major": 2,
       "version_minor": 0
      },
      "text/plain": [
       "HBox(children=(IntProgress(value=0, max=1), HTML(value='')))"
      ]
     },
     "metadata": {},
     "output_type": "display_data"
    },
    {
     "name": "stdout",
     "output_type": "stream",
     "text": [
      "\n",
      "\r",
      "Train Cost: 2471.74853515625\n",
      "\r",
      "Test Cost: 2790.840087890625\n",
      "\r\n",
      "Epoch: 44\n"
     ]
    },
    {
     "data": {
      "application/vnd.jupyter.widget-view+json": {
       "model_id": "abb8a7a90167402280b798d685f46859",
       "version_major": 2,
       "version_minor": 0
      },
      "text/plain": [
       "HBox(children=(IntProgress(value=0, max=1), HTML(value='')))"
      ]
     },
     "metadata": {},
     "output_type": "display_data"
    },
    {
     "name": "stdout",
     "output_type": "stream",
     "text": [
      "\n"
     ]
    },
    {
     "data": {
      "application/vnd.jupyter.widget-view+json": {
       "model_id": "e7607b88ae4249db8a70c57fdf0eacc5",
       "version_major": 2,
       "version_minor": 0
      },
      "text/plain": [
       "HBox(children=(IntProgress(value=0, max=1), HTML(value='')))"
      ]
     },
     "metadata": {},
     "output_type": "display_data"
    },
    {
     "name": "stdout",
     "output_type": "stream",
     "text": [
      "\n",
      "\r",
      "Train Cost: 2304.850830078125\n",
      "\r",
      "Test Cost: 2658.835693359375\n",
      "\r\n",
      "Epoch: 45\n"
     ]
    },
    {
     "data": {
      "application/vnd.jupyter.widget-view+json": {
       "model_id": "a8bacfc316a84d56b5e23c038b6e7eec",
       "version_major": 2,
       "version_minor": 0
      },
      "text/plain": [
       "HBox(children=(IntProgress(value=0, max=1), HTML(value='')))"
      ]
     },
     "metadata": {},
     "output_type": "display_data"
    },
    {
     "name": "stdout",
     "output_type": "stream",
     "text": [
      "\n"
     ]
    },
    {
     "data": {
      "application/vnd.jupyter.widget-view+json": {
       "model_id": "cb541dfa984d407f973679ed9356affa",
       "version_major": 2,
       "version_minor": 0
      },
      "text/plain": [
       "HBox(children=(IntProgress(value=0, max=1), HTML(value='')))"
      ]
     },
     "metadata": {},
     "output_type": "display_data"
    },
    {
     "name": "stdout",
     "output_type": "stream",
     "text": [
      "\n",
      "\r",
      "Train Cost: 2275.25\n",
      "\r",
      "Test Cost: 2671.917724609375\n",
      "\r\n",
      "Epoch: 46\n"
     ]
    },
    {
     "data": {
      "application/vnd.jupyter.widget-view+json": {
       "model_id": "522f652bbdc54e53ae951a8446aff89e",
       "version_major": 2,
       "version_minor": 0
      },
      "text/plain": [
       "HBox(children=(IntProgress(value=0, max=1), HTML(value='')))"
      ]
     },
     "metadata": {},
     "output_type": "display_data"
    },
    {
     "name": "stdout",
     "output_type": "stream",
     "text": [
      "\n"
     ]
    },
    {
     "data": {
      "application/vnd.jupyter.widget-view+json": {
       "model_id": "a8c89f85ba7544a2a459eab9e11ec034",
       "version_major": 2,
       "version_minor": 0
      },
      "text/plain": [
       "HBox(children=(IntProgress(value=0, max=1), HTML(value='')))"
      ]
     },
     "metadata": {},
     "output_type": "display_data"
    },
    {
     "name": "stdout",
     "output_type": "stream",
     "text": [
      "\n",
      "\r",
      "Train Cost: 2192.40576171875\n",
      "\r",
      "Test Cost: 2756.308349609375\n",
      "\r\n",
      "Epoch: 47\n"
     ]
    },
    {
     "data": {
      "application/vnd.jupyter.widget-view+json": {
       "model_id": "1a8f94f512a045b2a7311be27797677d",
       "version_major": 2,
       "version_minor": 0
      },
      "text/plain": [
       "HBox(children=(IntProgress(value=0, max=1), HTML(value='')))"
      ]
     },
     "metadata": {},
     "output_type": "display_data"
    },
    {
     "name": "stdout",
     "output_type": "stream",
     "text": [
      "\n"
     ]
    },
    {
     "data": {
      "application/vnd.jupyter.widget-view+json": {
       "model_id": "1beb8af25bf841c5aa936e86632a312d",
       "version_major": 2,
       "version_minor": 0
      },
      "text/plain": [
       "HBox(children=(IntProgress(value=0, max=1), HTML(value='')))"
      ]
     },
     "metadata": {},
     "output_type": "display_data"
    },
    {
     "name": "stdout",
     "output_type": "stream",
     "text": [
      "\n",
      "\r",
      "Train Cost: 2364.571533203125\n",
      "\r",
      "Test Cost: 2428.86083984375\n",
      "\r\n",
      "Epoch: 48\n"
     ]
    },
    {
     "data": {
      "application/vnd.jupyter.widget-view+json": {
       "model_id": "4f22b8f64fce4f8b9dd2fe95349134d8",
       "version_major": 2,
       "version_minor": 0
      },
      "text/plain": [
       "HBox(children=(IntProgress(value=0, max=1), HTML(value='')))"
      ]
     },
     "metadata": {},
     "output_type": "display_data"
    },
    {
     "name": "stdout",
     "output_type": "stream",
     "text": [
      "\n"
     ]
    },
    {
     "data": {
      "application/vnd.jupyter.widget-view+json": {
       "model_id": "260d4d3d1c054d1d8d11d91a9647b350",
       "version_major": 2,
       "version_minor": 0
      },
      "text/plain": [
       "HBox(children=(IntProgress(value=0, max=1), HTML(value='')))"
      ]
     },
     "metadata": {},
     "output_type": "display_data"
    },
    {
     "name": "stdout",
     "output_type": "stream",
     "text": [
      "\n",
      "\r",
      "Train Cost: 2212.944580078125\n",
      "\r",
      "Test Cost: 2557.18994140625\n",
      "\r\n",
      "Epoch: 49\n"
     ]
    },
    {
     "data": {
      "application/vnd.jupyter.widget-view+json": {
       "model_id": "ddf6154765724d4285f2244004a24285",
       "version_major": 2,
       "version_minor": 0
      },
      "text/plain": [
       "HBox(children=(IntProgress(value=0, max=1), HTML(value='')))"
      ]
     },
     "metadata": {},
     "output_type": "display_data"
    },
    {
     "name": "stdout",
     "output_type": "stream",
     "text": [
      "\n"
     ]
    },
    {
     "data": {
      "application/vnd.jupyter.widget-view+json": {
       "model_id": "39e68c518e0142b3842b6e73043e340c",
       "version_major": 2,
       "version_minor": 0
      },
      "text/plain": [
       "HBox(children=(IntProgress(value=0, max=1), HTML(value='')))"
      ]
     },
     "metadata": {},
     "output_type": "display_data"
    },
    {
     "name": "stdout",
     "output_type": "stream",
     "text": [
      "\n",
      "\r",
      "Train Cost: 2159.439453125\n",
      "\r",
      "Test Cost: 2705.762939453125\n",
      "\r\n",
      "Epoch: 50\n"
     ]
    },
    {
     "data": {
      "application/vnd.jupyter.widget-view+json": {
       "model_id": "396f291120514c858e1f997634f377f7",
       "version_major": 2,
       "version_minor": 0
      },
      "text/plain": [
       "HBox(children=(IntProgress(value=0, max=1), HTML(value='')))"
      ]
     },
     "metadata": {},
     "output_type": "display_data"
    },
    {
     "name": "stdout",
     "output_type": "stream",
     "text": [
      "\n"
     ]
    },
    {
     "data": {
      "application/vnd.jupyter.widget-view+json": {
       "model_id": "109c2c72c3c240e5903b3a6818a33616",
       "version_major": 2,
       "version_minor": 0
      },
      "text/plain": [
       "HBox(children=(IntProgress(value=0, max=1), HTML(value='')))"
      ]
     },
     "metadata": {},
     "output_type": "display_data"
    },
    {
     "name": "stdout",
     "output_type": "stream",
     "text": [
      "\n",
      "\r",
      "Train Cost: 2152.52490234375\n",
      "\r",
      "Test Cost: 2343.583740234375\n",
      "\r\n",
      "Epoch: 51\n"
     ]
    },
    {
     "data": {
      "application/vnd.jupyter.widget-view+json": {
       "model_id": "852ed3d254654205beb1098f4da89f36",
       "version_major": 2,
       "version_minor": 0
      },
      "text/plain": [
       "HBox(children=(IntProgress(value=0, max=1), HTML(value='')))"
      ]
     },
     "metadata": {},
     "output_type": "display_data"
    },
    {
     "name": "stdout",
     "output_type": "stream",
     "text": [
      "\n"
     ]
    },
    {
     "data": {
      "application/vnd.jupyter.widget-view+json": {
       "model_id": "098ba80655e84b8b802c2443b0195f7f",
       "version_major": 2,
       "version_minor": 0
      },
      "text/plain": [
       "HBox(children=(IntProgress(value=0, max=1), HTML(value='')))"
      ]
     },
     "metadata": {},
     "output_type": "display_data"
    },
    {
     "name": "stdout",
     "output_type": "stream",
     "text": [
      "\n",
      "\r",
      "Train Cost: 2105.775146484375\n",
      "\r",
      "Test Cost: 2445.736083984375\n",
      "\r\n",
      "Epoch: 52\n"
     ]
    },
    {
     "data": {
      "application/vnd.jupyter.widget-view+json": {
       "model_id": "1de24fd9d5d04dc6b918720524eb5287",
       "version_major": 2,
       "version_minor": 0
      },
      "text/plain": [
       "HBox(children=(IntProgress(value=0, max=1), HTML(value='')))"
      ]
     },
     "metadata": {},
     "output_type": "display_data"
    },
    {
     "name": "stdout",
     "output_type": "stream",
     "text": [
      "\n"
     ]
    },
    {
     "data": {
      "application/vnd.jupyter.widget-view+json": {
       "model_id": "0d6628faf3c549499527d981b0e7ce1e",
       "version_major": 2,
       "version_minor": 0
      },
      "text/plain": [
       "HBox(children=(IntProgress(value=0, max=1), HTML(value='')))"
      ]
     },
     "metadata": {},
     "output_type": "display_data"
    },
    {
     "name": "stdout",
     "output_type": "stream",
     "text": [
      "\n",
      "\r",
      "Train Cost: 2026.0859375\n",
      "\r",
      "Test Cost: 2735.657958984375\n",
      "\r\n",
      "Epoch: 53\n"
     ]
    },
    {
     "data": {
      "application/vnd.jupyter.widget-view+json": {
       "model_id": "81a79ac57be34bbba26a4f5cf5a9c50c",
       "version_major": 2,
       "version_minor": 0
      },
      "text/plain": [
       "HBox(children=(IntProgress(value=0, max=1), HTML(value='')))"
      ]
     },
     "metadata": {},
     "output_type": "display_data"
    },
    {
     "name": "stdout",
     "output_type": "stream",
     "text": [
      "\n"
     ]
    },
    {
     "data": {
      "application/vnd.jupyter.widget-view+json": {
       "model_id": "40c2c5bae8f54524933ab28fbdad81fd",
       "version_major": 2,
       "version_minor": 0
      },
      "text/plain": [
       "HBox(children=(IntProgress(value=0, max=1), HTML(value='')))"
      ]
     },
     "metadata": {},
     "output_type": "display_data"
    },
    {
     "name": "stdout",
     "output_type": "stream",
     "text": [
      "\n",
      "\r",
      "Train Cost: 2047.0587158203125\n",
      "\r",
      "Test Cost: 2611.84130859375\n",
      "\r\n",
      "Epoch: 54\n"
     ]
    },
    {
     "data": {
      "application/vnd.jupyter.widget-view+json": {
       "model_id": "b239d493c3aa44b6a392280a289ace15",
       "version_major": 2,
       "version_minor": 0
      },
      "text/plain": [
       "HBox(children=(IntProgress(value=0, max=1), HTML(value='')))"
      ]
     },
     "metadata": {},
     "output_type": "display_data"
    },
    {
     "name": "stdout",
     "output_type": "stream",
     "text": [
      "\n"
     ]
    },
    {
     "data": {
      "application/vnd.jupyter.widget-view+json": {
       "model_id": "fbd08bf9ebb4432bb7c5c8b895dcc886",
       "version_major": 2,
       "version_minor": 0
      },
      "text/plain": [
       "HBox(children=(IntProgress(value=0, max=1), HTML(value='')))"
      ]
     },
     "metadata": {},
     "output_type": "display_data"
    },
    {
     "name": "stdout",
     "output_type": "stream",
     "text": [
      "\n",
      "\r",
      "Train Cost: 1986.988525390625\n",
      "\r",
      "Test Cost: 2397.416259765625\n",
      "\r\n",
      "Epoch: 55\n"
     ]
    },
    {
     "data": {
      "application/vnd.jupyter.widget-view+json": {
       "model_id": "c13a45b6f1ac4f46a6f837146d11d359",
       "version_major": 2,
       "version_minor": 0
      },
      "text/plain": [
       "HBox(children=(IntProgress(value=0, max=1), HTML(value='')))"
      ]
     },
     "metadata": {},
     "output_type": "display_data"
    },
    {
     "name": "stdout",
     "output_type": "stream",
     "text": [
      "\n"
     ]
    },
    {
     "data": {
      "application/vnd.jupyter.widget-view+json": {
       "model_id": "cb5390356db647e3bb9c7c793163c569",
       "version_major": 2,
       "version_minor": 0
      },
      "text/plain": [
       "HBox(children=(IntProgress(value=0, max=1), HTML(value='')))"
      ]
     },
     "metadata": {},
     "output_type": "display_data"
    },
    {
     "name": "stdout",
     "output_type": "stream",
     "text": [
      "\n",
      "\r",
      "Train Cost: 1985.6204833984375\n",
      "\r",
      "Test Cost: 2418.22412109375\n",
      "\r\n",
      "Epoch: 56\n"
     ]
    },
    {
     "data": {
      "application/vnd.jupyter.widget-view+json": {
       "model_id": "c48f638aa39b4694a76bd3954a2a66ab",
       "version_major": 2,
       "version_minor": 0
      },
      "text/plain": [
       "HBox(children=(IntProgress(value=0, max=1), HTML(value='')))"
      ]
     },
     "metadata": {},
     "output_type": "display_data"
    },
    {
     "name": "stdout",
     "output_type": "stream",
     "text": [
      "\n"
     ]
    },
    {
     "data": {
      "application/vnd.jupyter.widget-view+json": {
       "model_id": "ce61c8058ac74f05b10237d640167daf",
       "version_major": 2,
       "version_minor": 0
      },
      "text/plain": [
       "HBox(children=(IntProgress(value=0, max=1), HTML(value='')))"
      ]
     },
     "metadata": {},
     "output_type": "display_data"
    },
    {
     "name": "stdout",
     "output_type": "stream",
     "text": [
      "\n",
      "\r",
      "Train Cost: 1978.2677001953125\n",
      "\r",
      "Test Cost: 2405.7099609375\n",
      "\r\n",
      "Epoch: 57\n"
     ]
    },
    {
     "data": {
      "application/vnd.jupyter.widget-view+json": {
       "model_id": "36289973da1d4b62af8824ca1e7d60f3",
       "version_major": 2,
       "version_minor": 0
      },
      "text/plain": [
       "HBox(children=(IntProgress(value=0, max=1), HTML(value='')))"
      ]
     },
     "metadata": {},
     "output_type": "display_data"
    },
    {
     "name": "stdout",
     "output_type": "stream",
     "text": [
      "\n"
     ]
    },
    {
     "data": {
      "application/vnd.jupyter.widget-view+json": {
       "model_id": "1342fd61167a401680c8c72947397a09",
       "version_major": 2,
       "version_minor": 0
      },
      "text/plain": [
       "HBox(children=(IntProgress(value=0, max=1), HTML(value='')))"
      ]
     },
     "metadata": {},
     "output_type": "display_data"
    },
    {
     "name": "stdout",
     "output_type": "stream",
     "text": [
      "\n",
      "\r",
      "Train Cost: 1937.0379638671875\n",
      "\r",
      "Test Cost: 2194.5107421875\n",
      "\r\n",
      "Epoch: 58\n"
     ]
    },
    {
     "data": {
      "application/vnd.jupyter.widget-view+json": {
       "model_id": "873f49c9736f425997da9c0143c38323",
       "version_major": 2,
       "version_minor": 0
      },
      "text/plain": [
       "HBox(children=(IntProgress(value=0, max=1), HTML(value='')))"
      ]
     },
     "metadata": {},
     "output_type": "display_data"
    },
    {
     "name": "stdout",
     "output_type": "stream",
     "text": [
      "\n"
     ]
    },
    {
     "data": {
      "application/vnd.jupyter.widget-view+json": {
       "model_id": "00c0cb7dddd8412eaf38c4bc4c00d1ec",
       "version_major": 2,
       "version_minor": 0
      },
      "text/plain": [
       "HBox(children=(IntProgress(value=0, max=1), HTML(value='')))"
      ]
     },
     "metadata": {},
     "output_type": "display_data"
    },
    {
     "name": "stdout",
     "output_type": "stream",
     "text": [
      "\n",
      "\r",
      "Train Cost: 2025.4227294921875\n",
      "\r",
      "Test Cost: 2156.409423828125\n",
      "\r\n",
      "Epoch: 59\n"
     ]
    },
    {
     "data": {
      "application/vnd.jupyter.widget-view+json": {
       "model_id": "fa9c2c247c184fffaec86326ed3e8ebb",
       "version_major": 2,
       "version_minor": 0
      },
      "text/plain": [
       "HBox(children=(IntProgress(value=0, max=1), HTML(value='')))"
      ]
     },
     "metadata": {},
     "output_type": "display_data"
    },
    {
     "name": "stdout",
     "output_type": "stream",
     "text": [
      "\n"
     ]
    },
    {
     "data": {
      "application/vnd.jupyter.widget-view+json": {
       "model_id": "af675c456f57497da414ec707420e292",
       "version_major": 2,
       "version_minor": 0
      },
      "text/plain": [
       "HBox(children=(IntProgress(value=0, max=1), HTML(value='')))"
      ]
     },
     "metadata": {},
     "output_type": "display_data"
    },
    {
     "name": "stdout",
     "output_type": "stream",
     "text": [
      "\n",
      "\r",
      "Train Cost: 1817.669921875\n",
      "\r",
      "Test Cost: 2171.990478515625\n",
      "\r\n",
      "Epoch: 60\n"
     ]
    },
    {
     "data": {
      "application/vnd.jupyter.widget-view+json": {
       "model_id": "8cc3b5df2ebd43aeb869569675d2adcc",
       "version_major": 2,
       "version_minor": 0
      },
      "text/plain": [
       "HBox(children=(IntProgress(value=0, max=1), HTML(value='')))"
      ]
     },
     "metadata": {},
     "output_type": "display_data"
    },
    {
     "name": "stdout",
     "output_type": "stream",
     "text": [
      "\n"
     ]
    },
    {
     "data": {
      "application/vnd.jupyter.widget-view+json": {
       "model_id": "bb4e788e1bf740438cf3ef9972cc9e9c",
       "version_major": 2,
       "version_minor": 0
      },
      "text/plain": [
       "HBox(children=(IntProgress(value=0, max=1), HTML(value='')))"
      ]
     },
     "metadata": {},
     "output_type": "display_data"
    },
    {
     "name": "stdout",
     "output_type": "stream",
     "text": [
      "\n",
      "\r",
      "Train Cost: 2152.05615234375\n",
      "\r",
      "Test Cost: 2093.570556640625\n",
      "\r\n",
      "Epoch: 61\n"
     ]
    },
    {
     "data": {
      "application/vnd.jupyter.widget-view+json": {
       "model_id": "6a3b405fd396473bac57cb071917bc75",
       "version_major": 2,
       "version_minor": 0
      },
      "text/plain": [
       "HBox(children=(IntProgress(value=0, max=1), HTML(value='')))"
      ]
     },
     "metadata": {},
     "output_type": "display_data"
    },
    {
     "name": "stdout",
     "output_type": "stream",
     "text": [
      "\n"
     ]
    },
    {
     "data": {
      "application/vnd.jupyter.widget-view+json": {
       "model_id": "4ed2adb0783d4b209bc6390fd8976e93",
       "version_major": 2,
       "version_minor": 0
      },
      "text/plain": [
       "HBox(children=(IntProgress(value=0, max=1), HTML(value='')))"
      ]
     },
     "metadata": {},
     "output_type": "display_data"
    },
    {
     "name": "stdout",
     "output_type": "stream",
     "text": [
      "\n",
      "\r",
      "Train Cost: 1916.343017578125\n",
      "\r",
      "Test Cost: 2086.0244140625\n",
      "\r\n",
      "Epoch: 62\n"
     ]
    },
    {
     "data": {
      "application/vnd.jupyter.widget-view+json": {
       "model_id": "92e6aa2ac25e4bf68d734349421d03b4",
       "version_major": 2,
       "version_minor": 0
      },
      "text/plain": [
       "HBox(children=(IntProgress(value=0, max=1), HTML(value='')))"
      ]
     },
     "metadata": {},
     "output_type": "display_data"
    },
    {
     "name": "stdout",
     "output_type": "stream",
     "text": [
      "\n"
     ]
    },
    {
     "data": {
      "application/vnd.jupyter.widget-view+json": {
       "model_id": "34cc6d8a357448398ffe10f762672caf",
       "version_major": 2,
       "version_minor": 0
      },
      "text/plain": [
       "HBox(children=(IntProgress(value=0, max=1), HTML(value='')))"
      ]
     },
     "metadata": {},
     "output_type": "display_data"
    },
    {
     "name": "stdout",
     "output_type": "stream",
     "text": [
      "\n",
      "\r",
      "Train Cost: 2027.5120849609375\n",
      "\r",
      "Test Cost: 2168.470703125\n",
      "\r\n",
      "Epoch: 63\n"
     ]
    },
    {
     "data": {
      "application/vnd.jupyter.widget-view+json": {
       "model_id": "2b6a489fd8e647108d03e7a89dba2965",
       "version_major": 2,
       "version_minor": 0
      },
      "text/plain": [
       "HBox(children=(IntProgress(value=0, max=1), HTML(value='')))"
      ]
     },
     "metadata": {},
     "output_type": "display_data"
    },
    {
     "name": "stdout",
     "output_type": "stream",
     "text": [
      "\n"
     ]
    },
    {
     "data": {
      "application/vnd.jupyter.widget-view+json": {
       "model_id": "05a1d2e20eb54686af531852842e148e",
       "version_major": 2,
       "version_minor": 0
      },
      "text/plain": [
       "HBox(children=(IntProgress(value=0, max=1), HTML(value='')))"
      ]
     },
     "metadata": {},
     "output_type": "display_data"
    },
    {
     "name": "stdout",
     "output_type": "stream",
     "text": [
      "\n",
      "\r",
      "Train Cost: 1893.1021728515625\n",
      "\r",
      "Test Cost: 2099.87109375\n",
      "\r\n",
      "Epoch: 64\n"
     ]
    },
    {
     "data": {
      "application/vnd.jupyter.widget-view+json": {
       "model_id": "624319dbac1e4ecc9689ab476d6f3869",
       "version_major": 2,
       "version_minor": 0
      },
      "text/plain": [
       "HBox(children=(IntProgress(value=0, max=1), HTML(value='')))"
      ]
     },
     "metadata": {},
     "output_type": "display_data"
    },
    {
     "name": "stdout",
     "output_type": "stream",
     "text": [
      "\n"
     ]
    },
    {
     "data": {
      "application/vnd.jupyter.widget-view+json": {
       "model_id": "74933404cf304f18a463ee70f5c075a0",
       "version_major": 2,
       "version_minor": 0
      },
      "text/plain": [
       "HBox(children=(IntProgress(value=0, max=1), HTML(value='')))"
      ]
     },
     "metadata": {},
     "output_type": "display_data"
    },
    {
     "name": "stdout",
     "output_type": "stream",
     "text": [
      "\n",
      "\r",
      "Train Cost: 1841.40234375\n",
      "\r",
      "Test Cost: 2168.81787109375\n",
      "\r\n",
      "Epoch: 65\n"
     ]
    },
    {
     "data": {
      "application/vnd.jupyter.widget-view+json": {
       "model_id": "1210af5d78ce4225944dc886d40d681b",
       "version_major": 2,
       "version_minor": 0
      },
      "text/plain": [
       "HBox(children=(IntProgress(value=0, max=1), HTML(value='')))"
      ]
     },
     "metadata": {},
     "output_type": "display_data"
    },
    {
     "name": "stdout",
     "output_type": "stream",
     "text": [
      "\n"
     ]
    },
    {
     "data": {
      "application/vnd.jupyter.widget-view+json": {
       "model_id": "21c464453add4e90aae262d1a0f94142",
       "version_major": 2,
       "version_minor": 0
      },
      "text/plain": [
       "HBox(children=(IntProgress(value=0, max=1), HTML(value='')))"
      ]
     },
     "metadata": {},
     "output_type": "display_data"
    },
    {
     "name": "stdout",
     "output_type": "stream",
     "text": [
      "\n",
      "\r",
      "Train Cost: 1903.12060546875\n",
      "\r",
      "Test Cost: 2325.05224609375\n",
      "\r\n",
      "Epoch: 66\n"
     ]
    },
    {
     "data": {
      "application/vnd.jupyter.widget-view+json": {
       "model_id": "15f83d26066345bca1b6453ad4d86a64",
       "version_major": 2,
       "version_minor": 0
      },
      "text/plain": [
       "HBox(children=(IntProgress(value=0, max=1), HTML(value='')))"
      ]
     },
     "metadata": {},
     "output_type": "display_data"
    },
    {
     "name": "stdout",
     "output_type": "stream",
     "text": [
      "\n"
     ]
    },
    {
     "data": {
      "application/vnd.jupyter.widget-view+json": {
       "model_id": "498165aecd994661b4e9935060d76cee",
       "version_major": 2,
       "version_minor": 0
      },
      "text/plain": [
       "HBox(children=(IntProgress(value=0, max=1), HTML(value='')))"
      ]
     },
     "metadata": {},
     "output_type": "display_data"
    },
    {
     "name": "stdout",
     "output_type": "stream",
     "text": [
      "\n",
      "\r",
      "Train Cost: 1728.9107666015625\n",
      "\r",
      "Test Cost: 2341.759033203125\n",
      "\r\n",
      "Epoch: 67\n"
     ]
    },
    {
     "data": {
      "application/vnd.jupyter.widget-view+json": {
       "model_id": "6bdcc7abf8f1415580130fd68983f8d1",
       "version_major": 2,
       "version_minor": 0
      },
      "text/plain": [
       "HBox(children=(IntProgress(value=0, max=1), HTML(value='')))"
      ]
     },
     "metadata": {},
     "output_type": "display_data"
    },
    {
     "name": "stdout",
     "output_type": "stream",
     "text": [
      "\n"
     ]
    },
    {
     "data": {
      "application/vnd.jupyter.widget-view+json": {
       "model_id": "a2587098f39d47d89af33516f0412b4e",
       "version_major": 2,
       "version_minor": 0
      },
      "text/plain": [
       "HBox(children=(IntProgress(value=0, max=1), HTML(value='')))"
      ]
     },
     "metadata": {},
     "output_type": "display_data"
    },
    {
     "name": "stdout",
     "output_type": "stream",
     "text": [
      "\n",
      "\r",
      "Train Cost: 1729.8768310546875\n",
      "\r",
      "Test Cost: 2154.5556640625\n",
      "\r\n",
      "Epoch: 68\n"
     ]
    },
    {
     "data": {
      "application/vnd.jupyter.widget-view+json": {
       "model_id": "2854c5be1bee4cea9c72d27d14afa0dc",
       "version_major": 2,
       "version_minor": 0
      },
      "text/plain": [
       "HBox(children=(IntProgress(value=0, max=1), HTML(value='')))"
      ]
     },
     "metadata": {},
     "output_type": "display_data"
    },
    {
     "name": "stdout",
     "output_type": "stream",
     "text": [
      "\n"
     ]
    },
    {
     "data": {
      "application/vnd.jupyter.widget-view+json": {
       "model_id": "e5a4aaf54013491cad00ad768e13a748",
       "version_major": 2,
       "version_minor": 0
      },
      "text/plain": [
       "HBox(children=(IntProgress(value=0, max=1), HTML(value='')))"
      ]
     },
     "metadata": {},
     "output_type": "display_data"
    },
    {
     "name": "stdout",
     "output_type": "stream",
     "text": [
      "\n",
      "\r",
      "Train Cost: 1937.4613037109375\n",
      "\r",
      "Test Cost: 1967.1116943359375\n",
      "\r\n",
      "Epoch: 69\n"
     ]
    },
    {
     "data": {
      "application/vnd.jupyter.widget-view+json": {
       "model_id": "53d0d2a33a0d493d8cfc8f79aa676ac1",
       "version_major": 2,
       "version_minor": 0
      },
      "text/plain": [
       "HBox(children=(IntProgress(value=0, max=1), HTML(value='')))"
      ]
     },
     "metadata": {},
     "output_type": "display_data"
    },
    {
     "name": "stdout",
     "output_type": "stream",
     "text": [
      "\n"
     ]
    },
    {
     "data": {
      "application/vnd.jupyter.widget-view+json": {
       "model_id": "0168b837ee24463995343a1d97012356",
       "version_major": 2,
       "version_minor": 0
      },
      "text/plain": [
       "HBox(children=(IntProgress(value=0, max=1), HTML(value='')))"
      ]
     },
     "metadata": {},
     "output_type": "display_data"
    },
    {
     "name": "stdout",
     "output_type": "stream",
     "text": [
      "\n",
      "\r",
      "Train Cost: 1723.14404296875\n",
      "\r",
      "Test Cost: 2039.7117919921875\n",
      "\r\n",
      "Epoch: 70\n"
     ]
    },
    {
     "data": {
      "application/vnd.jupyter.widget-view+json": {
       "model_id": "1f4544195c2e475fbdfd570512898bfd",
       "version_major": 2,
       "version_minor": 0
      },
      "text/plain": [
       "HBox(children=(IntProgress(value=0, max=1), HTML(value='')))"
      ]
     },
     "metadata": {},
     "output_type": "display_data"
    },
    {
     "name": "stdout",
     "output_type": "stream",
     "text": [
      "\n"
     ]
    },
    {
     "data": {
      "application/vnd.jupyter.widget-view+json": {
       "model_id": "d234f085fba145eeaae0f158245aa60b",
       "version_major": 2,
       "version_minor": 0
      },
      "text/plain": [
       "HBox(children=(IntProgress(value=0, max=1), HTML(value='')))"
      ]
     },
     "metadata": {},
     "output_type": "display_data"
    },
    {
     "name": "stdout",
     "output_type": "stream",
     "text": [
      "\n",
      "\r",
      "Train Cost: 1831.4681396484375\n",
      "\r",
      "Test Cost: 1993.662109375\n",
      "\r\n",
      "Epoch: 71\n"
     ]
    },
    {
     "data": {
      "application/vnd.jupyter.widget-view+json": {
       "model_id": "95629b65690f42ee9e234e38ebe6f99b",
       "version_major": 2,
       "version_minor": 0
      },
      "text/plain": [
       "HBox(children=(IntProgress(value=0, max=1), HTML(value='')))"
      ]
     },
     "metadata": {},
     "output_type": "display_data"
    },
    {
     "name": "stdout",
     "output_type": "stream",
     "text": [
      "\n"
     ]
    },
    {
     "data": {
      "application/vnd.jupyter.widget-view+json": {
       "model_id": "3e9b2cf4e8fe4c3e8a814996f23731fb",
       "version_major": 2,
       "version_minor": 0
      },
      "text/plain": [
       "HBox(children=(IntProgress(value=0, max=1), HTML(value='')))"
      ]
     },
     "metadata": {},
     "output_type": "display_data"
    },
    {
     "name": "stdout",
     "output_type": "stream",
     "text": [
      "\n",
      "\r",
      "Train Cost: 1760.2628173828125\n",
      "\r",
      "Test Cost: 1884.9705810546875\n",
      "\r\n",
      "Epoch: 72\n"
     ]
    },
    {
     "data": {
      "application/vnd.jupyter.widget-view+json": {
       "model_id": "529d0eea52734883a672eeafadf57f7c",
       "version_major": 2,
       "version_minor": 0
      },
      "text/plain": [
       "HBox(children=(IntProgress(value=0, max=1), HTML(value='')))"
      ]
     },
     "metadata": {},
     "output_type": "display_data"
    },
    {
     "name": "stdout",
     "output_type": "stream",
     "text": [
      "\n"
     ]
    },
    {
     "data": {
      "application/vnd.jupyter.widget-view+json": {
       "model_id": "4efeae6208784771addb5269004a1946",
       "version_major": 2,
       "version_minor": 0
      },
      "text/plain": [
       "HBox(children=(IntProgress(value=0, max=1), HTML(value='')))"
      ]
     },
     "metadata": {},
     "output_type": "display_data"
    },
    {
     "name": "stdout",
     "output_type": "stream",
     "text": [
      "\n",
      "\r",
      "Train Cost: 1726.8953857421875\n",
      "\r",
      "Test Cost: 1873.9654541015625\n",
      "\r\n",
      "Epoch: 73\n"
     ]
    },
    {
     "data": {
      "application/vnd.jupyter.widget-view+json": {
       "model_id": "8703a9f2446242c9addfc559ae5c9a92",
       "version_major": 2,
       "version_minor": 0
      },
      "text/plain": [
       "HBox(children=(IntProgress(value=0, max=1), HTML(value='')))"
      ]
     },
     "metadata": {},
     "output_type": "display_data"
    },
    {
     "name": "stdout",
     "output_type": "stream",
     "text": [
      "\n"
     ]
    },
    {
     "data": {
      "application/vnd.jupyter.widget-view+json": {
       "model_id": "177167a5776f43428dd4764bfa78df0f",
       "version_major": 2,
       "version_minor": 0
      },
      "text/plain": [
       "HBox(children=(IntProgress(value=0, max=1), HTML(value='')))"
      ]
     },
     "metadata": {},
     "output_type": "display_data"
    },
    {
     "name": "stdout",
     "output_type": "stream",
     "text": [
      "\n",
      "\r",
      "Train Cost: 1701.417236328125\n",
      "\r",
      "Test Cost: 1933.7259521484375\n",
      "\r\n",
      "Epoch: 74\n"
     ]
    },
    {
     "data": {
      "application/vnd.jupyter.widget-view+json": {
       "model_id": "60227c29746c4acf96b31f88e71285f6",
       "version_major": 2,
       "version_minor": 0
      },
      "text/plain": [
       "HBox(children=(IntProgress(value=0, max=1), HTML(value='')))"
      ]
     },
     "metadata": {},
     "output_type": "display_data"
    },
    {
     "name": "stdout",
     "output_type": "stream",
     "text": [
      "\n"
     ]
    },
    {
     "data": {
      "application/vnd.jupyter.widget-view+json": {
       "model_id": "26161c3b9f5842e989ad00484aa5d5c2",
       "version_major": 2,
       "version_minor": 0
      },
      "text/plain": [
       "HBox(children=(IntProgress(value=0, max=1), HTML(value='')))"
      ]
     },
     "metadata": {},
     "output_type": "display_data"
    },
    {
     "name": "stdout",
     "output_type": "stream",
     "text": [
      "\n",
      "\r",
      "Train Cost: 1689.4110107421875\n",
      "\r",
      "Test Cost: 1941.2247314453125\n",
      "\r\n",
      "Epoch: 75\n"
     ]
    },
    {
     "data": {
      "application/vnd.jupyter.widget-view+json": {
       "model_id": "0b6c5dbc3bb44f3e93e09b13549d4c4e",
       "version_major": 2,
       "version_minor": 0
      },
      "text/plain": [
       "HBox(children=(IntProgress(value=0, max=1), HTML(value='')))"
      ]
     },
     "metadata": {},
     "output_type": "display_data"
    },
    {
     "name": "stdout",
     "output_type": "stream",
     "text": [
      "\n"
     ]
    },
    {
     "data": {
      "application/vnd.jupyter.widget-view+json": {
       "model_id": "0a63704561c44d99b8b07795da24a95c",
       "version_major": 2,
       "version_minor": 0
      },
      "text/plain": [
       "HBox(children=(IntProgress(value=0, max=1), HTML(value='')))"
      ]
     },
     "metadata": {},
     "output_type": "display_data"
    },
    {
     "name": "stdout",
     "output_type": "stream",
     "text": [
      "\n",
      "\r",
      "Train Cost: 1647.8077392578125\n",
      "\r",
      "Test Cost: 1907.2532958984375\n",
      "\r\n",
      "Epoch: 76\n"
     ]
    },
    {
     "data": {
      "application/vnd.jupyter.widget-view+json": {
       "model_id": "fa62df82c09e48e6b16c945a5dea7bc2",
       "version_major": 2,
       "version_minor": 0
      },
      "text/plain": [
       "HBox(children=(IntProgress(value=0, max=1), HTML(value='')))"
      ]
     },
     "metadata": {},
     "output_type": "display_data"
    },
    {
     "name": "stdout",
     "output_type": "stream",
     "text": [
      "\n"
     ]
    },
    {
     "data": {
      "application/vnd.jupyter.widget-view+json": {
       "model_id": "450e3ea9ce3445f6b874cbe3b039e032",
       "version_major": 2,
       "version_minor": 0
      },
      "text/plain": [
       "HBox(children=(IntProgress(value=0, max=1), HTML(value='')))"
      ]
     },
     "metadata": {},
     "output_type": "display_data"
    },
    {
     "name": "stdout",
     "output_type": "stream",
     "text": [
      "\n",
      "\r",
      "Train Cost: 1766.4404296875\n",
      "\r",
      "Test Cost: 1903.11376953125\n",
      "\r\n",
      "Epoch: 77\n"
     ]
    },
    {
     "data": {
      "application/vnd.jupyter.widget-view+json": {
       "model_id": "6443896bbcc34398b58b95b92dd13ec8",
       "version_major": 2,
       "version_minor": 0
      },
      "text/plain": [
       "HBox(children=(IntProgress(value=0, max=1), HTML(value='')))"
      ]
     },
     "metadata": {},
     "output_type": "display_data"
    },
    {
     "name": "stdout",
     "output_type": "stream",
     "text": [
      "\n"
     ]
    },
    {
     "data": {
      "application/vnd.jupyter.widget-view+json": {
       "model_id": "15b588486886416a93aebf61224adf0a",
       "version_major": 2,
       "version_minor": 0
      },
      "text/plain": [
       "HBox(children=(IntProgress(value=0, max=1), HTML(value='')))"
      ]
     },
     "metadata": {},
     "output_type": "display_data"
    },
    {
     "name": "stdout",
     "output_type": "stream",
     "text": [
      "\n",
      "\r",
      "Train Cost: 1592.94580078125\n",
      "\r",
      "Test Cost: 1965.906982421875\n",
      "\r\n",
      "Epoch: 78\n"
     ]
    },
    {
     "data": {
      "application/vnd.jupyter.widget-view+json": {
       "model_id": "78ce07cc0d784193ad140514324f9bd3",
       "version_major": 2,
       "version_minor": 0
      },
      "text/plain": [
       "HBox(children=(IntProgress(value=0, max=1), HTML(value='')))"
      ]
     },
     "metadata": {},
     "output_type": "display_data"
    },
    {
     "name": "stdout",
     "output_type": "stream",
     "text": [
      "\n"
     ]
    },
    {
     "data": {
      "application/vnd.jupyter.widget-view+json": {
       "model_id": "32570a466a6d4cdd9ddbc5953fecaa31",
       "version_major": 2,
       "version_minor": 0
      },
      "text/plain": [
       "HBox(children=(IntProgress(value=0, max=1), HTML(value='')))"
      ]
     },
     "metadata": {},
     "output_type": "display_data"
    },
    {
     "name": "stdout",
     "output_type": "stream",
     "text": [
      "\n",
      "\r",
      "Train Cost: 1664.758056640625\n",
      "\r",
      "Test Cost: 1959.14697265625\n",
      "\r\n",
      "Epoch: 79\n"
     ]
    },
    {
     "data": {
      "application/vnd.jupyter.widget-view+json": {
       "model_id": "b2a28e97a5224c0280bcd9c96baf31c9",
       "version_major": 2,
       "version_minor": 0
      },
      "text/plain": [
       "HBox(children=(IntProgress(value=0, max=1), HTML(value='')))"
      ]
     },
     "metadata": {},
     "output_type": "display_data"
    },
    {
     "name": "stdout",
     "output_type": "stream",
     "text": [
      "\n"
     ]
    },
    {
     "data": {
      "application/vnd.jupyter.widget-view+json": {
       "model_id": "418b7b804d4745f790ebac6a7c350658",
       "version_major": 2,
       "version_minor": 0
      },
      "text/plain": [
       "HBox(children=(IntProgress(value=0, max=1), HTML(value='')))"
      ]
     },
     "metadata": {},
     "output_type": "display_data"
    },
    {
     "name": "stdout",
     "output_type": "stream",
     "text": [
      "\n",
      "\r",
      "Train Cost: 1815.83544921875\n",
      "\r",
      "Test Cost: 1910.2828369140625\n",
      "\r\n",
      "Epoch: 80\n"
     ]
    },
    {
     "data": {
      "application/vnd.jupyter.widget-view+json": {
       "model_id": "59b7078b9d2e4485a20d2222ea954d3c",
       "version_major": 2,
       "version_minor": 0
      },
      "text/plain": [
       "HBox(children=(IntProgress(value=0, max=1), HTML(value='')))"
      ]
     },
     "metadata": {},
     "output_type": "display_data"
    },
    {
     "name": "stdout",
     "output_type": "stream",
     "text": [
      "\n"
     ]
    },
    {
     "data": {
      "application/vnd.jupyter.widget-view+json": {
       "model_id": "f944cbb9bbd247bcb6c579e906a705f2",
       "version_major": 2,
       "version_minor": 0
      },
      "text/plain": [
       "HBox(children=(IntProgress(value=0, max=1), HTML(value='')))"
      ]
     },
     "metadata": {},
     "output_type": "display_data"
    },
    {
     "name": "stdout",
     "output_type": "stream",
     "text": [
      "\n",
      "\r",
      "Train Cost: 1821.072021484375\n",
      "\r",
      "Test Cost: 1846.111572265625\n",
      "\r\n",
      "Epoch: 81\n"
     ]
    },
    {
     "data": {
      "application/vnd.jupyter.widget-view+json": {
       "model_id": "53c278950e724ee19868bad7759f63c3",
       "version_major": 2,
       "version_minor": 0
      },
      "text/plain": [
       "HBox(children=(IntProgress(value=0, max=1), HTML(value='')))"
      ]
     },
     "metadata": {},
     "output_type": "display_data"
    },
    {
     "name": "stdout",
     "output_type": "stream",
     "text": [
      "\n"
     ]
    },
    {
     "data": {
      "application/vnd.jupyter.widget-view+json": {
       "model_id": "ad01a8556107442585a4a151c5e9209e",
       "version_major": 2,
       "version_minor": 0
      },
      "text/plain": [
       "HBox(children=(IntProgress(value=0, max=1), HTML(value='')))"
      ]
     },
     "metadata": {},
     "output_type": "display_data"
    },
    {
     "name": "stdout",
     "output_type": "stream",
     "text": [
      "\n",
      "\r",
      "Train Cost: 1568.5341796875\n",
      "\r",
      "Test Cost: 1818.7694091796875\n",
      "\r\n",
      "Epoch: 82\n"
     ]
    },
    {
     "data": {
      "application/vnd.jupyter.widget-view+json": {
       "model_id": "3bde556d63d0472d8c9bbca7e84b6cb3",
       "version_major": 2,
       "version_minor": 0
      },
      "text/plain": [
       "HBox(children=(IntProgress(value=0, max=1), HTML(value='')))"
      ]
     },
     "metadata": {},
     "output_type": "display_data"
    },
    {
     "name": "stdout",
     "output_type": "stream",
     "text": [
      "\n"
     ]
    },
    {
     "data": {
      "application/vnd.jupyter.widget-view+json": {
       "model_id": "f410f7cd802b4035aa2918e704ff2030",
       "version_major": 2,
       "version_minor": 0
      },
      "text/plain": [
       "HBox(children=(IntProgress(value=0, max=1), HTML(value='')))"
      ]
     },
     "metadata": {},
     "output_type": "display_data"
    },
    {
     "name": "stdout",
     "output_type": "stream",
     "text": [
      "\n",
      "\r",
      "Train Cost: 1783.8126220703125\n",
      "\r",
      "Test Cost: 1818.2828369140625\n",
      "\r\n",
      "Epoch: 83\n"
     ]
    },
    {
     "data": {
      "application/vnd.jupyter.widget-view+json": {
       "model_id": "93f98696f0414d49956d45f25c77b4a4",
       "version_major": 2,
       "version_minor": 0
      },
      "text/plain": [
       "HBox(children=(IntProgress(value=0, max=1), HTML(value='')))"
      ]
     },
     "metadata": {},
     "output_type": "display_data"
    },
    {
     "name": "stdout",
     "output_type": "stream",
     "text": [
      "\n"
     ]
    },
    {
     "data": {
      "application/vnd.jupyter.widget-view+json": {
       "model_id": "fb400c25482b4b179d7ad6fade297a7d",
       "version_major": 2,
       "version_minor": 0
      },
      "text/plain": [
       "HBox(children=(IntProgress(value=0, max=1), HTML(value='')))"
      ]
     },
     "metadata": {},
     "output_type": "display_data"
    },
    {
     "name": "stdout",
     "output_type": "stream",
     "text": [
      "\n",
      "\r",
      "Train Cost: 1594.6480712890625\n",
      "\r",
      "Test Cost: 1863.9019775390625\n",
      "\r\n",
      "Epoch: 84\n"
     ]
    },
    {
     "data": {
      "application/vnd.jupyter.widget-view+json": {
       "model_id": "37d7811643d74a9db0933503f8c2a165",
       "version_major": 2,
       "version_minor": 0
      },
      "text/plain": [
       "HBox(children=(IntProgress(value=0, max=1), HTML(value='')))"
      ]
     },
     "metadata": {},
     "output_type": "display_data"
    },
    {
     "name": "stdout",
     "output_type": "stream",
     "text": [
      "\n"
     ]
    },
    {
     "data": {
      "application/vnd.jupyter.widget-view+json": {
       "model_id": "511439e163f0488284c6294e06e9e702",
       "version_major": 2,
       "version_minor": 0
      },
      "text/plain": [
       "HBox(children=(IntProgress(value=0, max=1), HTML(value='')))"
      ]
     },
     "metadata": {},
     "output_type": "display_data"
    },
    {
     "name": "stdout",
     "output_type": "stream",
     "text": [
      "\n",
      "\r",
      "Train Cost: 1589.070068359375\n",
      "\r",
      "Test Cost: 1881.459716796875\n",
      "\r\n",
      "Epoch: 85\n"
     ]
    },
    {
     "data": {
      "application/vnd.jupyter.widget-view+json": {
       "model_id": "6ae70c44aadf4bd090acb1900a07c2e0",
       "version_major": 2,
       "version_minor": 0
      },
      "text/plain": [
       "HBox(children=(IntProgress(value=0, max=1), HTML(value='')))"
      ]
     },
     "metadata": {},
     "output_type": "display_data"
    },
    {
     "name": "stdout",
     "output_type": "stream",
     "text": [
      "\n"
     ]
    },
    {
     "data": {
      "application/vnd.jupyter.widget-view+json": {
       "model_id": "2c24735582f44e5dad217eaba6afdb4d",
       "version_major": 2,
       "version_minor": 0
      },
      "text/plain": [
       "HBox(children=(IntProgress(value=0, max=1), HTML(value='')))"
      ]
     },
     "metadata": {},
     "output_type": "display_data"
    },
    {
     "name": "stdout",
     "output_type": "stream",
     "text": [
      "\n",
      "\r",
      "Train Cost: 1597.1131591796875\n",
      "\r",
      "Test Cost: 1866.351806640625\n",
      "\r\n",
      "Epoch: 86\n"
     ]
    },
    {
     "data": {
      "application/vnd.jupyter.widget-view+json": {
       "model_id": "ae3fa5389242471b8ceb3098d0105d32",
       "version_major": 2,
       "version_minor": 0
      },
      "text/plain": [
       "HBox(children=(IntProgress(value=0, max=1), HTML(value='')))"
      ]
     },
     "metadata": {},
     "output_type": "display_data"
    },
    {
     "name": "stdout",
     "output_type": "stream",
     "text": [
      "\n"
     ]
    },
    {
     "data": {
      "application/vnd.jupyter.widget-view+json": {
       "model_id": "336106c73a0d412ca87381a324463773",
       "version_major": 2,
       "version_minor": 0
      },
      "text/plain": [
       "HBox(children=(IntProgress(value=0, max=1), HTML(value='')))"
      ]
     },
     "metadata": {},
     "output_type": "display_data"
    },
    {
     "name": "stdout",
     "output_type": "stream",
     "text": [
      "\n",
      "\r",
      "Train Cost: 1721.70556640625\n",
      "\r",
      "Test Cost: 1858.155517578125\n",
      "\r\n",
      "Epoch: 87\n"
     ]
    },
    {
     "data": {
      "application/vnd.jupyter.widget-view+json": {
       "model_id": "480e17106b8343e485fa82a432a16fda",
       "version_major": 2,
       "version_minor": 0
      },
      "text/plain": [
       "HBox(children=(IntProgress(value=0, max=1), HTML(value='')))"
      ]
     },
     "metadata": {},
     "output_type": "display_data"
    },
    {
     "name": "stdout",
     "output_type": "stream",
     "text": [
      "\n"
     ]
    },
    {
     "data": {
      "application/vnd.jupyter.widget-view+json": {
       "model_id": "b034007a265c4922be62919cfacd0840",
       "version_major": 2,
       "version_minor": 0
      },
      "text/plain": [
       "HBox(children=(IntProgress(value=0, max=1), HTML(value='')))"
      ]
     },
     "metadata": {},
     "output_type": "display_data"
    },
    {
     "name": "stdout",
     "output_type": "stream",
     "text": [
      "\n",
      "\r",
      "Train Cost: 1528.275634765625\n",
      "\r",
      "Test Cost: 1787.37548828125\n",
      "\r\n",
      "Epoch: 88\n"
     ]
    },
    {
     "data": {
      "application/vnd.jupyter.widget-view+json": {
       "model_id": "fca89bc550c049b5af57c8e7bf8465fe",
       "version_major": 2,
       "version_minor": 0
      },
      "text/plain": [
       "HBox(children=(IntProgress(value=0, max=1), HTML(value='')))"
      ]
     },
     "metadata": {},
     "output_type": "display_data"
    },
    {
     "name": "stdout",
     "output_type": "stream",
     "text": [
      "\n"
     ]
    },
    {
     "data": {
      "application/vnd.jupyter.widget-view+json": {
       "model_id": "e6f3a1578612493daa11bdf7f4475ed3",
       "version_major": 2,
       "version_minor": 0
      },
      "text/plain": [
       "HBox(children=(IntProgress(value=0, max=1), HTML(value='')))"
      ]
     },
     "metadata": {},
     "output_type": "display_data"
    },
    {
     "name": "stdout",
     "output_type": "stream",
     "text": [
      "\n",
      "\r",
      "Train Cost: 1557.54931640625\n",
      "\r",
      "Test Cost: 1772.7684326171875\n",
      "\r\n",
      "Epoch: 89\n"
     ]
    },
    {
     "data": {
      "application/vnd.jupyter.widget-view+json": {
       "model_id": "013b9d459e1b46bea0d4d3fb9e4d56eb",
       "version_major": 2,
       "version_minor": 0
      },
      "text/plain": [
       "HBox(children=(IntProgress(value=0, max=1), HTML(value='')))"
      ]
     },
     "metadata": {},
     "output_type": "display_data"
    },
    {
     "name": "stdout",
     "output_type": "stream",
     "text": [
      "\n"
     ]
    },
    {
     "data": {
      "application/vnd.jupyter.widget-view+json": {
       "model_id": "da9dfe73e5b64135936e76ceab9a0345",
       "version_major": 2,
       "version_minor": 0
      },
      "text/plain": [
       "HBox(children=(IntProgress(value=0, max=1), HTML(value='')))"
      ]
     },
     "metadata": {},
     "output_type": "display_data"
    },
    {
     "name": "stdout",
     "output_type": "stream",
     "text": [
      "\n",
      "\r",
      "Train Cost: 1535.2159423828125\n",
      "\r",
      "Test Cost: 1775.9847412109375\n",
      "\r\n",
      "Epoch: 90\n"
     ]
    },
    {
     "data": {
      "application/vnd.jupyter.widget-view+json": {
       "model_id": "8ef7d736c73a466cbb4324aef42e996c",
       "version_major": 2,
       "version_minor": 0
      },
      "text/plain": [
       "HBox(children=(IntProgress(value=0, max=1), HTML(value='')))"
      ]
     },
     "metadata": {},
     "output_type": "display_data"
    },
    {
     "name": "stdout",
     "output_type": "stream",
     "text": [
      "\n"
     ]
    },
    {
     "data": {
      "application/vnd.jupyter.widget-view+json": {
       "model_id": "237312b144ec49f7b9755a92dc793c58",
       "version_major": 2,
       "version_minor": 0
      },
      "text/plain": [
       "HBox(children=(IntProgress(value=0, max=1), HTML(value='')))"
      ]
     },
     "metadata": {},
     "output_type": "display_data"
    },
    {
     "name": "stdout",
     "output_type": "stream",
     "text": [
      "\n",
      "\r",
      "Train Cost: 1469.6805419921875\n",
      "\r",
      "Test Cost: 1817.2432861328125\n",
      "\r\n",
      "Epoch: 91\n"
     ]
    },
    {
     "data": {
      "application/vnd.jupyter.widget-view+json": {
       "model_id": "03836ece57d34f61af6a5db3ed8ef1e7",
       "version_major": 2,
       "version_minor": 0
      },
      "text/plain": [
       "HBox(children=(IntProgress(value=0, max=1), HTML(value='')))"
      ]
     },
     "metadata": {},
     "output_type": "display_data"
    },
    {
     "name": "stdout",
     "output_type": "stream",
     "text": [
      "\n"
     ]
    },
    {
     "data": {
      "application/vnd.jupyter.widget-view+json": {
       "model_id": "6c20dd96c635463c9b54f2a219ec50c5",
       "version_major": 2,
       "version_minor": 0
      },
      "text/plain": [
       "HBox(children=(IntProgress(value=0, max=1), HTML(value='')))"
      ]
     },
     "metadata": {},
     "output_type": "display_data"
    },
    {
     "name": "stdout",
     "output_type": "stream",
     "text": [
      "\n",
      "\r",
      "Train Cost: 1498.01513671875\n",
      "\r",
      "Test Cost: 1783.3131103515625\n",
      "\r\n",
      "Epoch: 92\n"
     ]
    },
    {
     "data": {
      "application/vnd.jupyter.widget-view+json": {
       "model_id": "ea838d5376ac4515985ff39853f6d666",
       "version_major": 2,
       "version_minor": 0
      },
      "text/plain": [
       "HBox(children=(IntProgress(value=0, max=1), HTML(value='')))"
      ]
     },
     "metadata": {},
     "output_type": "display_data"
    },
    {
     "name": "stdout",
     "output_type": "stream",
     "text": [
      "\n"
     ]
    },
    {
     "data": {
      "application/vnd.jupyter.widget-view+json": {
       "model_id": "4ca6d5b4ed4c4159b1fc696c82c5d2f9",
       "version_major": 2,
       "version_minor": 0
      },
      "text/plain": [
       "HBox(children=(IntProgress(value=0, max=1), HTML(value='')))"
      ]
     },
     "metadata": {},
     "output_type": "display_data"
    },
    {
     "name": "stdout",
     "output_type": "stream",
     "text": [
      "\n",
      "\r",
      "Train Cost: 1414.67431640625\n",
      "\r",
      "Test Cost: 1755.92626953125\n",
      "\r\n",
      "Epoch: 93\n"
     ]
    },
    {
     "data": {
      "application/vnd.jupyter.widget-view+json": {
       "model_id": "9dfef8e94bc840bdab7b933c9c85ec64",
       "version_major": 2,
       "version_minor": 0
      },
      "text/plain": [
       "HBox(children=(IntProgress(value=0, max=1), HTML(value='')))"
      ]
     },
     "metadata": {},
     "output_type": "display_data"
    },
    {
     "name": "stdout",
     "output_type": "stream",
     "text": [
      "\n"
     ]
    },
    {
     "data": {
      "application/vnd.jupyter.widget-view+json": {
       "model_id": "61127251dbb54f53a5ec1adc0ee574fa",
       "version_major": 2,
       "version_minor": 0
      },
      "text/plain": [
       "HBox(children=(IntProgress(value=0, max=1), HTML(value='')))"
      ]
     },
     "metadata": {},
     "output_type": "display_data"
    },
    {
     "name": "stdout",
     "output_type": "stream",
     "text": [
      "\n",
      "\r",
      "Train Cost: 1405.38037109375\n",
      "\r",
      "Test Cost: 1746.9036865234375\n",
      "\r\n",
      "Epoch: 94\n"
     ]
    },
    {
     "data": {
      "application/vnd.jupyter.widget-view+json": {
       "model_id": "bf5950a8e1c14a6099b8d968a9cac43f",
       "version_major": 2,
       "version_minor": 0
      },
      "text/plain": [
       "HBox(children=(IntProgress(value=0, max=1), HTML(value='')))"
      ]
     },
     "metadata": {},
     "output_type": "display_data"
    },
    {
     "name": "stdout",
     "output_type": "stream",
     "text": [
      "\n"
     ]
    },
    {
     "data": {
      "application/vnd.jupyter.widget-view+json": {
       "model_id": "3ac01baaca1646c0a8d76700c4d5dcd6",
       "version_major": 2,
       "version_minor": 0
      },
      "text/plain": [
       "HBox(children=(IntProgress(value=0, max=1), HTML(value='')))"
      ]
     },
     "metadata": {},
     "output_type": "display_data"
    },
    {
     "name": "stdout",
     "output_type": "stream",
     "text": [
      "\n",
      "\r",
      "Train Cost: 1620.44677734375\n",
      "\r",
      "Test Cost: 1773.273681640625\n",
      "\r\n",
      "Epoch: 95\n"
     ]
    },
    {
     "data": {
      "application/vnd.jupyter.widget-view+json": {
       "model_id": "50ed66c4110844458477931714c76d27",
       "version_major": 2,
       "version_minor": 0
      },
      "text/plain": [
       "HBox(children=(IntProgress(value=0, max=1), HTML(value='')))"
      ]
     },
     "metadata": {},
     "output_type": "display_data"
    },
    {
     "name": "stdout",
     "output_type": "stream",
     "text": [
      "\n"
     ]
    },
    {
     "data": {
      "application/vnd.jupyter.widget-view+json": {
       "model_id": "b1f41ecf1905464da32009fbc7e01296",
       "version_major": 2,
       "version_minor": 0
      },
      "text/plain": [
       "HBox(children=(IntProgress(value=0, max=1), HTML(value='')))"
      ]
     },
     "metadata": {},
     "output_type": "display_data"
    },
    {
     "name": "stdout",
     "output_type": "stream",
     "text": [
      "\n",
      "\r",
      "Train Cost: 1606.4244384765625\n",
      "\r",
      "Test Cost: 1784.9935302734375\n",
      "\r\n",
      "Epoch: 96\n"
     ]
    },
    {
     "data": {
      "application/vnd.jupyter.widget-view+json": {
       "model_id": "47efe1c3cc6d4ce6bab1983bc4f662aa",
       "version_major": 2,
       "version_minor": 0
      },
      "text/plain": [
       "HBox(children=(IntProgress(value=0, max=1), HTML(value='')))"
      ]
     },
     "metadata": {},
     "output_type": "display_data"
    },
    {
     "name": "stdout",
     "output_type": "stream",
     "text": [
      "\n"
     ]
    },
    {
     "data": {
      "application/vnd.jupyter.widget-view+json": {
       "model_id": "e7cdc6430b504846bae5f54fca1eabc7",
       "version_major": 2,
       "version_minor": 0
      },
      "text/plain": [
       "HBox(children=(IntProgress(value=0, max=1), HTML(value='')))"
      ]
     },
     "metadata": {},
     "output_type": "display_data"
    },
    {
     "name": "stdout",
     "output_type": "stream",
     "text": [
      "\n",
      "\r",
      "Train Cost: 1775.7806396484375\n",
      "\r",
      "Test Cost: 1691.3504638671875\n",
      "\r\n",
      "Epoch: 97\n"
     ]
    },
    {
     "data": {
      "application/vnd.jupyter.widget-view+json": {
       "model_id": "e1c772b0911d4071ba1fd33cb0519a1c",
       "version_major": 2,
       "version_minor": 0
      },
      "text/plain": [
       "HBox(children=(IntProgress(value=0, max=1), HTML(value='')))"
      ]
     },
     "metadata": {},
     "output_type": "display_data"
    },
    {
     "name": "stdout",
     "output_type": "stream",
     "text": [
      "\n"
     ]
    },
    {
     "data": {
      "application/vnd.jupyter.widget-view+json": {
       "model_id": "13f0972e50304e30a7d42c4bc83e4f1d",
       "version_major": 2,
       "version_minor": 0
      },
      "text/plain": [
       "HBox(children=(IntProgress(value=0, max=1), HTML(value='')))"
      ]
     },
     "metadata": {},
     "output_type": "display_data"
    },
    {
     "name": "stdout",
     "output_type": "stream",
     "text": [
      "\n",
      "\r",
      "Train Cost: 1435.12353515625\n",
      "\r",
      "Test Cost: 1664.590087890625\n",
      "\r\n",
      "Epoch: 98\n"
     ]
    },
    {
     "data": {
      "application/vnd.jupyter.widget-view+json": {
       "model_id": "b4ca72a77ee44312ae552b21b4f291de",
       "version_major": 2,
       "version_minor": 0
      },
      "text/plain": [
       "HBox(children=(IntProgress(value=0, max=1), HTML(value='')))"
      ]
     },
     "metadata": {},
     "output_type": "display_data"
    },
    {
     "name": "stdout",
     "output_type": "stream",
     "text": [
      "\n"
     ]
    },
    {
     "data": {
      "application/vnd.jupyter.widget-view+json": {
       "model_id": "ab95ec13de3f469888d8e1c5367e5dec",
       "version_major": 2,
       "version_minor": 0
      },
      "text/plain": [
       "HBox(children=(IntProgress(value=0, max=1), HTML(value='')))"
      ]
     },
     "metadata": {},
     "output_type": "display_data"
    },
    {
     "name": "stdout",
     "output_type": "stream",
     "text": [
      "\n",
      "\r",
      "Train Cost: 1445.700927734375\n",
      "\r",
      "Test Cost: 1832.8563232421875\n",
      "\r\n",
      "Epoch: 99\n"
     ]
    },
    {
     "data": {
      "application/vnd.jupyter.widget-view+json": {
       "model_id": "da3ae5ab48c94216a8087f80ea79a674",
       "version_major": 2,
       "version_minor": 0
      },
      "text/plain": [
       "HBox(children=(IntProgress(value=0, max=1), HTML(value='')))"
      ]
     },
     "metadata": {},
     "output_type": "display_data"
    },
    {
     "name": "stdout",
     "output_type": "stream",
     "text": [
      "\n"
     ]
    },
    {
     "data": {
      "application/vnd.jupyter.widget-view+json": {
       "model_id": "d7d462fe48cb4fdab4fa6d5eaa90a7ec",
       "version_major": 2,
       "version_minor": 0
      },
      "text/plain": [
       "HBox(children=(IntProgress(value=0, max=1), HTML(value='')))"
      ]
     },
     "metadata": {},
     "output_type": "display_data"
    },
    {
     "name": "stdout",
     "output_type": "stream",
     "text": [
      "\n",
      "\r",
      "Train Cost: 1683.4722900390625\n",
      "\r",
      "Test Cost: 1707.9639892578125\n",
      "\n"
     ]
    }
   ],
   "source": [
    "train_data = training.optimize(100, model, optim, MSEGapLoss, dl_train, dl_test) "
   ]
  },
  {
   "cell_type": "code",
   "execution_count": 15,
   "metadata": {},
   "outputs": [
    {
     "data": {
      "image/png": "[encoded data removed]",
      "text/plain": [
       "<Figure size 1080x504 with 1 Axes>"
      ]
     },
     "metadata": {
      "needs_background": "light"
     },
     "output_type": "display_data"
    }
   ],
   "source": [
    "plotting.plot_train_data(train_data)\n",
    "# plt.ylim(ymin=0.0125, ymax=0.014)"
   ]
  },
  {
   "cell_type": "code",
   "execution_count": 17,
   "metadata": {},
   "outputs": [
    {
     "name": "stderr",
     "output_type": "stream",
     "text": [
      "/home/hector/Code/MSc/MLP/mlp-final-fork/libraries/mlp/dataset.py:111: RuntimeWarning: invalid value encountered in multiply\n",
      "  freqs = freqs[0] + freqs[1] * 1j\n"
     ]
    }
   ],
   "source": [
    "X_orig, y_orig = ds_test[0]\n",
    "\n",
    "pred_orig = model(X_orig.unsqueeze(0).to(device)).squeeze(0)\n",
    "pred_orig = X_orig.cpu() + loss_mask.cpu() * pred_orig.cpu()\n",
    "\n",
    "y = WAVAudioDS.torch_to_freqs(y_orig, normalization.denorm_polar)\n",
    "_, y_time = audio.istft(y, fs)\n",
    "\n",
    "pred = WAVAudioDS.torch_to_freqs(pred_orig, normalization.denorm_polar)\n",
    "_, pred_time = audio.istft(pred, fs)\n",
    "\n",
    "X = WAVAudioDS.torch_to_freqs(X_orig, normalization.denorm_polar)\n",
    "_, X_time = audio.istft(X, fs)"
   ]
  },
  {
   "cell_type": "code",
   "execution_count": 18,
   "metadata": {},
   "outputs": [
    {
     "data": {
      "text/html": [
       "\n",
       "                <audio  controls=\"controls\" >\n",
       "                    <source src=\"data:audio/wav;base64,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\" type=\"audio/wav\" />\n",
       "                    Your browser does not support the audio element.\n",
       "                </audio>\n",
       "              "
      ],
      "text/plain": [
       "<IPython.lib.display.Audio object>"
      ]
     },
     "execution_count": 18,
     "metadata": {},
     "output_type": "execute_result"
    }
   ],
   "source": [
    "audio.play_audio(y_time, rate=fs)"
   ]
  },
  {
   "cell_type": "code",
   "execution_count": 19,
   "metadata": {},
   "outputs": [
    {
     "data": {
      "text/html": [
       "\n",
       "                <audio  controls=\"controls\" >\n",
       "                    <source src=\"data:audio/wav;base64,UklGRiR/AABXQVZFZm10IBAAAAABAAEAgLsAAAB3AQACABAAZGF0YQB/AAAAAAAAAAAAAAAAAAAAAAAAAAAAAAAAAAAAAAAAAAAAAAAAAAAAAAAAAAAAAAAAAAAAAAAAAAAAAAAAAAAAAAAAAAAAAAAAAAAAAAAAAAAAAAAAAAAAAAAAAAAAAAAAAAAAAAAAAAAAAAAAAAAAAAAAAAAAAAAAAAAAAAAAAAAAAAAAAAAAAAAAAAAAAAAAAAAAAAAAAAAAAAAAAAAAAAAAAAAAAAAAAAAAAAAAAAAAAAAAAAAAAAAAAAAAAAAAAAAAAAAAAAAAAAAAAAAAAAAAAAAAAAAAAAAAAAAAAAAAAAAAAAAAAAAAAAAAAAAAAAAAAAAAAAAAAAAAAAAAAAAAAAAAAAAAAAAAAAAAAAAAAAAAAAAAAAAAAAAAAAAAAAAAAAAAAAAAAAAAAAAAAAAAAAAAAAAAAAAAAAAAAAAAAAAAAAAAAAAAAAAAAAAAAAAAAAAAAAAAAAAAAAAAAAAAAAAAAAAAAAAAAAAAAAAAAAAAAAAAAAAAAAAAAAAAAAAAAAAAAAAAAAAAAAAAAAAAAAAAAAAAAAAAAAAAAAAAAAAAAAAAAAAAAAAAAAAAAAAAAAAAAAAAAAAAAAAAAAAAAAAAAAAAAAAAAAAAAAAAAAAAAAAAAAAAAAAAAAAAAAAAAAAAAAAAAAAAAAAAAAAAAAAAAAAAAAAAAAAAAAAAAAAAAAAAAAAAAAAAAAAAAAAAAAAAAAAAAAAAAAAAAAAAAAAAAAAAAAAAAAAAAAAAAAAAAAAAAAAAAAAAAAAAAAAAAAAAAAAAAAAAAAAAAAAAAAAAAAAAAAAAAAAAAAAAAAAAAAAAAAAAAAAAAAAAAAAAAAAAAAAAAAAAAAAAAAAAAAAAAAAAAAAAAAAAAAAAAAAAAAAAAAAAAAAAAAAAAAAAAAAAAAAAAAAAAAAAAAAAAAAAAAAAAAAAAAAAAAAAAAAAAAAAAAAAAAAAAAAAAAAAAAAAAAAAAAAAAAAAAAAAAAAAAAAAAAAAAAAAAAAAAAAAAAAAAAAAAAAAAAAAAAAAAAAAAAAAAAAAAAAAAAAAAAAAAAAAAAAAAAAAAAAAAAAAAAAAAAAAAAAAAAAAAAAAAAAAAAAAAAAAAAAAAAAAAAAAAAAAAAAAAAAAAAAAAAAAAAAAAAAAAAAAAAAAAAAAAAAAAAAAAAAAAAAAAAAAAAAAAAAAAAAAAAAAAAAAAAAAAAAAAAAAAAAAAAAAAAAAAAAAAAAAAAAAAAAAAAAAAAAAAAAAAAAAAAAAAAAAAAAAAAAAAAAAAAAAAAAAAAAAAAAAAAAAAAAAAAAAAAAAAAAAAAAAAAAAAAAAAAAAAAAAAAAAAAAAAAAAAAAAAAAAAAAAAAAAAAAAAAAAAAAAAAAAAAAAAAAAAAAAAAAAAAAAAAAAAAAAAAAAAAAAAAAAAAAAAAAAAAAAAAAAAAAAAAAAAAAAAAAAAAAAAAAAAAAAAAAAAAAAAAAAAAAAAAAAAAAAAAAAAAAAAAAAAAAAAAAAAAAAAAAAAAAAAAAAAAAAAAAAAAAAAAAAAAAAAAAAAAAAAAAAAAAAAAAAAAAAAAAAAAAAAAAAAAAAAAAAAAAAAAAAAAAAAAAAAAAAAAAAAAAAAAAAAAAAAAAAAAAAAAAAAAAAAAAAAAAAAAAAAAAAAAAAAAAAAAAAAAAAAAAAAAAAAAAAAAAAAAAAAAAAAAAAAAAAAAAAAAAAAAAAAAAAAAAAAAAAAAAAAAAAAAAAAAAAAAAAAAAAAAAAAAAAAAAAAAAAAAAAAAAAAAAAAAAAAAAAAAAAAAAAAAAAAAAAAAAAAAAAAAAAAAAAAAAAAAAAAAAAAAAAAAAAAAAAAAAAAAAAAAAAAAAAAAAAAAAAAAAAAAAAAAAAAAAAAAAAAAAAAAAAAAAAAAAAAAAAAAAAAAAAAAAAAAAAAAAAAAAAAAAAAAAAAAAAAAAAAAAAAAAAAAAAAAAAAAAAAAAAAAAAAAAAAAAAAAAAAAAAAAAAAAAAAAAAAAAAAAAAAAAAAAAAAAAAAAAAAAAAAAAAAAAAAAAAAAAAAAAAAAAAAAAAAAAAAAAAAAAAAAAAAAAAAAAAAAAAAAAAAAAAAAAAAAAAAAAAAAAAAAAAAAAAAAAAAAAAAAAAAAAAAAAAAAAAAAAAAAAAAAAAAAAAAAAAAAAAAAAAAAAAAAAAAAAAAAAAAAAAAAAAAAAAAAAAAAAAAAAAAAAAAAAAAAAAAAAAAAAAAAAAAAAAAAAAAAAAAAAAAAAAAAAAAAAAAAAAAAAAAAAAAAAAAAAAAAAAAAAAAAAAAAAAAAAAAAAAAAAAAAAAAAAAAAAAAAAAAAAAAAAAAAAAAAAAAAAAAAAAAAAAAAAAAAAAAAAAAAAAAAAAAAAAAAAAAAAAAAAAAAAAAAAAAAAAAAAAAAAAAAAAAAAAAAAAAAAAAAAAAAAAAAAAAAAAAAAAAAAAAAAAAAAAAAAAAAAAAAAAAAAAAAAAAAAAAAAAAAAAAAAAAAAAAAAAAAAAAAAAAAAAAAAAAAAAAAAAAAAAAAAAAAAAAAAAAAAAAAAAAAAAAAAAAAAAAAAAAAAAAAAAAAAAAAAAAAAAAAAAAAAAAAAAAAAAAAAAAAAAAAAAAAAAAAAAAAAAAAAAAAAAAAAAAAAAAAAAAAAAAAAAAAAAAAAAAAAAAAAAAAAAAAAAAAAAAAAAAAAAAAAAAAAAAAAAAAAAAAAAAAAAAAAAAAAAAAAAAAAAAAAAAAAAAAAAAAAAAAAAAAAAAAAAAAAAAAAAAAAAAAAAAAAAAAAAAAAAAAAAAAAAAAAAAAAAAAAAAAAAAAAAAAAAAAAAAAAAAAAAAAAAAAAAAAAAAAAAAAAAAAAAAAAAAAAAAAAAAAAAAAAAAAAAAAAAAAAAAAAAAAAAAAAAAAAAAAAAAAAAAAAAAAAAAAAAAAAAAAAAAAAAAAAAAAAAAAAAAAAAAAAAAAAAAAAAAAAAAAAAAAAAAAAAAAAAAAAAAAAAAAAAAAAAAAAAAAAAAAAAAAAAAAAAAAAAAAAAAAAAAAAAAAAAAAAAAAAAAAAAAAAAAAAAAAAAAAAAAAAAAAAAAAAAAAAAAAAAAAAAAAAAAAAAAAAAAAAAAAAAAAAAAAAAAAAAAAAAAAAAAAAAAAAAAAAAAAAAAAAAAAAAAAAAAAAAAAAAAAAAAAAAAAAAAAAAAAAAAAAAAAAAAAAAAAAAAAAAAAAAAAAAAAAAAAAAAAAAAAAAAAAAAAAAAAAAAAAAAAAAAAAAAAAAAAAAAAAAAAAAAAAAAAAAAAAAAAAAAAAAAAAAAAAAAAAAAAAAAAAAAAAAAAAAAAAAAAAAAAAAAAAAAAAAAAAAAAAAAAAAAAAAAAAAAAAAAAAAAAAAAAAAAAAAAAAAAAAAAAAAAAAAAAAAAAAAAAAAAAAAAAAAAAAAAAAAAAAAAAAAAAAAAAAAAAAAAAAAAAAAAAAAAAAAAAAAAAAAAAAAAAAAAAAAAAAAAAAAAAAAAAAAAAAAAAAAAAAAAAAAAAAAAAAAAAAAAAAAAAAAAAAAAAAAAAAAAAAAAAAAAAAAAAAAAAAAAAAAAAAAAAAAAAAAAAAAAAAAAAAAAAAAAAAAAAAAAAAAAAAAAAAAAAAAAAAAAAAAAAAAAAAAAAAAAAAAAAAAAAAAAAAAAAAAAAAAAAAAAAAAAAAAAAAAAAAAAAAAAAAAAAAAAAAAAAAAAAAAAAAAAAAAAAAAAAAAAAAAAAAAAAAAAAAAAAAAAAAAAAAAAAAAAAAAAAAAAAAAAAAAAAAAAAAAAAAAAAAAAAAAAAAAAAAAAAAAAAAAAAAAAAAAAAAAAAAAAAAAAAAAAAAAAAAAAAAAAAAAAAAAAAAAAAAAAAAAAAAAAAAAAAAAAAAAAAAAAAAAAAAAAAAAAAAAAAAAAAAAAAAAAAAAAAAAAAAAAAAAAAAAAAAAAAAAAAAAAAAAAAAAAAAAAAAAAAAAAAAAAAAAAAAAAAAAAAAAAAAAAAAAAAAAAAAAAAAAAAAAAAAAAAAAAAAAAAAAAAAAAAAAAAAAAAAAAAAAAAAAAAAAAAAAAAAAAAAAAAAAAAAAAAAAAAAAAAAAAAAAAAAAAAAAAAAAAAAAAAAAAAAAAAAAAAAAAAAAAAAAAAAAAAAAAAAAAAAAAAAAAAAAAAAAAAAAAAAAAAAAAAAAAAAAAAAAAAAAAAAAAAAAAAAAAAAAAAAAAAAAAAAAAAAAAAAAAAAAAAAAAAAAAAAAAAAAAAAAAAAAAAAAAAAAAAAAAAAAAAAAAAAAAAAAAAAAAAAAAAAAAAAAAAAAAAAAAAAAAAAAAAAAAAAAAAAAAAAAAAAAAAAAAAAAAAAAAAAAAAAAAAAAAAAAAAAAAAAAAAAAAAAAAAAAAAAAAAAAAAAAAAAAAAAAAAAAAAAAAAAAAAAAAAAAAAAAAAAAAAAAAAAAAAAAAAAAAAAAAAAAAAAAAAAAAAAAAAAAAAAAAAAAAAAAAAAAAAAAAAAAAAAAAAAAAAAAAAAAAAAAAAAAAAAAAAAAAAAAAAAAAAAAAAAAAAAAAAAAAAAAAAAAAAAAAAAAAAAAAAAAAAAAAAAAAAAAAAAAAAAAAAAAAAAAAAAAAAAAAAAAAAAAAAAAAAAAAAAAAAAAAAAAAAAAAAAAAAAAAAAAAAAAAAAAAAAAAAAAAAAAAAAAAAAAAAAAAAAAAAAAAAAAAAAAAAAAAAAAAAAAAAAAAAAAAAAAAAAAAAAAAAAAAAAAAAAAAAAAAAAAAAAAAAAAAAAAAAAAAAAAAAAAAAAAAAAAAAAAAAAAAAAAAAAAAAAAAAAAAAAAAAAAAAAAAAAAAAAAAAAAAAAAAAAAAAAAAAAAAAAAAAAAAAAAAAAAAAAAAAAAAAAAAAAAAAAAAAAAAAAAAAAAAAAAAAAAAAAAAAAAAAAAAAAAAAAAAAAAAAAAAAAAAAAAAAAAAAAAAAAAAAAAAAAAAAAAAAAAAAAAAAAAAAAAAAAAAAAAAAAAAAAAAAAAAAAAAAAAAAAAAAAAAAAAAAAAAAAAAAAAAAAAAAAAAAAAAAAAAAAAAAAAAAAAAAAAAAAAAAAAAAAAAAAAAAAAAAAAAAAAAAAAAAAAAAAAAAAAAAAAAAAAAAAAAAAAAAAAAAAAAAAAAAAAAAAAAAAAAAAAAAAAAAAAAAAAAAAAAAAAAAAAAAAAAAAAAAAAAAAAAAAAAAAAAAAAAAAAAAAAAAAAAAAAAAAAAAAAAAAAAAAAAAAAAAAAAAAAAAAAAAAAAAAAAAAAAAAAAAAAAAAAAAAAAAAAAAAAAAAAAAAAAAAAAAAAAAAAAAAAAAAAAAAAAAAAAAAAAAAAAAAAAAAAAAAAAAAAAAAAAAAAAAAAAAAAAAAAAAAAAAAAAAAAAAAAAAAAAAAAAAAAAAAAAAAAAAAAAAAAAAAAAAAAAAAAAAAAAAAAAAAAAAAAAAAAAAAAAAAAAAAAAAAAAAAAAAAAAAAAAAAAAAAAAAAAAAAAAAAAAAAAAAAAAAAAAAAAAAAAAAAAAAAAAAAAAAAAAAAAAAAAAAAAAAAAAAAAAAAAAAAAAAAAAAAAAAAAAAAAAAAAAAAAAAAAAAAAAAAAAAAAAAAAAAAAAAAAAAAAAAAAAAAAAAAAAAAAAAAAAAAAAAAAAAAAAAAAAAAAAAAAAAAAAAAAAAAAAAAAAAAAAAAAAAAAAAAAAAAAAAAAAAAAAAAAAAAAAAAAAAAAAAAAAAAAAAAAAAAAAAAAAAAAAAAAAAAAAAAAAAAAAAAAAAAAAAAAAAAAAAAAAAAAAAAAAAAAAAAAAAAAAAAAAAAAAAAAAAAAAAAAAAAAAAAAAAAAAAAAAAAAAAAAAAAAAAAAAAAAAAAAAAAAAAAAAAAAAAAAAAAAAAAAAAAAAAAAAAAAAAAAAAAAAAAAAAAAAAAAAAAAAAAAAAAAAAAAAAAAAAAAAAAAAAAAAAAAAAAAAAAAAAAAAAAAAAAAAAAAAAAAAAAAAAAAAAAAAAAAAAAAAAAAAAAAAAAAAAAAAAAAAAAAAAAAAAAAAAAAAAAAAAAAAAAAAAAAAAAAAAAAAAAAAAAAAAAAAAAAAAAAAAAAAAAAAAAAAAAAAAAAAAAAAAAAAAAAAAAAAAAAAAAAAAAAAAAAAAAAAAAAAAAAAAAAAAAAAAAAAAAAAAAAAAAAAAAAAAAAAAAAAAAAAAAAAAAAAAAAAAAAAAAAAAAAAAAAAAAAAAAAAAAAAAAAAAAAAAAAAAAAAAAAAAAAAAAAAAAAAAAAAAAAAAAAAAAAAAAAAAAAAAAAAAAAAAAAAAAAAAAAAAAAAAAAAAAAAAAAAAAAAAAAAAAAAAAAAAAAAAAAAAAAAAAAAAAAAAAAAAAAAAAAAAAAAAAAAAAAAAAAAAAAAAAAAAAAAAAAAAAAAAAAAAAAAAAAAAAAAAAAAAAAAAAAAAAAAAAAAAAAAAAAAAAAAAAAAAAAAAAAAAAAAAAAAAAAAAAAAAAAAAAAAAAAAAAAAAAAAAAAAAAAAAAAAAAAAAAAAAAAAAAAAAAAAAAAAAAAAAAAAAAAAAAAAAAAAAAAAAAAAAAAAAAAAAAAAAAAAAAAAAAAAAAAAAAAAAAAAAAAAAAAAAAAAAAAAAAAAAAAAAAAAAAAAAAAAAAAAAAAAAAAAAAAAAAAAAAAAAAAAAAAAAAAAAAAAAAAAAAAAAAAAAAAAAAAAAAAAAAAAAAAAAAAAAAAAAAAAAAAAAAAAAAAAAAAAAAAAAAAAAAAAAAAAAAAAAAAAAAAAAAAAAAAAAAAAAAAAAAAAAAAAAAAAAAAAAAAAAAAAAAAAAAAAAAAAAAAAAAAAAAAAAAAAAAAAAAAAAAAAAAAAAAAAAAAAAAAAAAAAAAAAAAAAAAAAAAAAAAAAAAAAAAAAAAAAAAAAAAAAAAAAAAAAAAAAAAAAAAAAAAAAAAAAAAAAAAAAAAAAAAAAAAAAAAAAAAAAAAAAAAAAAAAAAAAAAAAAAAAAAAAAAAAAAAAAAAAAAAAAAAAAAAAAAAAAAAAAAAAAAAAAAAAAAAAAAAAAAAAAAAAAAAAAAAAAAAAAAAAAAAAAAAAAAAAAAAAAAAAAAAAAAAAAAAAAAAAAAAAAAAAAAAAAAAAAAAAAAAAAAAAAAAAAAAAAAAAAAAAAAAAAAAAAAAAAAAAAAAAAAAAAAAAAAAAAAAAAAAAAAAAAAAAAAAAAAAAAAAAAAAAAAAAAAAAAAAAAAAAAAAAAAAAAAAAAAAAAAAAAAAAAAAAAAAAAAAAAAAAAAAAAAAAAAAAAAAAAAAAAAAAAAAAAAAAAAAAAAAAAAAAAAAAAAAAAAAAAAAAAAAAAAAAAAAAAAAAAAAAAAAAAAAAAAAAAAAAAAAAAAAAAAAAAAAAAAAAAAAAAAAAAAAAAAAAAAAAAAAAAAAAAAAAAAAAAAAAAAAAAAAAAAAAAAAAAAAAAAAAAAAAAAAAAAAAAAAAAAAAAAAAAAAAAAAAAAAAAAAAAAAAAAAAAAAAAAAAAAAAAAAAAAAAAAAAAAAAAAAAAAAAAAAAAAAAAAAAAAAAAAAAAAAAAAAAAAAAAAAAAAAAAAAAAAAAAAAAAAAAAAAAAAAAAAAAAAAAAAAAAAAAAAAAAAAAAAAAAAAAAAAAAAAAAAAAAAAAAAAAAAAAAAAAAAAAAAAAAAAAAAAAAAAAAAAAAAAAAAAAAAAAAAAAAAAAAAAAAAAAAAAAAAAAAAAAAAAAAAAAAAAAAAAAAAAAAAAAAAAAAAAAAAAAAAAAAAAAAAAAAAAAAAAAAAAAAAAAAAAAAAAAAAAAAAAAAAAAAAAAAAAAAAAAAAAAAAAAAAAAAAAAAAAAAAAAAAAAAAAAAAAAAAAAAAAAAAAAAAAAAAAAAAAAAAAAAAAAAAAAAAAAAAAAAAAAAAAAAAAAAAAAAAAAAAAAAAAAAAAAAAAAAAAAAAAAAAAAAAAAAAAAAAAAAAAAAAAAAAAAAAAAAAAAAAAAAAAAAAAAAAAAAAAAAAAAAAAAAAAAAAAAAAAAAAAAAAAAAAAAAAAAAAAAAAAAAAAAAAAAAAAAAAAAAAAAAAAAAAAAAAAAAAAAAAAAAAAAAAAAAAAAAAAAAAAAAAAAAAAAAAAAAAAAAAAAAAAAAAAAAAAAAAAAAAAAAAAAAAAAAAAAAAAAAAAAAAAAAAAAAAAAAAAAAAAAAAAAAAAAAAAAAAAAAAAAAAAAAAAAAAAAAAAAAAAAAAAAAAAAAAAAAAAAAAAAAAAAAAAAAAAAAAAAAAAAAAAAAAAAAAAAAAAAAAAAAAAAAAAAAAAAAAAAAAAAAAAAAAAAAAAAAAAAAAAAAAAAAAAAAAAAAAAAAAAAAAAAAAAAAAAAAAAAAAAAAAAAAAAAAAAAAAAAAAAAAAAAAAAAAAAAAAAAAAAAAAAAAAAAAAAAAAAAAAAAAAAAAAAAAAAAAAAAAAAAAAAAAAAAAAAAAAAAAAAAAAAAAAAAAAAAAAAAAAAAAAAAAAAAAAAAAAAAAAAAAAAAAAAAAAAAAAAAAAAAAAAAAAAAAAAAAAAAAAAAAAAAAAAAAAAAAAAAAAAAAAAAAAAAAAAAAAAAAAAAAAAAAAAAAAAAAAAAAAAAAAAAAAAAAAAAAAAAAAAAAAAAAAAAAAAAAAAAAAAAAAAAAAAAAAAAAAAAAAAAAAAAAAAAAAAAAAAAAAAAAAAAAAAAAAAAAAAAAAAAAAAAAAAAAAAAAAAAAAAAAAAAAAAAAAAAAAAAAAAAAAAAAAAAAAAAAAAAAAAAAAAAAAAAAAAAAAAAAAAAAAAAAAAAAAAAAAAAAAAAAAAAAAAAAAAAAAAAAAAAAAAAAAAAAAAAAAAAAAAAAAAAAAAAAAAAAAAAAAAAAAAAAAAAAAAAAAAAAAAAAAAAAAAAAAAAAAAAAAAAAAAAAAAAAAAAAAAAAAAAAAAAAAAAAAAAAAAAAAAAAAAAAAAAAAAAAAAAAAAAAAAAAAAAAAAAAAAAAAAAAAAAAAAAAAAAAAAAAAAAAAAAAAAAAAAAAAAAAAAAAAAAAAAAAAAAAAAAAAAAAAAAAAAAAAAAAAAAAAAAAAAAAAAAAAAAAAAAAAAAAAAAAAAAAAAAAAAAAAAAAAAAAAAAAAAAAAAAAAAAAAAAAAAAAAAAAAAAAAAAAAAAAAAAAAAAAAAAAAAAAAAAAAAAAAAAAAAAAAAAAAAAAAAAAAAAAAAAAAAAAAAAAAAAAAAAAAAAAAAAAAAAAAAAAAAAAAAAAAAAAAAAAAAAAAAAAAAAAAAAAAAAAAAAAAAAAAAAAAAAAAAAAAAAAAAAAAAAAAAAAAAAAAAAAAAAAAAAAAAAAAAAAAAAAAAAAAAAAAAAAAAAAAAAAAAAAAAAAAAAAAAAAAAAAAAAAAAAAAAAAAAAAAAAAAAAAAAAAAAAAAAAAAAAAAAAAAAAAAAAAAAAAAAAAAAAAAAAAAAAAAAAAAAAAAAAAAAAAAAAAAAAAAAAAAAAAAAAAAAAAAAAAAAAAAAAAAAAAAAAAAAAAAAAAAAAAAAAAAAAAAAAAAAAAAAAAAAAAAAAAAAAAAAAAAAAAAAAAAAAAAAAAAAAAAAAAAAAAAAAAAAAAAAAAAAAAAAAAAAAAAAAAAAAAAAAAAAAAAAAAAAAAAAAAAAAAAAAAAAAAAAAAAAAAAAAAAAAAAAAAAAAAAAAAAAAAAAAAAAAAAAAAAAAAAAAAAAAAAAAAAAAAAAAAAAAAAAAAAAAAAAAAAAAAAAAAAAAAAAAAAAAAAAAAAAAAAAAAAAAAAAAAAAAAAAAAAAAAAAAAAAAAAAAAAAAAAAAAAAAAAAAAAAAAAAAAAAAAAAAAAAAAAAAAAAAAAAAAAAAAAAAAAAAAAAAAAAAAAAAAAAAAAAAAAAAAAAAAAAAAAAAAAAAAAAAAAAAAAAAAAAAAAAAAAAAAAAAAAAAAAAAAAAAAAAAAAAAAAAAAAAAAAAAAAAAAAAAAAAAAAAAAAAAAAAAAAAAAAAAAAAAAAAAAAAAAAAAAAAAAAAAAAAAAAAAAAAAAAAAAAAAAAAAAAAAAAAAAAAAAAAAAAAAAAAAAAAAAAAAAAAAAAAAAAAAAAAAAAAAAAAAAAAAAAAAAAAAAAAAAAAAAAAAAAAAAAAAAAAAAAAAAAAAAAAAAAAAAAAAAAAAAAAAAAAAAAAAAAAAAAAAAAAAAAAAAAAAAAAAAAAAAAAAAAAAAAAAAAAAAAAAAAAAAAAAAAAAAAAAAAAAAAAAAAAAAAAAAAAAAAAAAAAAAAAAAAAAAAAAAAAAAAAAAAAAAAAAAAAAAAAAAAAAAAAAAAAAAAAAAAAAAAAAAAAAAAAAAAAAAAAAAAAAAAAAAAAAAAAAAAAAAAAAAAAAAAAAAAAAAAAAAAAAAAAAAAAAAAAAAAAAAAAAAAAAAAAAAAAAAAAAAAAAAAAAAAAAAAAAAAAAAAAAAAAAAAAAAAAAAAAAAAAAAAAAAAAAAAAAAAAAAAAAAAAAAAAAAAAAAAAAAAAAAAAAAAAAAAAAAAAAAAAAAAAAAAAAAAAAAAAAAAAAAAAAAAAAAAAAAAAAAAAAAAAAAAAAAAAAAAAAAAAAAAAAAAAAAAAAAAAAAAAAAAAAAAAAAAAAAAAAAAAAAAAAAAAAAAAAAAAAAAAAAAAAAAAAAAAAAAAAAAAAAAAAAAAAAAAAAAAAAAAAAAAAAAAAAAAAAAAAAAAAAAAAAAAAAAAAAAAAAAAAAAAAAAAAAAAAAAAAAAAAAAAAAAAAAAAAAAAAAAAAAAAAAAAAAAAAAAAAAAAAAAAAAAAAAAAAAAAAAAAAAAAAAAAAAAAAAAAAAAAAAAAAAAAAAAAAAAAAAAAAAAAAAAAAAAAAAAAAAAAAAAAAAAAAAAAAAAAAAAAAAAAAAAAAAAAAAAAAAAAAAAAAAAAAAAAAAAAAAAAAAAAAAAAAAAAAAAAAAAAAAAAAAAAAAAAAAAAAAAAAAAAAAAAAAAAAAAAAAAAAAAAAAAAAAAAAAAAAAAAAAAAAAAAAAAAAAAAAAAAAAAAAAAAAAAAAAAAAAAAAAAAAAAAAAAAAAAAAAAAAAAAAAAAAAAAAAAAAAAAAAAAAAAAAAAAAAAAAAAAAAAAAAAAAAAAAAAAAAAAAAAAAAAAAAAAAAAAAAAAAAAAAAAAAAAAAAAAAAAAAAAAAAAAAAAAAAAAAAAAAAAAAAAAAAAAAAAAAAAAAAAAAAAAAAAAAAAAAAAAAAAAAAAAAAAAAAAAAAAAAAAAAAAAAAAAAAAAAAAAAAAAAAAAAAAAAAAAAAAAAAAAAAAAAAAAAAAAAAAAAAAAAAAAAAAAAAAAAAAAAAAAAAAAAAAAAAAAAAAAAAAAAAAAAAAAAAAAAAAAAAAAAAAAAAAAAAAAAAAAAAAAAAAAAAAAAAAAAAAAAAAAAAAAAAAAAAAAAAAAAAAAAAAAAAAAAAAAAAAAAAAAAAAAAAAAAAAAAAAAAAAAAAAAAAAAAAAAAAAAAAAAAAAAAAAAAAAAAAAAAAAAAAAAAAAAAAAAAAAAAAAAAAAAAAAAAAAAAAAAAAAAAAAAAAAAAAAAAAAAAAAAAAAAAAAAAAAAAAAAAAAAAAAAAAAAAAAAAAAAAAAAAAAAAAAAAAAAAAAAAAAAAAAAAAAAAAAAAAAAAAAAAAAAAAAAAAAAAAAAAAAAAAAAAAAAAAAAAAAAAAAAAAAAAAAAAAAAAAAAAAAAAAAAAAAAAAAAAAAAAAAAAAAAAAAAAAAAAAAAAAAAAAAAAAAAAAAAAAAAAAAAAAAAAAAAAAAAAAAAAAAAAAAAAAAAAAAAAAAAAAAAAAAAAAAAAAAAAAAAAAAAAAAAAAAAAAAAAAAAAAAAAAAAAAAAAAAAAAAAAAAAAAAAAAAAAAAAAAAAAAAAAAAAAAAAAAAAAAAAAAAAAAAAAAAAAAAAAAAAAAAAAAAAAAAAAAAAAAAAAAAAAAAAAAAAAAAAAAAAAAAAAAAAAAAAAAAAAAAAAAAAAAAAAAAAAAAAAAAAAAAAAAAAAAAAAAAAAAAAAAAAAAAAAAAAAAAAAAAAAAAAAAAAAAAAAAAAAAAAAAAAAAAAAAAAAAAAAAAAAAAAAAAAAAAAAAAAAAAAAAAAAAAAAAAAAAAAAAAAAAAAAAAAAAAAAAAAAAAAAAAAAAAAAAAAAAAAAAAAAAAAAAAAAAAAAAAAAAAAAAAAAAAAAAAAAAAAAAAAAAAAAAAAAAAAAAAAAAAAAAAAAAAAAAAAAAAAAAAAAAAAAAAAAAAAAAAAAAAAAAAAAAAAAAAAAAAAAAAAAAAAAAAAAAAAAAAAAAAAAAAAAAAAAAAAAAAAAAAAAAAAAAAAAAAAAAAAAAAAAAAAAAAAAAAAAAAAAAAAAAAAAAAAAAAAAAAAAAAAAAAAAAAAAAAAAAAAAAAAAAAAAAAAAAAAAAAAAAAAAAAAAAAAAAAAAAAAAAAAAAAAAAAAAAAAAAAAAAAAAAAAAAAAAAAAAAAAAAAAAAAAAAAAAAAAAAAAAAAAAAAAAAAAAAAAAAAAAAAAAAAAAAAAAAAAAAAAAAAAAAAAAAAAAAAAAAAAAAAAAAAAAAAAAAAAAAAAAAAAAAAAAAAAAAAAAAAAAAAAAAAAAAAAAAAAAAAAAAAAAAAAAAAAAAAAAAAAAAAAAAAAAAAAAAAAAAAAAAAAAAAAAAAAAAAAAAAAAAAAAAAAAAAAAAAAAAAAAAAAAAAAAAAAAAAAAAAAAAAAAAAAAAAAAAAAAAAAAAAAAAAAAAAAAAAAAAAAAAAAAAAAAAAAAAAAAAAAAAAAAAAAAAAAAAAAAAAAAAAAAAAAAAAAAAAAAAAAAAAAAAAAAAAAAAAAAAAAAAAAAAAAAAAAAAAAAAAAAAAAAAAAAAAAAAAAAAAAAAAAAAAAAAAAAAAAAAAAAAAAAAAAAAAAAAAAAAAAAAAAAAAAAAAAAAAAAAAAAAAAAAAAAAAAAAAAAAAAAAAAAAAAAAAAAAAAAAAAAAAAAAAAAAAAAAAAAAAAAAAAAAAAAAAAAAAAAAAAAAAAAAAAAAAAAAAAAAAAAAAAAAAAAAAAAAAAAAAAAAAAAAAAAAAAAAAAAAAAAAAAAAAAAAAAAAAAAAAAAAAAAAAAAAAAAAAAAAAAAAAAAAAAAAAAAAAAAAAAAAAAAAAAAAAAAAAAAAAAAAAAAAAAAAAAAAAAAAAAAAAAAAAAAAAAAAAAAAAAAAAAAAAAAAAAAAAAAAAAAAAAAAAAAAAAAAAAAAAAAAAAAAAAAAAAAAAAAAAAAAAAAAAAAAAAAAAAAAAAAAAAAAAAAAAAAAAAAAAAAAAAAAAAAAAAAAAAAAAAAAAAAAAAAAAAAAAAAAAAAAAAAAAAAAAAAAAAAAAAAAAAAAAAAAAAAAAAAAAAAAAAAAAAAAAAAAAAAAAAAAAAAAAAAAAAAAAAAAAAAAAAAAAAAAAAAAAAAAAAAAAAAAAAAAAAAAAAAAAAAAAAAAAAAAAAAAAAAAAAAAAAAAAAAAAAAAAAAAAAAAAAAAAAAAAAAAAAAAAAAAAAAAAAAAAAAAAAAAAAAAAAAAAAAAAAAAAAAAAAAAAAAAAAAAAAAAAAAAAAAAAAAAAAAAAAAAAAAAAAAAAAAAAAAAAAAAAAAAAAAAAAAAAAAAAAAAAAAAAAAAAAAAAAAAAAAAAAAAAAAAAAAAAAAAAAAAAAAAAAAAAAAAAAAAAAAAAAAAAAAAAAAAAAAAAAAAAAAAAAAAAAAAAAAAAAAAAAAAAAAAAAAAAAAAAAAAAAAAAAAAAAAAAAAAAAAAAAAAAAAAAAAAAAAAAAAAAAAAAAAAAAAAAAAAAAAAAAAAAAAAAAAAAAAAAAAAAAAAAAAAAAAAAAAAAAAAAAAAAAAAAAAAAAAAAAAAAAAAAAAAAAAAAAAAAAAAAAAAAAAAAAAAAAAAAAAAAAAAAAAAAAAAAAAAAAAAAAAAAAAAAAAAAAAAAAAAAAAAAAAAAAAAAAAAAAAAAAAAAAAAAAAAAAAAAAAAAAAAAAAAAAAAAAAAAAAAAAAAAAAAAAAAAAAAAAAAAAAAAAAAAAAAAAAAAAAAAAAAAAAAAAAAAAAAAAAAAAAAAAAAAAAAAAAAAAAAAAAAAAAAAAAAAAAAAAAAAAAAAAAAAAAAAAAAAAAAAAAAAAAAAAAAAAAAAAAAAAAAAAAAAAAAAAAAAAAAAAAAAAAAAAAAAAAAAAAAAAAAAAAAAAAAAAAAAAAAAAAAAAAAAAAAAAAAAAAAAAAAAAAAAAAAAAAAAAAAAAAAAAAAAAAAAAAAAAAAAAAAAAAAAAAAAAAAAAAAAAAAAAAAAAAAAAAAAAAAAAAAAAAAAAAAAAAAAAAAAAAAAAAAAAAAAAAAAAAAAAAAAAAAAAAAAAAAAAAAAAAAAAAAAAAAAAAAAAAAAAAAAAAAAAAAAAAAAAAAAAAAAAAAAAAAAAAAAAAAAAAAAAAAAAAAAAAAAAAAAAAAAAAAAAAAAAAAAAAAAAAAAAAAAAAAAAAAAAAAAAAAAAAAAAAAAAAAAAAAAAAAAAAAAAAAAAAAAAAAAAAAAAAAAAAAAAAAAAAAAAAAAAAAAAAAAAAAAAAAAAAAAAAAAAAAAAAAAAAAAAAAAAAAAAAAAAAAAAAAAAAAAAAAAAAAAAAAAAAAAAAAAAAAAAAAAAAAAAAAAAAAAAAAAAAAAAAAAAAAAAAAAAAAAAAAAAAAAAAAAAAAAAAAAAAAAAAAAAAAAAAAAAAAAAAAAAAAAAAAAAAAAAAAAAAAAAAAAAAAAAAAAAAAAAAAAAAAAAAAAAAAAAAAAAAAAAAAAAAAAAAAAAAAAAAAAAAAAAAAAAAAAAAAAAAAAAAAAAAAAAAAAAAAAAAAAAAAAAAAAAAAAAAAAAAAAAAAAAAAAAAAAAAAAAAAAAAAAAAAAAAAAAAAAAAAAAAAAAAAAAAAAAAAAAAAAAAAAAAAAAAAAAAAAAAAAAAAAAAAAAAAAAAAAAAAAAAAAAAAAAAAAAAAAAAAAAAAAAAAAAAAAAAAAAAAAAAAAAAAAAAAAAAAAAAAAAAAAAAAAAAAAAAAAAAAAAAAAAAAAAAAAAAAAAAAAAAAAAAAAAAAAAAAAAAAAAAAAAAAAAAAAAAAAAAAAAAAAAAAAAAAAAAAAAAAAAAAAAAAAAAAAAAAAAAAAAAAAAAAAAAAAAAAAAAAAAAAAAAAAAAAAAAAAAAAAAAAAAAAAAAAAAAAAAAAAAAAAAAAAAAAAAAAAAAAAAAAAAAAAAAAAAAAAAAAAAAAAAAAAAAAAAAAAAAAAAAAAAAAAAAAAAAAAAAAAAAAAAAAAAAAAAAAAAAAAAAAAAAAAAAAAAAAAAAAAAAAAAAAAAAAAAAAAAAAAAAAAAAAAAAAAAAAAAAAAAAAAAAAAAAAAAAAAAAAAAAAAAAAAAAAAAAAAAAAAAAAAAAAAAAAAAAAAAAAAAAAAAAAAAAAAAAAAAAAAAAAAAAAAAAAAAAAAAAAAAAAAAAAAAAAAAAAAAAAAAAAAAAAAAAAAAAAAAAAAAAAAAAAAAAAAAAAAAAAAAAAAAAAAAAAAAAAAAAAAAAAAAAAAAAAAAAAAAAAAAAAAAAAAAAAAAAAAAAAAAAAAAAAAAAAAAAAAAAAAAAAAAAAAAAAAAAAAAAAAAAAAAAAAAAAAAAAAAAAAAAAAAAAAAAAAAAAAAAAAAAAAAAAAAAAAAAAAAAAAAAAAAAAAAAAAAAAAAAAAAAAAAAAAAAAAAAAAAAAAAAAAAAAAAAAAAAAAAAAAAAAAAAAAAAAAAAAAAAAAAAAAAAAAAAAAAAAAAAAAAAAAAAAAAAAAAAAAAAAAAAAAAAAAAAAAAAAAAAAAAAAAAAAAAAAAAAAAAAAAAAAAAAAAAAAAAAAAAAAAAAAAAAAAAAAAAAAAAAAAAAAAAAAAAAAAAAAAAAAAAAAAAAAAAAAAAAAAAAAAAAAAAAAAAAAAAAAAAAAAAAAAAAAAAAAAAAAAAAAAAAAAAAAAAAAAAAAAAAAAAAAAAAAAAAAAAAAAAAAAAAAAAAAAAAAAAAAAAAAAAAAAAAAAAAAAAAAAAAAAAAAAAAAAAAAAAAAAAAAAAAAAAAAAAAAAAAAAAAAAAAAAAAAAAAAAAAAAAAAAAAAAAAAAAAAAAAAAAAAAAAAAAAAAAAAAAAAAAAAAAAAAAAAAAAAAAAAAAAAAAAAAAAAAAAAAAAAAAAAAAAAAAAAAAAAAAAAAAAAAAAAAAAAAAAAAAAAAAAAAAAAAAAAAAAAAAAAAAAAAAAAAAAAAAAAAAAAAAAAAAAAAAAAAAAAAAAAAAAAAAAAAAAAAAAAAAAAAAAAAAAAAAAAAAAAAAAAAAAAAAAAAAAAAAAAAAAAAAAAAAAAAAAAAAAAAAAAAAAAAAAAAAAAAAAAAAAAAAAAAAAAAAAAAAAAAAAAAAAAAAAAAAAAAAAAAAAAAAAAAAAAAAAAAAAAAAAAAAAAAAAAAAAAAAAAAAAAAAAAAAAAAAAAAAAAAAAAAAAAAAAAAAAAAAAAAAAAAAAAAAAAAAAAAAAAAAAAAAAAAAAAAAAAAAAAAAAAAAAAAAAAAAAAAAAAAAAAAAAAAAAAAAAAAAAAAAAAAAAAAAAAAAAAAAAAAAAAAAAAAAAAAAAAAAAAAAAAAAAAAAAAAAAAAAAAAAAAAAAAAAAAAAAAAAAAAAAAAAAAAAAAAAAAAAAAAAAAAAAAAAAAAAAAAAAAAAAAAAAAAAAAAAAAAAAAAAAAAAAAAAAAAAAAAAAAAAAAAAAAAAAAAAAAAAAAAAAAAAAAAAAAAAAAAAAAAAAAAAAAAAAAAAAAAAAAAAAAAAAAAAAAAAAAAAAAAAAAAAAAAAAAAAAAAAAAAAAAAAAAAAAAAAAAAAAAAAAAAAAAAAAAAAAAAAAAAAAAAAAAAAAAAAAAAAAAAAAAAAAAAAAAAAAAAAAAAAAAAAAAAAAAAAAAAAAAAAAAAAAAAAAAAAAAAAAAAAAAAAAAAAAAAAAAAAAAAAAAAAAAAAAAAAAAAAAAAAAAAAAAAAAAAAAAAAAAAAAAAAAAAAAAAAAAAAAAAAAAAAAAAAAAAAAAAAAAAAAAAAAAAAAAAAAAAAAAAAAAAAAAAAAAAAAAAAAAAAAAAAAAAAAAAAAAAAAAAAAAAAAAAAAAAAAAAAAAAAAAAAAAAAAAAAAAAAAAAAAAAAAAAAAAAAAAAAAAAAAAAAAAAAAAAAAAAAAAAAAAAAAAAAAAAAAAAAAAAAAAAAAAAAAAAAAAAAAAAAAAAAAAAAAAAAAAAAAAAAAAAAAAAAAAAAAAAAAAAAAAAAAAAAAAAAAAAAAAAAAAAAAAAAAAAAAAAAAAAAAAAAAAAAAAAAAAAAAAAAAAAAAAAAAAAAAAAAAAAAAAAAAAAAAAAAAAAAAAAAAAAAAAAAAAAAAAAAAAAAAAAAAAAAAAAAAAAAAAAAAAAAAAAAAAAAAAAAAAAAAAAAAAAAAAAAAAAAAAAAAAAAAAAAAAAAAAAAAAAAAAAAAAAAAAAAAAAAAAAAAAAAAAAAAAAAAAAAAAAAAAAAAAAAAAAAAAAAAAAAAAAAAAAAAAAAAAAAAAAAAAAAAAAAAAAAAAAAAAAAAAAAAAAAAAAAAAAAAAAAAAAAAAAAAAAAAAAAAAAAAAAAAAAAAAAAAAAAAAAAAAAAAAAAAAAAAAAAAAAAAAAAAAAAAAAAAAAAAAAAAAAAAAAAAAAAAAAAAAAAAAAAAAAAAAAAAAAAAAAAAAAAAAAAAAAAAAAAAAAAAAAAAAAAAAAAAAAAAAAAAAAAAAAAAAAAAAAAAAAAAAAAAAAAAAAAAAAAAAAAAAAAAAAAAAAAAAAAAAAAAAAAAAAAAAAAAAAAAAAAAAAAAAAAAAAAAAAAAAAAAAAAAAAAAAAAAAAAAAAAAAAAAAAAAAAAAAAAAAAAAAAAAAAAAAAAAAAAAAAAAAAAAAAAAAAAAAAAAAAAAAAAAAAAAAAAAAAAAAAAAAAAAAAAAAAAAAAAAAAAAAAAAAAAAAAAAAAAAAAAAAAAAAAAAAAAAAAAAAAAAAAAAAAAAAAAAAAAAAAAAAAAAAAAAAAAAAAAAAAAAAAAAAAAAAAAAAAAAAAAAAAAAAAAAAAAAAAAAAAAAAAAAAAAAAAAAAAAAAAAAAAAAAAAAAAAAAAAAAAAAAAAAAAAAAAAAAAAAAAAAAAAAAAAAAAAAAAAAAAAAAAAAAAAAAAAAAAAAAAAAAAAAAAAAAAAAAAAAAAAAAAAAAAAAAAAAAAAAAAAAAAAAAAAAAAAAAAAAAAAAAAAAAAAAAAAAAAAAAAAAAAAAAAAAAAAAAAAAAAAAAAAAAAAAAAAAAAAAAAAAAAAAAAAAAAAAAAAAAAAAAAAAAAAAAAAAAAAAAAAAAAAAAAAAAAAAAAAAAAAAAAAAAAAAAAAAAAAAAAAAAAAAAAAAAAAAAAAAAAAAAAAAAAAAAAAAAAAAAAAAAAAAAAAAAAAAAAAAAAAAAAAAAAAAAAAAAAAAAAAAAAAAAAAAAAAAAAAAAAAAAAAAAAAAAAAAAAAAAAAAAAAAAAAAAAAAAAAAAAAAAAAAAAAAAAAAAAAAAAAAAAAAAAAAAAAAAAAAAAAAAAAAAAAAAAAAAAAAAAAAAAAAAAAAAAAAAAAAAAAAAAAAAAAAAAAAAAAAAAAAAAAAAAAAAAAAAAAAAAAAAAAAAAAAAAAAAAAAAAAAAAAAAAAAAAAAAAAAAAAAAAAAAAAAAAAAAAAAAAAAAAAAAAAAAAAAAAAAAAAAAAAAAAAAAAAAAAAAAAAAAAAAAAAAAAAAAAAAAAAAAAAAAAAAAAAAAAAAAAAAAAAAAAAAAAAAAAAAAAAAAAAAAAAAAAAAAAAAAAAAAAAAAAAAAAAAAAAAAAAAAAAAAAAAAAAAAAAAAAAAAAAAAAAAAAAAAAAAAAAAAAAAAAAAAAAAAAAAAAAAAAAAAAAAAAAAAAAAAAAAAAAAAAAAAAAAAAAAAAAAAAAAAAAAAAAAAAAAAAAAAAAAAAAAAAAAAAAAAAAAAAAAAAAAAAAAAAAAAAAAAAAAAAAAAAAAAAAAAAAAAAAAAAAAAAAAAAAAAAAAAAAAAAAAAAAAAAAAAAAAAAAAAAAAAAAAAAAAAAAAAAAAAAAAAAAAAAAAAAAAAAAAAAAAAAAAAAAAAAAAAAAAAAAAAAAAAAAAAAAAAAAAAAAAAAAAAAAAAAAAAAAAAAAAAAAAAAAAAAAAAAAAAAAAAAAAAAAAAAAAAAAAAAAAAAAAAAAAAAAAAAAAAAAAAAAAAAAAAAAAAAAAAAAAAAAAAAAAAAAAAAAAAAAAAAAAAAAAAAAAAAAAAAAAAAAAAAAAAAAAAAAAAAAAAAAAAAAAAAAAAAAAAAAAAAAAAAAAAAAAAAAAAAAAAAAAAAAAAAAAAAAAAAAAAAAAAAAAAAAAAAAAAAAAAAAAAAAAAAAAAAAAAAAAAAAAAAAAAAAAAAAAAAAAAAAAAAAAAAAAAAAAAAAAAAAAAAAAAAAAAAAAAAAAAAAAAAAAAAAAAAAAAAAAAAAAAAAAAAAAAAAAAAAAAAAAAAAAAAAAAAAAAAAAAAAAAAAAAAAAAAAAAAAAAAAAAAAAAAAAAAAAAAAAAAAAAAAAAAAAAAAAAAAAAAAAAAAAAAAAAAAAAAAAAAAAAAAAAAAAAAAAAAAAAAAAAAAAAAAAAAAAAAAAAAAAAAAAAAAAAAAAAAAAAAAAAAAAAAAAAAAAAAAAAAAAAAAAAAAAAAAAAAAAAAAAAAAAAAAAAAAAAAAAAAAAAAAAAAAAAAAAAAAAAAAAAAAAAAAAAAAAAAAAAAAAAAAAAAAAAAAAAAAAAAAAAAAAAAAAAAAAAAAAAAAAAAAAAAAAAAAAAAAAAAAAAAAAAAAAAAAAAAAAAAAAAAAAAAAAAAAAAAAAAAAAAAAAAAAAAAAAAAAAAAAAAAAAAAAAAAAAAAAAAAAAAAAAAAAAAAAAAAAAAAAAAAAAAAAAAAAAAAAAAAAAAAAAAAAAAAAAAAAAAAAAAAAAAAAAAAAAAAAAAAAAAAAAAAAAAAAAAAAAAAAAAAAAAAAAAAAAAAAAAAAAAAAAAAAAAAAAAAAAAAAAAAAAAAAAAAAAAAAAAAAAAAAAAAAAAAAAAAAAAAAAAAAAAAAAAAAAAAAAAAAAAAAAAAAAAAAAAAAAAAAAAAAAAAAAAAAAAAAAAAAAAAAAAAAAAAAAAAAAAAAAAAAAAAAAAAAAAAAAAAAAAAAAAAAAAAAAAAAAAAAAAAAAAAAAAAAAAAAAAAAAAAAAAAAAAAAAAAAAAAAAAAAAAAAAAAAAAAAAAAAAAAAAAAAAAAAAAAAAAAAAAAAAAAAAAAAAAAAAAAAAAAAAAAAAAAAAAAAAAAAAAAAAAAAAAAAAAAAAAAAAAAAAAAAAAAAAAAAAAAAAAAAAAAAAAAAAAAAAAAAAAAAAAAAAAAAAAAAAAAAAAAAAAAAAAAAAAAAAAAAAAAAAAAAAAAAAAAAAAAAAAAAAAAAAAAAAAAAAAAAAAAAAAAAAAAAAAAAAAAAAAAAAAAAAAAAAAAAAAAAAAAAAAAAAAAAAAAAAAAAAAAAAAAAAAAAAAAAAAAAAAAAAAAAAAAAAAAAAAAAAAAAAAAAAAAAAAAAAAAAAAAAAAAAAAAAAAAAAAAAAAAAAAAAAAAAAAAAAAAAAAAAAAAAAAAAAAAAAAAAAAAAAAAAAAAAAAAAAAAAAAAAAAAAAAAAAAAAAAAAAAAAAAAAAAAAAAAAAAAAAAAAAAAAAAAAAAAAAAAAAAAAAAAAAAAAAAAAAAAAAAAAAAAAAAAAAAAAAAAAAAAAAAAAAAAAAAAAAAAAAAAAAAAAAAAAAAAAAAAAAAAAAAAAAAAAAAAAAAAAAAAAAAAAAAAAAAAAAAAAAAAAAAAAAAAAAAAAAAAAAAAAAAAAAAAAAAAAAAAAAAAAAAAAAAAAAAAAAAAAAAAAAAAAAAAAAAAAAAAAAAAAAAAAAAAAAAAAAAAAAAAAAAAAAAAAAAAAAAAAAAAAAAAAAAAAAAAAAAAAAAAAAAAAAAAAAAAAAAAAAAAAAAAAAAAAAAAAAAAAAAAAAAAAAAAAAAAAAAAAAAAAAAAAAAAAAAAAAAAAAAAAAAAAAAAAAAAAAAAAAAAAAAAAAAAAAAAAAAAAAAAAAAAAAAAAAAAAAAAAAAAAAAAAAAAAAAAAAAAAAAAAAAAAAAAAAAAAAAAAAAAAAAAAAAAAAAAAAAAAAAAAAAAAAAAAAAAAAAAAAAAAAAAAAAAAAAAAAAAAAAAAAAAAAAAAAAAAAAAAAAAAAAAAAAAAAAAAAAAAAAAAAAAAAAAAAAAAAAAAAAAAAAAAAAAAAAAAAAAAAAAAAAAAAAAAAAAAAAAAAAAAAAAAAAAAAAAAAAAAAAAAAAAAAAAAAAAAAAAAAAAAAAAAAAAAAAAAAAAAAAAAAAAAAAAAAAAAAAAAAAAAAAAAAAAAAAAAAAAAAAAAAAAAAAAAAAAAAAAAAAAAAAAAAAAAAAAAAAAAAAAAAAAAAAAAAAAAAAAAAAAAAAAAAAAAAAAAAAAAAAAAAAAAAAAAAAAAAAAAAAAAAAAAAAAAAAAAAAAAAAAAAAAAAAAAAAAAAAAAAAAAAAAAAAAAAAAAAAAAAAAAAAAAAAAAAAAAAAAAAAAAAAAAAAAAAAAAAAAAAAAAAAAAAAAAAAAAAAAAAAAAAAAAAAAAAAAAAAAAAAAAAAAAAAAAAAAAAAAAAAAAAAAAAAAAAAAAAAAAAAAAAAAAAAAAAAAAAAAAAAAAAAAAAAAAAAAAAAAAAAAAAAAAAAAAAAAAAAAAAAAAAAAAAAAAAAAAAAAAAAAAAAAAAAAAAAAAAAAAAAAAAAAAAAAAAAAAAAAAAAAAAAAAAAAAAAAAAAAAAAAAAAAAAAAAAAAAAAAAAAAAAAAAAAAAAAAAAAAAAAAAAAAAAAAAAAAAAAAAAAAAAAAAAAAAAAAAAAAAAAAAAAAAAAAAAAAAAAAAAAAAAAAAAAAAAAAAAAAAAAAAAAAAAAAAAAAAAAAAAAAAAAAAAAAAAAAAAAAAAAAAAAAAAAAAAAAAAAAAAAAAAAAAAAAAAAAAAAAAAAAAAAAAAAAAAAAAAAAAAAAAAAAAAAAAAAAAAAAAAAAAAAAAAAAAAAAAAAAAAAAAAAAAAAAAAAAAAAAAAAAAAAAAAAAAAAAAAAAAAAAAAAAAAAAAAAAAAAAAAAAAAAAAAAAAAAAAAAAAAAAAAAAAAAAAAAAAAAAAAAAAAAAAAAAAAAAAAAAAAAAAAAAAAAAAAAAAAAAAAAAAAAAAAAAAAAAAAAAAAAAAAAAAAAAAAAAAAAAAAAAAAAAAAAAAAAAAAAAAAAAAAAAAAAAAAAAAAAAAAAAAAAAAAAAAAAAAAAAAAAAAAAAAAAAAAAAAAAAAAAAAAAAAAAAAAAAAAAAAAAAAAAAAAAAAAAAAAAAAAAAAAAAAAAAAAAAAAAAAAAAAAAAAAAAAAAAAAAAAAAAAAAAAAAAAAAAAAAAAAAAAAAAAAAAAAAAAAAAAAAAAAAAAAAAAAAAAAAAAAAAAAAAAAAAAAAAAAAAAAAAAAAAAAAAAAAAAAAAAAAAAAAAAAAAAAAAAAAAAAAAAAAAAAAAAAAAAAAAAAAAAAAAAAAAAAAAAAAAAAAAAAAAAAAAAAAAAAAAAAAAAAAAAAAAAAAAAAAAAAAAAAAAAAAAAAAAAAAAAAAAAAAAAAAAAAAAAAAAAAAAAAAAAAAAAAAAAAAAAAAAAAAAAAAAAAAAAAAAAAAAAAAAAAAAAAAAAAAAAAAAAAAAAAAAAAAAAAAAAAAAAAAAAAAAAAAAAAAAAAAAAAAAAAAAAAAAAAAAAAAAAAAAAAAAAAAAAAAAAAAAAAAAAAAAAAAAAAAAAAAAAAAAAAAAAAAAAAAAAAAAAAAAAAAAAAAAAAAAAAAAAAAAAAAAAAAAAAAAAAAAAAAAAAAAAAAAAAAAAAAAAAAAAAAAAAAAAAAAAAAAAAAAAAAAAAAAAAAAAAAAAAAAAAAAAAAAAAAAAAAAAAAAAAAAAAAAAAAAAAAAAAAAAAAAAAAAAAAAAAAAAAAAAAAAAAAAAAAAAAAAAAAAAAAAAAAAAAAAAAAAAAAAAAAAAAAAAAAAAAAAAAAAAAAAAAAAAAAAAAAAAAAAAAAAAAAAAAAAAAAAAAAAAAAAAAAAAAAAAAAAAAAAAAAAAAAAAAAAAAAAAAAAAAAAAAAAAAAAAAAAAAAAAAAAAAAAAAAAAAAAAAAAAAAAAAAAAAAAAAAAAAAAAAAAAAAAAAAAAAAAAAAAAAAAAAAAAAAAAAAAAAAAAAAAAAAAAAAAAAAAAAAAAAAAAAAAAAAAAAAAAAAAAAAAAAAAAAAAAAAAAAAAAAAAAAAAAAAAAAAAAAAAAAAAAAAAAAAAAAAAAAAAAAAAAAAAAAAAAAAAAAAAAAAAAAAAAAAAAAAAAAAAAAAAAAAAAAAAAAAAAAAAAAAAAAAAAAAAAAAAAAAAAAAAAAAAAAAAAAAAAAAAAAAAAAAAAAAAAAAAAAAAAAAAAAAAAAAAAAAAAAAAAAAAAAAAAAAAAAAAAAAAAAAAAAAAAAAAAAAAAAAAAAAAAAAAAAAAAAAAAAAAAAAAAAAAAAAAAAAAAAAAAAAAAAAAAAAAAAAAAAAAAAAAAAAAAAAAAAAAAAAAAAAAAAAAAAAAAAAAAAAAAAAAAAAAAAAAAAAAAAAAAAAAAAAAAAAAAAAAAAAAAAAAAAAAAAAAAAAAAAAAAAAAAAAAAAAAAAAAAAAAAAAAAAAAAAAAAAAAAAAAAAAAAAAAAAAAAAAAAAAAAAAAAAAAAAAAAAAAAAAAAAAAAAAAAAAAAAAAAAAAAAAAAAAAAAAAAAAAAAAAAAAAAAAAAAAAAAAAAAAAAAAAAAAAAAAAAAAAAAAAAAAAAAAAAAAAAAAAAAAAAAAAAAAAAAAAAAAAAAAAAAAAAAAAAAAAAAAAAAAAAAAAAAAAAAAAAAAAAAAAAAAAAAAAAAAAAAAAAAAAAAAAAAAAAAAAAAAAAAAAAAAAAAAAAAAAAAAAAAAAAAAAAAAAAAAAAAAAAAAAAAAAAAAAAAAAAAAAAAAAAAAAAAAAAAAAAAAAAAAAAAAAAAAAAAAAAAAAAAAAAAAAAAAAAAAAAAAAAAAAAAAAAAAAAAAAAAAAAAAAAAAAAAAAAAAAAAAAAAAAAAAAAAAAAAAAAAAAAAAAAAAAAAAAAAAAAAAAAAAAAAAAAAAAAAAAAAAAAAAAAAAAAAAAAAAAAAAAAAAAAAAAAAAAAAAAAAAAAAAAAAAAAAAAAAAAAAAAAAAAAAAAAAAAAAAAAAAAAAAAAAAAAAAAAAAAAAAAAAAAAAAAAAAAAAAAAAAAAAAAAAAAAAAAAAAAAAAAAAAAAAAAAAAAAAAAAAAAAAAAAAAAAAAAAAAAAAAAAAAAAAAAAAAAAAAAAAAAAAAAAAAAAAAAAAAAAAAAAAAAAAAAAAAAAAAAAAAAAAAAAAAAAAAAAAAAAAAAAAAAAAAAAAAAAAAAAAAAAAAAAAAAAAAAAAAAAAAAAAAAAAAAAAAAAAAAAAAAAAAAAAAAAAAAAAAAAAAAAAAAAAAAAAAAAAAAAAAAAAAAAAAAAAAAAAAAAAAAAAAAAAAAAAAAAAAAAAAAAAAAAAAAAAAAAAAAAAAAAAAAAAAAAAAAAAAAAAAAAAAAAAAAAAAAAAAAAAAAAAAAAAAAAAAAAAAAAAAAAAAAAAAAAAAAAAAAAAAAAAAAAAAAAAAAAAAAAAAAAAAAAAAAAAAAAAAAAAAAAAAAAAAAAAAAAAAAAAAAAAAAAAAAAAAAAAAAAAAAAAAAAAAAAAAAAAAAAAAAAAAAAAAAAAAAAAAAAAAAAAAAAAAAAAAAAAAAAAAAAAAAAAAAAAAAAAAAAAAAAAAAAAAAAAAAAAAAAAAAAAAAAAAAAAAAAAAAAAAAAAAAAAAAAAAAAAAAAAAAAAAAAAAAAAAAAAAAAAAAAAAAAAAAAAAAAAAAAAAAAAAAAAAAAAAAAAAAAAAAAAAAAAAAAAAAAAAAAAAAAAAAAAAAAAAAAAAAAAAAAAAAAAAAAAAAAAAAAAAAAAAAAAAAAAAAAAAAAAAAAAAAAAAAAAAAAAAAAAAAAAAAAAAAAAAAAAAAAAAAAAAAAAAAAAAAAAAAAAAAAAAAAAAAAAAAAAAAAAAAAAAAAAAAAAAAAAAAAAAAAAAAAAAAAAAAAAAAAAAAAAAAAAAAAAAAAAAAAAAAAAAAAAAAAAAAAAAAAAAAAAAAAAAAAAAAAAAAAAAAAAAAAAAAAAAAAAAAAAAAAAAAAAAAAAAAAAAAAAAAAAAAAAAAAAAAAAAAAAAAAAAAAAAAAAAAAAAAAAAAAAAAAAAAAAAAAAAAAAAAAAAAAAAAAAAAAAAAAAAAAAAAAAAAAAAAAAAAAAAAAAAAAAAAAAAAAAAAAAAAAAAAAAAAAAAAAAAAAAAAAAAAAAAAAAAAAAAAAAAAAAAAAAAAAAAAAAAAAAAAAAAAAAAAAAAAAAAAAAAAAAAAAAAAAAAAAAAAAAAAAAAAAAAAAAAAAAAAAAAAAAAAAAAAAAAAAAAAAAAAAAAAAAAAAAAAAAAAAAAAAAAAAAAAAAAAAAAAAAAAAAAAAAAAAAAAAAAAAAAAAAAAAAAAAAAAAAAAAAAAAAAAAAAAAAAAAAAAAAAAAAAAAAAAAAAAAAAAAAAAAAAAAAAAAAAAAAAAAAAAAAAAAAAAAAAAAAAAAAAAAAAAAAAAAAAAAAAAAAAAAAAAAAAAAAAAAAAAAAAAAAAAAAAAAAAAAAAAAAAAAAAAAAAAAAAAAAAAAAAAAAAAAAAAAAAAAAAAAAAAAAAAAAAAAAAAAAAAAAAAAAAAAAAAAAAAAAAAAAAAAAAAAAAAAAAAAAAAAAAAAAAAAAAAAAAAAAAAAAAAAAAAAAAAAAAAAAAAAAAAAAAAAAAAAAAAAAAAAAAAAAAAAAAAAAAAAAAAAAAAAAAAAAAAAAAAAAAAAAAAAAAAAAAAAAAAAAAAAAAAAAAAAAAAAAAAAAAAAAAAAAAAAAAAAAAAAAAAAAAAAAAAAAAAAAAAAAAAAAAAAAAAAAAAAAAAAAAAAAAAAAAAAAAAAAAAAAAAAAAAAAAAAAAAAAAAAAAAAAAAAAAAAAAAAAAAAAAAAAAAAAAAAAAAAAAAAAAAAAAAAAAAAAAAAAAAAAAAAAAAAAAAAAAAAAAAAAAAAAAAAAAAAAAAAAAAAAAAAAAAAAAAAAAAAAAAAAAAAAAAAAAAAAAAAAAAAAAAAAAAAAAAAAAAAAAAAAAAAAAAAAAAAAAAAAAAAAAAAAAAAAAAAAAAAAAAAAAAAAAAAAAAAAAAAAAAAAAAAAAAAAAAAAAAAAAAAAAAAAAAAAAAAAAAAAAAAAAAAAAAAAAAAAAAAAAAAAAAAAAAAAAAAAAAAAAAAAAAAAAAAAAAAAAAAAAAAAAAAAAAAAAAAAAAAAAAAAAAAAAAAAAAAAAAAAAAAAAAAAAAAAAAAAAAAAAAAAAAAAAAAAAAAAAAAAAAAAAAAAAAAAAAAAAAAAAAAAAAAAAAAAAAAAAAAAAAAAAAAAAAAAAAAAAAAAAAAAAAAAAAAAAAAAAAAAAAAAAAAAAAAAAAAAAAAAAAAAAAAAAAAAAAAAAAAAAAAAAAAAAAAAAAAAAAAAAAAAAAAAAAAAAAAAAAAAAAAAAAAAAAAAAAAAAAAAAAAAAAAAAAAAAAAAAAAAAAAAAAAAAAAAAAAAAAAAAAAAAAAAAAAAAAAAAAAAAAAAAAAAAAAAAAAAAAAAAAAAAAAAAAAAAAAAAAAAAAAAAAAAAAAAAAAAAAAAAAAAAAAAAAAAAAAAAAAAAAAAAAAAAAAAAAAAAAAAAAAAAAAAAAAAAAAAAAAAAAAAAAAAAAAAAAAAAAAAAAAAAAAAAAAAAAAAAAAAAAAAAAAAAAAAAAAAAAAAAAAAAAAAAAAAAAAAAAAAAAAAAAAAAAAAAAAAAAAAAAAAAAAAAAAAAAAAAAAAAAAAAAAAAAAAAAAAAAAAAAAAAAAAAAAAAAAAAAAAAAAAAAAAAAAAAAAAAAAAAAAAAAAAAAAAAAAAAAAAAAAAAAAAAAAAAAAAAAAAAAAAAAAAAAAAAAAAAAAAAAAAAAAAAAAAAAAAAAAAAAAAAAAAAAAAAAAAAAAAAAAAAAAAAAAAAAAAAAAAAAAAAAAAAAAAAAAAAAAAAAAAAAAAAAAAAAAAAAAAAAAAAAAAAAAAAAAAAAAAAAAAAAAAAAAAAAAAAAAAAAAAAAAAAAAAAAAAAAAAAAAAAAAAAAAAAAAAAAAAAAAAAAAAAAAAAAAAAAAAAAAAAAAAAAAAAAAAAAAAAAAAAAAAAAAAAAAAAAAAAAAAAAAAAAAAAAAAAAAAAAAAAAAAAAAAAAAAAAAAAAAAAAAAAAAAAAAAAAAAAAAAAAAAAAAAAAAAAAAAAAAAAAAAAAAAAAAAAAAAAAAAAAAAAAAAAAAAAAAAAAAAAAAAAAAAAAAAAAAAAAAAAAAAAAAAAAAAAAAAAAAAAAAAAAAAAAAAAAAAAAAAAAAAAAAAAAAAAAAAAAAAAAAAAAAAAAAAAAAAAAAAAAAAAAAAAAAAAAAAAAAAAAAAAAAAAAAAAAAAAAAAAAAAAAAAAAAAAAAAAAAAAAAAAAAAAAAAAAAAAAAAAAAAAAAAAAAAAAAAAAAAAAAAAAAAAAAAAAAAAAAAAAAAAAAAAAAAAAAAAAAAAAAAAAAAAAAAAAAAAAAAAAAAAAAAAAAAAAAAAAAAAAAAAAAAAAAAAAAAAAAAAAAAAAAAAAAAAAAAAAAAAAAAAAAAAAAAAAAAAAAAAAAAAAAAAAAAAAAAAAAAAAAAAAAAAAAAAAAAAAAAAAAAAAAAAAAAAAAAAAAAAAAAAAAAAAAAAAAAAAAAAAAAAAAAAAAAAAAAAAAAAAAAAAAAAAAAAAAAAAAAAAAAAAAAAAAAAAAAAAAAAAAAAAAAAAAAAAAAAAAAAAAAAAAAAAAAAAAAAAAAAAAAAAAAAAAAAAAAAAAAAAAAAAAAAAAAAAAAAAAAAAAAAAAAAAAAAAAAAAAAAAAAAAAAAAAAAAAAAAAAAAAAAAAAAAAAAAAAAAAAAAAAAAAAAAAAAAAAAAAAAAAAAAAAAAAAAAAAAAAAAAAAAAAAAAAAAAAAAAAAAAAAAAAAAAAAAAAAAAAAAAAAAAAAAAAAAAAAAAAAAAAAAAAAAAAAAAAAAAAAAAAAAAAAAAAAAAAAAAAAAAAAAAAAAAAAAAAAAAAAAAAAAAAAAAAAAAAAAAAAAAAAAAAAAAAAAAAAAAAAAAAAAAAAAAAAAAAAAAAAAAAAAAAAAAAAAAAAAAAAAAAAAAAAAAAAAAAAAAAAAAAAAAAAAAAAAAAAAAAAAAAAAAAAAAAAAAAAAAAAAAAAAAAAAAAAAAAAAAAAAAAAAAAAAAAAAAAAAAAAAAAAAAAAAAAAAAAAAAAAAAAAAAAAAAAAAAAAAAAAAAAAAAAAAAAAAAAAAAAAAAAAAAAAAAAAAAAAAAAAAAAAAAAAAAAAAAAAAAAAAAAAAAAAAAAAAAAAAAAAAAAAAAAAAAAAAAAAAAAAAAAAAAAAAAAAAAAAAAAAAAAAAAAAAAAAAAAAAAAAAAAAAAAAAAAAAAAAAAAAAAAAAAAAAAAAAAAAAAAAAAAAAAAAAAAAAAAAAAAAAAAAAAAAAAAAAAAAAAAAAAAAAAAAAAAAAAAAAAAAAAAAAAAAAAAAAAAAAAAAAAAAAAAAAAAAAAAAAAAAAAAAAAAAAAAAAAAAAAAAAAAAAAAAAAAAAAAAAAAAAAAAAAAAAAAAAAAAAAAAAAAAAAAAAAAAAAAAAAAAAAAAAAAAAAAAAAAAAAAAAAAAAAAAAAAAAAAAAAAAAAAAAAAAAAAAAAAAAAAAAAAAAAAAAAAAAAAAAAAAAAAAAAAAAAAAAAAAAAAAAAAAAAAAAAAAAAAAAAAAAAAAAAAAAAAAAAAAAAAAAAAAAAAAAAAAAAAAAAAAAAAAAAAAAAAAAAAAAAAAAAAAAAAAAAAAAAAAAAAAAAAAAAAAAAAAAAAAAAAAAAAAAAAAAAAAAAAAAAAAAAAAAAAAAAAAAAAAAAAAAAAAAAAAAAAAAAAAAAAAAAAAAAAAAAAAAAAAAAAAAAAAAAAAAAAAAAAAAAAAAAAAAAAAAAAAAAAAAAAAAAAAAAAAAAAAAAAAAAAAAAAAAAAAAAAAAAAAAAAAAAAAAAAAAAAAAAAAAAAAAAAAAAAAAAAAAAAAAAAAAAAAAAAAAAAAAAAAAAAAAAAAAAAAAAAAAAAAAAAAAAAAAAAAAAAAAAAAAAAAAAAAAAAAAAAAAAAAAAAAAAAAAAAAAAAAAAAAAAAAAAAAAAAAAAAAAAAAAAAAAAAAAAAAAAAAAAAAAAAAAAAAAAAAAAAAAAAAAAAAAAAAAAAAAAAAAAAAAAAAAAAAAAAAAAAAAAAAAAAAAAAAAAAAAAAAAAAAAAAAAAAAAAAAAAAAAAAAAAAAAAAAAAAAAAAAAAAAAAAAAAAAAAAAAAAAAAAAAAAAAAAAAAAAAAAAAAAAAAAAAAAAAAAAAAAAAAAAAAAAAAAAAAAAAAAAAAAAAAAAAAAAAAAAAAAAAAAAAAAAAAAAAAAAAAAAAAAAAAAAAAAAAAAAAAAAAAAAAAAAAAAAAAAAAAAAAAAAAAAAAAAAAAAAAAAAAAAAAAAAAAAAAAAAAAAAAAAAAAAAAAAAAAAAAAAAAAAAAAAAAAAAAAAAAAAAAAAAAAAAAAAAAAAAAAAAAAAAAAAAAAAAAAAAAAAAAAAAAAAAAAAAAAAAAAAAAAAAAAAAAAAAAAAAAAAAAAAAAAAAAAAAAAAAAAAAAAAAAAAAAAAAAAAAAAAAAAAAAAAAAAAAAAAAAAAAAAAAAAAAAAAAAAAAAAAAAAAAAAAAAAAAAAAAAAAAAAAAAAAAAAAAAAAAAAAAAAAAAAAAAAAAAAAAAAAAAAAAAAAAAAAAAAAAAAAAAAAAAAAAAAAAAAAAAAAAAAAAAAAAAAAAAAAAAAAAAAAAAAAAAAAAAAAAAAAAAAAAAAAAAAAAAAAAAAAAAAAAAAAAAAAAAAAAAAAAAAAAAAAAAAAAAAAAAAAAAAAAAAAAAAAAAAAAAAAAAAAAAAAAAAAAAAAAAAAAAAAAAAAAAAAAAAAAAAAAAAAAAAAAAAAAAAAAAAAAAAAAAAAAAAAAAAAAAAAAAAAAAAAAAAAAAAAAAAAAAAAAAAAAAAAAAAAAAAAAAAAAAAAAAAAAAAAAAAAAAAAAAAAAAAAAAAAAAAAAAAAAAAAAAAAAAAAAAAAAAAAAAAAAAAAAAAAAAAAAAAAAAAAAAAAAAAAAAAAAAAAAAAAAAAAAAAAAAAAAAAAAAAAAAAAAAAAAAAAAAAAAAAAAAAAAAAAAAAAAAAAAAAAAAAAAAAAAAAAAAAAAAAAAAAAAAAAAAAAAAAAAAAAAAAAAAAAAAAAAAAAAAAAAAAAAAAAAAAAAAAAAAAAAAAAAAAAAAAAAAAAAAAAAAAAAAAAAAAAAAAAAAAAAAAAAAAAAAAAAAAAAAAAAAAAAAAAAAAAAAAAAAAAAAAAAAAAAAAAAAAAAAAAAAAAAAAAAAAAAAAAAAAAAAAAAAAAAAAAAAAAAAAAAAAAAAAAAAAAAAAAAAAAAAAAAAAAAAAAAAAAAAAAAAAAAAAAAAAAAAAAAAAAAAAAAAAAAAAAAAAAAAAAAAAAAAAAAAAAAAAAAAAAAAAAAAAAAAAAAAAAAAAAAAAAAAAAAAAAAAAAAAAAAAAAAAAAAAAAAAAAAAAAAAAAAAAAAAAAAAAAAAAAAAAAAAAAAAAAAAAAAAAAAAAAAAAAAAAAAAAAAAAAAAAAAAAAAAAAAAAAAAAAAAAAAAAAAAAAAAAAAAAAAAAAAAAAAAAAAAAAAAAAAAAAAAAAAAAAAAAAAAAAAAAAAAAAAAAAAAAAAAAAAAAAAAAAAAAAAAAAAAAAAAAAAAAAAAAAAAAAAAAAAAAAAAAAAAAAAAAAAAAAAAAAAAAAAAAAAAAAAAAAAAAAAAAAAAAAAAAAAAAAAAAAAAAAAAAAAAAAAAAAAAAAAAAAAAAAAAAAAAAAAAAAAAAAAAAAAAAAAAAAAAAAAAAAAAAAAAAAAAAAAAAAAAAAAAAAAAAAAAAAAAAAAAAAAAAAAAAAAAAAAAAAAAAAAAAAAAAAAAAAAAAAAAAAAAAAAAAAAAAAAAAAAAAAAAAAAAAAAAAAAAAAAAAAAAAAAAAAAAAAAAAAAAAAAAAAAAAAAAAAAAAAAAAAAAAAAAAAAAAAAAAAAAAAAAAAAAAAAAAAAAAAAAAAAAAAAAAAAAAAAAAAAAAAAAAAAAAAAAAAAAAAAAAAAAAAAAAAAAAAAAAAAAAAAAAAAAAAAAAAAAAAAAAAAAAAAAAAAAAAAAAAAAAAAAAAAAAAAAAAAAAAAAAAAAAAAAAAAAAAAAAAAAAAAAAAAAAAAAAAAAAAAAAAAAAAAAAAAAAAAAAAAAAAAAAAAAAAAAAAAAAAAAAAAAAAAAAAAAAAAAAAAAAAAAAAAAAAAAAAAAAAAAAAAAAAAAAAAAAAAAAAAAAAAAAAAAAAAAAAAAAAAAAAAAAAAAAAAAAAAAAAAAAAAAAAAAAAAAAAAAAAAAAAAAAAAAAAAAAAAAAAAAAAAAAAAAAAAAAAAAAAAAAAAAAAAAAAAAAAAAAAAAAAAAAAAAAAAAAAAAAAAAAAAAAAAAAAAAAAAAAAAAAAAAAAAAAAAAAAAAAAAAAAAAAAAAAAAAAAAAAAAAAAAAAAAAAAAAAAAAAAAAAAAAAAAAAAAAAAAAAAAAAAAAAAAAAAAAAAAAAAAAAAAAAAAAAAAAAAAAAAAAAAAAAAAAAAAAAAAAAAAAAAAAAAAAAAAAAAAAAAAAAAAAAAAAAAAAAAAAAAAAAAAAAAAAAAAAAAAAAAAAAAAAAAAAAAAAAAAAAAAAAAAAAAAAAAAAAAAAAAAAAAAAAAAAAAAAAAAAAAAAAAAAAAAAAAAAAAAAAAAAAAAAAAAAAAAAAAAAAAAAAAAAAAAAAAAAAAAAAAAAAAAAAAAAAAAAAAAAAAAAAAAAAAAAAAAAAAAAAAAAAAAAAAAAAAAAAAAAAAAAAAAAAAAAAAAAAAAAAAAAAAAAAAAAAAAAAAAAAAAAAAAAAAAAAAAAAAAAAAAAAAAAAAAAAAAAAAAAAAAAAAAAAAAAAAAAAAAAAAAAAAAAAAAAAAAAAAAAAAAAAAAAAAAAAAAAAAAAAAAAAAAAAAAAAAAAAAAAAAAAAAAAAAAAAAAAAAAAAAAAAAAAAAAAAAAAAAAAAAAAAAAAAAAAAAAAAAAAAAAAAAAAAAAAAAAAAAAAAAAAAAAAAAAAAAAAAAAAAAAAAAAAAAAAAAAAAAAAAAAAAAAAAAAAAAAAAAAAAAAAAAAAAAAAAAAAAAAAAAAAAAAAAAAAAAAAAAAAAAAAAAAAAAAAAAAAAAAAAAAAAAAAAAAAAAAAAAAAAAAAAAAAAAAAAAAAAAAAAAAAAAAAAAAAAAAAAAAAAAAAAAAAAAAAAAAAAAAAAAAAAAAAAAAAAAAAAAAAAAAAAAAAAAAAAAAAAAAAAAAAAAAAAAAAAAAAAAAAAAAAAAAAAAAAAAAAAAAAAAAAAAAAAAAAAAAAAAAAAAAAAAAAAAAAAAAAAAAAAAAAAAAAAAAAAAAAAAAAAAAAAAAAAAAAAAAAAAAAAAAAAAAAAAAAAAAAAAAAAAAAAAAAAAAAAAAAAAAAAAAAAAAAAAAAAAAAAAAAAAAAAAAAAAAAAAAAAAAAAAAAAAAAAAAAAAAAAAAAAAAAAAAAAAAAAAAAAAAAAAAAAAAAAAAAAAAAAAAAAAAAAAAAAAAAAAAAAAAAAAAAAAAAAAAAAAAAAAAAAAAAAAAAAAAAAAAAAAAAAAAAAAAAAAAAAAAAAAAAAAAAAAAAAAAAAAAAAAAAAAAAAAAAAAAAAAAAAAAAAAAAAAAAAAAAAAAAAAAAAAAAAAAAAAAAAAAAAAAAAAAAAAAAAAAAAAAAAAAAAAAAAAAAAAAAAAAAAAAAAAAAAAAAAAAAAAAAAAAAAAAAAAAAAAAAAAAAAAAAAAAAAAAAAAAAAAAAAAAAAAAAAAAAAAAAAAAAAAAAAAAAAAAAAAAAAAAAAAAAAAAAAAAAAAAAAAAAAAAAAAAAAAAAAAAAAAAAAAAAAAAAAAAAAAAAAAAAAAAAAAAAAAAAAAAAAAAAAAAAAAAAAAAAAAAAAAAAAAAAAAAAAAAAAAAAAAAAAAAAAAAAAAAAAAAAAAAAAAAAAAAAAAAAAAAAAAAAAAAAAAAAAAAAAAAAAAAAAAAAAAAAAAAAAAAAAAAAAAAAAAAAAAAAAAAAAAAAAAAAAAAAAAAAAAAAAAAAAAAAAAAAAAAAAAAAAAAAAAAAAAAAAAAAAAAAAAAAAAAAAAAAAAAAAAAAAAAAAAAAAAAAAAAAAAAAAAAAAAAAAAAAAAAAAAAAAAAAAAAAAAAAAAAAAAAAAAAAAAAAAAAAAAAAAAAAAAAAAAAAAAAAAAAAAAAAAAAAAAAAAAAAAAAAAAAAAAAAAAAAAAAAAAAAAAAAAAAAAAAAAAAAAAAAAAAAAAAAAAAAAAAAAAAAAAAAAAAAAAAAAAAAAAAAAAAAAAAAAAAAAAAAAAAAAAAAAAAAAAAAAAAAAAAAAAAAAAAAAAAAAAAAAAAAAAAAAAAAAAAAAAAAAAAAAAAAAAAAAAAAAAAAAAAAAAAAAAAAAAAAAAAAAAAAAAAAAAAAAAAAAAAAAAAAAAAAAAAAAAAAAAAAAAAAAAAAAAAAAAAAAAAAAAAAAAAAAAAAAAAAAAAAAAAAAAAAAAAAAAAAAAAAAAAAAAAAAAAAAAAAAAAAAAAAAAAAAAAAAAAAAAAAAAAAAAAAAAAAAAAAAAAAAAAAAAAAAAAAAAAAAAAAAAAAAAAAAAAAAAAAAAAAAAAAAAAAAAAAAAAAAAAAAAAAAAAAAAAAAAAAAAAAAAAAAAAAAAAAAAAAAAAAAAAAAAAAAAAAAAAAAAAAAAAAAAAAAAAAAAAAAAAAAAAAAAAAAAAAAAAAAAAAAAAAAAAAAAAAAAAAAAAAAAAAAAAAAAAAAAAAAAAAAAAAAAAAAAAAAAAAAAAAAAAAAAAAAAAAAAAAAAAAAAAAAAAAAAAAAAAAAAAAAAAAAAAAAAAAAAAAAAAAAAAAAAAAAAAAAAAAAAAAAAAAAAAAAAAAAAAAAAAAAAAAAAAAAAAAAAAAAAAAAAAAAAAAAAAAAAAAAAAAAAAAAAAAAAAAAAAAAAAAAAAAAAAAAAAAAAAAAAAAAAAAAAAAAAAAAAAAAAAAAAAAAAAAAAAAAAAAAAAAAAAAAAAAAAAAAAAAAAAAAAAAAAAAAAAAAAAAAAAAAAAAAAAAAAAAAAAAAAAAAAAAAAAAAAAAAAAAAAAAAAAAAAAAAAAAAAAAAAAAAAAAAAAAAAAAAAAAAAAAAAAAAAAAAAAAAAAAAAAAAAAAAAAAAAAAAAAAAAAAAAAAAAAAAAAAAAAAAAAAAAAAAAAAAAAAAAAAAAAAAAAAAAAAAAAAAAAAAAAAAAAAAAAAAAAAAAAAAAAAAAAAAAAAAAAAAAAAAAAAAAAAAAAAAAAAAAAAAAAAAAAAAAAAAAAAAAAAAAAAAAAAAAAAAAAAAAAAAAAAAAAAAAAAAAAAAAAAAAAAAAAAAAAAAAAAAAAAAAAAAAAAAAAAAAAAAAAAAAAAAAAAAAAAAAAAAAAAAAAAAAAAAAAAAAAAAAAAAAAAAAAAAAAAAAAAAAAAAAAAAAAAAAAAAAAAAAAAAAAAAAAAAAAAAAAAAAAAAAAAAAAAAAAAAAAAAAAAAAAAAAAAAAAAAAAAAAAAAAAAAAAAAAAAAAAAAAAAAAAAAAAAAAAAAAAAAAAAAAAAAAAAAAAAAAAAAAAAAAAAAAAAAAAAAAAAAAAAAAAAAAAAAAAAAAAAAAAAAAAAAAAAAAAAAAAAAAAAAAAAAAAAAAAAAAAAAAAAAAAAAAAAAAAAAAAAAAAAAAAAAAAAAAAAAAAAAAAAAAAAAAAAAAAAAAAAAAAAAAAAAAAAAAAAAAAAAAAAAAAAAAAAAAAAAAAAAAAAAAAAAAAAAAAAAAAAAAAAAAAAAAAAAAAAAAAAAAAAAAAAAAAAAAAAAAAAAAAAAAAAAAAAAAAAAAAAAAAAAAAAAAAAAAAAAAAAAAAAAAAAAAAAAAAAAAAAAAAAAAAAAAAAAAAAAAAAAAAAAAAAAAAAAAAAAAAAAAAAAAAAAAAAAAAAAAAAAAAAAAAAAAAAAAAAAAAAAAAAAAAAAAAAAAAAAAAAAAAAAAAAAAAAAAAAAAAAAAAAAAAAAAAAAAAAAAAAAAAAAAAAAAAAAAAAAAAAAAAAAAAAAAAAAAAAAAAAAAAAAAAAAAAAAAAAAAAAAAAAAAAAAAAAAAAAAAAAAAAAAAAAAAAAAAAAAAAAAAAAAAAAAAAAAAAAAAAAAAAAAAAAAAAAAAAAAAAAAAAAAAAAAAAAAAAAAAAAAAAAAAAAAAAAAAAAAAAAAAAAAAAAAAAAAAAAAAAAAAAAAAAAAAAAAAAAAAAAAAAAAAAAAAAAAAAAAAAAAAAAAAAAAAAAAAAAAAAAAAAAAAAAAAAAAAAAAAAAAAAAAAAAAAAAAAAAAAAAAAAAAAAAAAAAAAAAAAAAAAAAAAAAAAAAAAAAAAAAAAAAAAAAAAAAAAAAAAAAAAAAAAAAAAAAAAAAAAAAAAAAAAAAAAAAAAAAAAAAAAAAAAAAAAAAAAAAAAAAAAAAAAAAAAAAAAAAAAAAAAAAAAAAAAAAAAAAAAAAAAAAAAAAAAAAAAAAAAAAAAAAAAAAAAAAAAAAAAAAAAAAAAAAAAAAAAAAAAAAAAAAAAAAAAAAAAAAAAAAAAAAAAAAAAAAAAAAAAAAAAAAAAAAAAAAAAAAAAAAAAAAAAAAAAAAAAAAAAAAAAAAAAAAAAAAAAAAAAAAAAAAAAAAAAAAAAAAAAAAAAAAAAAAAAAAAAAAAAAAAAAAAAAAAAAAAAAAAAAAAAAAAAAAAAAAAAAAAAAAAAAAAAAAAAAAAAAAAAAAAAAAAAAAAAAAAAAAAAAAAAAAAAAAAAAAAAAAAAAAAAAAAAAAAAAAAAAAAAAAAAAAAAAAAAAAAAAAAAAAAAAAAAAAAAAAAAAAAAAAAAAAAAAAAAAAAAAAAAAAAAAAAAAAAAAAAAAAAAAAAAAAAAAAAAAAAAAAAAAAAAAAAAAAAAAAAAAAAAAAAAAAAAAAAAAAAAAAAAAAAAAAAAAAAAAAAAAAAAAAAAAAAAAAAAAAAAAAAAAAAAAAAAAAAAAAAAAAAAAAAAAAAAAAAAAAAAAAAAAAAAAAAAAAAAAAAAAAAAAAAAAAAAAAAAAAAAAAAAAAAAAAAAAAAAAAAAAAAAAAAAAAAAAAAAAAAAAAAAAAAAAAAAAAAAAAAAAAAAAAAAAAAAAAAAAAAAAAAAAAAAAAAAAAAAAAAAAAAAAAAAAAAAAAAAAAAAAAAAAAAAAAAAAAAAAAAAAAAAAAAAAAAAAAAAAAAAAAAAAAAAAAAAAAAAAAAAAAAAAAAAAAAAAAAAAAAAAAAAAAAAAAAAAAAAAAAAAAAAAAAAAAAAAAAAAAAAAAAAAAAAAAAAAAAAAAAAAAAAAAAAAAAAAAAAAAAAAAAAAAAAAAAAAAAAAAAAAAAAAAAAAAAAAAAAAAAAAAAAAAAAAAAAAAAAAAAAAAAAAAAAAAAAAAAAAAAAAAAAAAAAAAAAAAAAAAAAAAAAAAAAAAAAAAAAAAAAAAAAAAAAAAAAAAAAAAAAAAAAAAAAAAAAAAAAAAAAAAAAAAAAAAAAAAAAAAAAAAAAAAAAAAAAAAAAAAAAAAAAAAAAAAAAAAAAAAAAAAAAAAAAAAAAAAAAAAAAAAAAAAAAAAAAAAAAAAAAAAAAAAAAAAAAAAAAAAAAAAAAAAAAAAAAAAAAAAAAAAAAAAAAAAAAAAAAAAAAAAAAAAAAAAAAAAAAAAAAAAAAAAAAAAAAAAAAAAAAAAAAAAAAAAAAAAAAAAAAAAAAAAAAAAAAAAAAAAAAAAAAAAAAAAAAAAAAAAAAAAAAAAAAAAAAAAAAAAAAAAAAAAAAAAAAAAAAAAAAAAAAAAAAAAAAAAAAAAAAAAAAAAAAAAAAAAAAAAAAAAAAAAAAAAAAAAAAAAAAAAAAAAAAAAAAAAAAAAAAAAAAAAAAAAAAAAAAAAAAAAAAAAAAAAAAAAAAAAAAAAAAAAAAAAAAAAAAAAAAAAAAAAAAAAAAAAAAAAAAAAAAAAAAAAAAAAAAAAAAAAAAAAAAAAAAAAAAAAAAAAAAAAAAAAAAAAAAAAAAAAAAAAAAAAAAAAAAAAAAAAAAAAAAAAAAAAAAAAAAAAAAAAAAAAAAAAAAAAAAAAAAAAAAAAAAAAAAAAAAAAAAAAAAAAAAAAAAAAAAAAAAAAAAAAAAAAAAAAAAAAAAAAAAAAAAAAAAAAAAAAAAAAAAAAAAAAAAAAAAAAAAAAAAAAAAAAAAAAAAAAAAAAAAAAAAAAAAAAAAAAAAAAAAAAAAAAAAAAAAAAAAAAAAAAAAAAAAAAAAAAAAAAAAAAAAAAAAAAAAAAAAAAAAAAAAAAAAAAAAAAAAAAAAAAAAAAAAAAAAAAAAAAAAAAAAAAAAAAAAAAAAAAAAAAAAAAAAAAAAAAAAAAAAAAAAAAAAAAAAAAAAAAAAAAAAAAAAAAAAAAAAAAAAAAAAAAAAAAAAAAAAAAAAAAAAAAAAAAAAAAAAAAAAAAAAAAAAAAAAAAAAAAAAAAAAAAAAAAAAAAAAAAAAAAAAAAAAAAAAAAAAAAAAAAAAAAAAAAAAAAAAAAAAAAAAAAAAAAAAAAAAAAAAAAAAAAAAAAAAAAAAAAAAAAAAAAAAAAAAAAAAAAAAAAAAAAAAAAAAAAAAAAAAAAAAAAAAAAAAAAAAAAAAAAAAAAAAAAAAAAAAAAAAAAAAAAAAAAAAAAAAAAAAAAAAAAAAAAAAAAAAAAAAAAAAAAAAAAAAAAAAAAAAAAAAAAAAAAAAAAAAAAAAAAAAAAAAAAAAAAAAAAAAAAAAAAAAAAAAAAAAAAAAAAAAAAAAAAAAAAAAAAAAAAAAAAAAAAAAAAAAAAAAAAAAAAAAAAAAAAAAAAAAAAAAAAAAAAAAAAAAAAAAAAAAAAAAAAAAAAAAAAAAAAAAAAAAAAAAAAAAAAAAAAAAAAAAAAAAAAAAAAAAAAAAAAAAAAAAAAAAAAAAAAAAAAAAAAAAAAAAAAAAAAAAAAAAAAAAAAAAAAAAAAAAAAAAAAAAAAAAAAAAAAAAAAAAAAAAAAAAAAAAAAAAAAAAAAAAAAAAAAAAAAAAAAAAAAAAAAAAAAAAAAAAAAAAAAAAAAAAAAAAAAAAAAAAAAAAAAAAAAAAAAAAAAAAAAAAAAAAAAAAAAAAAAAAAAAAAAAAAAAAAAAAAAAAAAAAAAAAAAAAAAAAAAAAAAAAAAAAAAAAAAAAAAAAAAAAAAAAAAAAAAAAAAAAAAAAAAAAAAAAAAAAAAAAAAAAAAAAAAAAAAAAAAAAAAAAAAAAAAAAAAAAAAAAAAAAAAAAAAAAAAAAAAAAAAAAAAAAAAAAAAAAAAAAAAAAAAAAAAAAAAAAAAAAAAAAAAAAAAAAAAAAAAAAAAAAAAAAAAAAAAAAAAAAAAAAAAAAAAAAAAAAAAAAAAAAAAAAAAAAAAAAAAAAAAAAAAAAAAAAAAAAAAAAAAAAAAAAAAAAAAAAAAAAAAAAAAAAAAAAAAAAAAAAAAAAAAAAAAAAAAAAAAAAAAAAAAAAAAAAAAAAAAAAAAAAAAAAAAAAAAAAAAAAAAAAAAAAAAAAAAAAAAAAAAAAAAAAAAAAAAAAAAAAAAAAAAAAAAAAAAAAAAAAAAAAAAAAAAAAAAAAAAAAAAAAAAAAAAAAAAAAAAAAAAAAAAAAAAAAAAAAAAAAAAAAAAAAAAAAAAAAAAAAAAAAAAAAAAAAAAAAAAAAAAAAAAAAAAAAAAAAAAAAAAAAAAAAAAAAAAAAAAAAAAAAAAAAAAAAAAAAAAAAAAAAAAAAAAAAAAAAAAAAAAAAAAAAAAAAAAAAAAAAAAAAAAAAAAAAAAAAAAAAAAAAAAAAAAAAAAAAAAAAAAAAAAAAAAAAAAAAAAAAAAAAAAAAAAAAAAAAAAAAAAAAAAAAAAAAAAAAAAAAAAAAAAAAAAAAAAAAAAAAAAAAAAAAAAAAAAAAAAAAAAAAAAAAAAAAAAAAAAAAAAAAAAAAAAAAAAAAAAAAAAAAAAAAAAAAAAAAAAAAAAAAAAAAAAAAAAAAAAAAAAAAAAAAAAAAAAAAAAAAAAAAAAAAAAAAAAAAAAAAAAAAAAAAAAAAAAAAAAAAAAAAAAAAAAAAAAAAAAAAAAAAAAAAAAAAAAAAAAAAAAAAAAAAAAAAAAAAAAAAAAAAAAAAAAAAAAAAAAAAAAAAAAAAAAAAAAAAAAAAAAAAAAAAAAAAAAAAAAAAAAAAAAAAAAAAAAAAAAAAAAAAAAAAAAAAAAAAAAAAAAAAAAAAAAAAAAAAAAAAAAAAAAAAAAAAAAAAAAAAAAAAAAAAAAAAAAAAAAAAAAAAAAAAAAAAAAAAAAAAAAAAAAAAAAAAAAAAAAAAAAAAAAAAAAAAAAAAAAAAAAAAAAAAAAAAAAAAAAAAAAAAAAAAAAAAAAAAAAAAAAAAAAAAAAAAAAAAAAAAAAAAAAAAAAAAAAAAAAAAAAAAAAAAAAAAAAAAAAAAAAAAAAAAAAAAAAAAAAAAAAAAAAAAAAAAAAAAAAAAAAAAAAAAAAAAAAAAAAAAAAAAAAAAAAAAAAAAAAAAAAAAAAAAAAAAAAAAAAAAAAAAAAAAAAAAAAAAAAAAAAAAAAAAAAAAAAAAAAAAAAAAAAAAAAAAAAAAAAAAAAAAAAAAAAAAAAAAAAAAAAAAAAAAAAAAAAAAAAAAAAAAAAAAAAAAAAAAAAAAAAAAAAAAAAAAAAAAAAAAAAAAAAAAAAAAAAAAAAAAAAAAAAAAAAAAAAAAAAAAAAAAAAAAAAAAAAAAAAAAAAAAAAAAAAAAAAAAAAAAAAAAAAAAAAAAAAAAAAAAAAAAAAAAAAAAAAAAAAAAAAAAAAAAAAAAAAAAAAAAAAAAAAAAAAAAAAAAAAAAAAAAAAAAAAAAAAAAAAAAAAAAAAAAAAAAAAAAAAAAAAAAAAAAAAAAAAAAAAAAAAAAAAAAAAAAAAAAAAAAAAAAAAAAAAAAAAAAAAAAAAAAAAAAAAAAAAAAAAAAAAAAAAAAAAAAAAAAAAAAAAAAAAAAAAAAAAAAAAAAAAAAAAAAAAAAAAAAAAAAAAAAAAAAAAAAAAAAAAAAAAAAAAAAAAAAAAAAAAAAAAAAAAAAAAAAAAAAAAAAAAAAAAAAAAAAAAAAAAAAAAAAAAAAAAAAAAAAAAAAAAAAAAAAAAAAAAAAAAAAAAAAAAAAAAAAAAAAAAAAAAAAAAAAAAAAAAAAAAAAAAAAAAAAAAAAAAAAAAAAAAAAAAAAAAAAAAAAAAAAAAAAAAAAAAAAAAAAAAAAAAAAAAAAAAAAAAAAAAAAAAAAAAAAAAAAAAAAAAAAAAAAAAAAAAAAAAAAAAAAAAAAAAAAAAAAAAAAAAAAAAAAAAAAAAAAAAAAAAAAAAAAAAAAAAAAAAAAAAAAAAAAAAAAAAAAAAAAAAAAAAAAAAAAAAAAAAAAAAAAAAAAAAAAAAAAAAAAAAAAAAAAAAAAAAAAAAAAAAAAAAAAAAAAAAAAAAAAAAAAAAAAAAAAAAAAAAAAAAAAAAAAAAAAAAAAAAAAAAAAAAAAAAAAAAAAAAAAAAAAAAAAAAAAAAAAAAAAAAAAAAAAAAAAAAAAAAAAAAAAAAAAAAAAAAAAAAAAAAAAAAAAAAAAAAAAAAAAAAAAAAAAAAAAAAAAAAAAAAAAAAAAAAAAAAAAAAAAAAAAAAAAAAAAAAAAAAAAAAAAAAAAAAAAAAAAAAAAAAAAAAAAAAAAAAAAAAAAAAAAAAAAAAAAAAAAAAAAAAAAAAAAAAAAAAAAAAAAAAAAAAAAAAAAAAAAAAAAAAAAAAAAAAAAAAAAAAAAAAAAAAAAAAAAAAAAAAAAAAAAAAAAAAAAAAAAAAAAAAAAAAAAAAAAAAAAAAAAAAAAAAAAAAAAAAAAAAAAAAAAAAAAAAAAAAAAAAAAAAAAAAAAAAAAAAAAAAAAAAAAAAAAAAAAAAAAAAAAAAAAAAAAAAAAAAAAAAAAAAAAAAAAAAAAAAAAAAAAAAAAAAAAAAAAAAAAAAAAAAAAAAAAAAAAAAAAAAAAAAAAAAAAAAAAAAAAAAAAAAAAAAAAAAAAAAAAAAAAAAAAAAAAAAAAAAAAAAAAAAAAAAAAAAAAAAAAAAAAAAAAAAAAAAAAAAAAAAAAAAAAAAAAAAAAAAAAAAAAAAAAAAAAAAAAAAAAAAAAAAAAAAAAAAAAAAAAAAAAAAAAAAAAAAAAAAAAAAAAAAAAAAAAAAAAAAAAAAAAAAAAAAAAAAAAAAAAAAAAAAAAAAAAAAAAAAAAAAAAAAAAAAAAAAAAAAAAAAAAAAAAAAAAAAAAAAAAAAAAAAAAAAAAAAAAAAAAAAAAAAAAAAAAAAAAAAAAAAAAAAAAAAAAAAAAAAAAAAAAAAAAAAAAAAAAAAAAAAAAAAAAAAAAAAAAAAAAAAAAAAAAAAAAAAAAAAAAAAAAAAAAAAAAAAAAAAAAAAAAAAAAAAAAAAAAAAAAAAAAAAAAAAAAAAAAAAAAAAAAAAAAAAAAAAAAAAAAAAAAAAAAAAAAAAAAAAAAAAAAAAAAAAAAAAAAAAAAAAAAAAAAAAAAAAAAAAAAAAAAAAAAAAAAAAAAAAAAAAAAAAAAAAAAAAAAAAAAAAAAAAAAAAAAAAAAAAAAAAAAAAAAAAAAAAAAAAAAAAAAAAAAAAAAAAAAAAAAAAAAAAAAAAAAAAAAAAAAAAAAAAAAAAAAAAAAAAAAAAAAAAAAAAAAAAAAAAAAAAAAAAAAAAAAAAAAAAAAAAAAAAAAAAAAAAAAAAAAAAAAAAAAAAAAAAAAAAAAAAAAAAAAAAAAAAAAAAAAAAAAAAAAAAAAAAAAAAAAAAAAAAAAAAAAAAAAAAAAAAAAAAAAAAAAAAAAAAAAAAAAAAAAAAAAAAAAAAAAAAAAAAAAAAAAAAAAAAAAAAAAAAAAAAAAAAAAAAAAAAAAAAAAAAAAAAAAAAAAAAAAAAAAAAAAAAAAAAAAAAAAAAAAAAAAAAAAAAAAAAAAAAAAAAAAAAAAAAAAAAAAAAAAAAAAAAAAAAAAAAAAAAAAAAAAAAAAAAAAAAAAAAAAAAAAAAAAAAAAAAAAAAAAAAAAAAAAAAAAAAAAAAAAAAAAAAAAAAAAAAAAAAAAAAAAAAAAAAAAAAAAAAAAAAAAAAAAAAAAAAAAAAAAAAAAAAAAAAAAAAAAAAAAAAAAAAAAAAAAAAAAAAAAAAAAAAAAAAAAAAAAAAAAAAAAAAAAAAAAAAAAAAAAAAAAAAAAAAAAAAAAAAAAAAAAAAAAAAAAAAAAAAAAAAAAAAAAAAAAAAAAAAAAAAAAAAAAAAAAAAAAAAAAAAAAAAAAAAAAAAAAAAAAAAAAAAAAAAAAAAAAAAAAAAAAAAAAAAAAAAAAAAAAAAAAAAAAAAAAAAAAAAAAAAAAAAAAAAAAAAAAAAAAAAAAAAAAAAAAAAAAAAAAAAAAAAAAAAAAAAAAAAAAAAAAAAAAAAAAAAAAAAAAAAAAAAAAAAAAAAAAAAAAAAAAAAAAAAAAAAAAAAAAAAAAAAAAAAAAAAAAAAAAAAAAAAAAAAAAAAAAAAAAAAAAAAAAAAAAAAAAAAAAAAAAAAAAAAAAAAAAAAAAAAAAAAAAAAAAAAAAAAAAAAAAAAAAAAAAAAAAAAAAAAAAAAAAAAAAAAAAAAAAAAAAAAAAAAAAAAAAAAAAAAAAAAAAAAAAAAAAAAAAAAAAAAAAAAAAAAAAAAAAAAAAAAAAAAAAAAAAAAAAAAAAAAAAAAAAAAAAAAAAAAAAAAAAAAAAAAAAAAAAAAAAAAAAAAAAAAAAAAAAAAAAAAAAAAAAAAAAAAAAAAAAAAAAAAAAAAAAAAAAAAAAAAAAAAAAAAAAAAAAAAAAAAAAAAAAAAAAAAAAAAAAAAAAAAAAAAAAAAAAAAAAAAAAAAAAAAAAAAAAAAAAAAAAAAAAAAAAAAAAAAAAAAAAAAAAAAAAAAAAAAAAAAAAAAAAAAAAAAAAAAAAAAAAAAAAAAAAAAAAAAAAAAAAAAAAAAAAAAAAAAAAAAAAAAAAAAAAAAAAAAAAAAAAAAAAAAAAAAAAAAAAAAAAAAAAAAAAA\" type=\"audio/wav\" />\n",
       "                    Your browser does not support the audio element.\n",
       "                </audio>\n",
       "              "
      ],
      "text/plain": [
       "<IPython.lib.display.Audio object>"
      ]
     },
     "execution_count": 19,
     "metadata": {},
     "output_type": "execute_result"
    }
   ],
   "source": [
    "audio.play_audio(pred_time, rate=fs)"
   ]
  },
  {
   "cell_type": "code",
   "execution_count": 20,
   "metadata": {},
   "outputs": [
    {
     "data": {
      "text/html": [
       "\n",
       "                <audio  controls=\"controls\" >\n",
       "                    <source src=\"data:audio/wav;base64,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\" type=\"audio/wav\" />\n",
       "                    Your browser does not support the audio element.\n",
       "                </audio>\n",
       "              "
      ],
      "text/plain": [
       "<IPython.lib.display.Audio object>"
      ]
     },
     "execution_count": 20,
     "metadata": {},
     "output_type": "execute_result"
    }
   ],
   "source": [
    "audio.play_audio(X_time, rate=fs)"
   ]
  },
  {
   "cell_type": "code",
   "execution_count": 21,
   "metadata": {
    "scrolled": false
   },
   "outputs": [
    {
     "data": {
      "image/png": "[encoded data removed]",
      "text/plain": [
       "<Figure size 432x288 with 1 Axes>"
      ]
     },
     "metadata": {
      "needs_background": "light"
     },
     "output_type": "display_data"
    },
    {
     "data": {
      "image/png": "[encoded data removed]",
      "text/plain": [
       "<Figure size 432x288 with 1 Axes>"
      ]
     },
     "metadata": {
      "needs_background": "light"
     },
     "output_type": "display_data"
    },
    {
     "data": {
      "image/png": "[encoded data removed]",
      "text/plain": [
       "<Figure size 432x288 with 1 Axes>"
      ]
     },
     "metadata": {
      "needs_background": "light"
     },
     "output_type": "display_data"
    }
   ],
   "source": [
    "audio.show_spectra(X)\n",
    "plt.show()\n",
    "\n",
    "audio.show_spectra(y)\n",
    "plt.show()\n",
    "\n",
    "audio.show_spectra(pred)\n",
    "plt.show()"
   ]
  },
  {
   "cell_type": "code",
   "execution_count": 22,
   "metadata": {},
   "outputs": [
    {
     "data": {
      "image/png": "[encoded data removed]",
      "text/plain": [
       "<Figure size 432x288 with 1 Axes>"
      ]
     },
     "metadata": {
      "needs_background": "light"
     },
     "output_type": "display_data"
    }
   ],
   "source": [
    "for i in range(1):\n",
    "    plt.imshow(ds_train[i][1][0])\n",
    "    plt.show()"
   ]
  }
 ],
 "metadata": {
  "kernelspec": {
   "display_name": "Python 3",
   "language": "python",
   "name": "python3"
  },
  "language_info": {
   "codemirror_mode": {
    "name": "ipython",
    "version": 3
   },
   "file_extension": ".py",
   "mimetype": "text/x-python",
   "name": "python",
   "nbconvert_exporter": "python",
   "pygments_lexer": "ipython3",
   "version": "3.6.7"
  }
 },
 "nbformat": 4,
 "nbformat_minor": 2
}
