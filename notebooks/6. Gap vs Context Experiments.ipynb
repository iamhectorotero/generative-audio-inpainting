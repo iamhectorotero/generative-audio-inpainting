{
 "cells": [
  {
   "cell_type": "code",
   "execution_count": 1,
   "metadata": {},
   "outputs": [
    {
     "data": {
      "text/plain": [
       "[(32, 32),\n",
       " (32, 64),\n",
       " (32, 128),\n",
       " (32, 256),\n",
       " (64, 64),\n",
       " (64, 128),\n",
       " (64, 256),\n",
       " (128, 64),\n",
       " (128, 128),\n",
       " (128, 256),\n",
       " (256, 128),\n",
       " (256, 256)]"
      ]
     },
     "execution_count": 1,
     "metadata": {},
     "output_type": "execute_result"
    }
   ],
   "source": [
    "def ms_to_px(ms):\n",
    "    return round(ms/2.667)\n",
    "\n",
    "context_sizes = [32, 64, 128, 256]\n",
    "gap_sizes = [32, 64, 128, 256]\n",
    "tuples = [(g, c) for g in gap_sizes for c in context_sizes]\n",
    "tuples = list(filter(lambda x: ms_to_px(x[0]) <= x[1] - 12, tuples))\n",
    "tuples"
   ]
  },
  {
   "cell_type": "code",
   "execution_count": null,
   "metadata": {},
   "outputs": [
    {
     "name": "stdout",
     "output_type": "stream",
     "text": [
      "Starting 32_64\n",
      "Loading dataset\n",
      "100%|███████████████████████████████████████| 4000/4000 [00:52<00:00, 95.74it/s]\n",
      "Starting optimization\n",
      "                                                                                \n",
      "Epoch: 0\n",
      "  0%|                                                    | 0/16 [00:00<?, ?it/s]/opt/anaconda3/lib/python3.7/site-packages/torch/nn/modules/upsampling.py:129: UserWarning: nn.Upsample is deprecated. Use nn.functional.interpolate instead.\n",
      "  warnings.warn(\"nn.{} is deprecated. Use nn.functional.interpolate instead.\".format(self.name))\n",
      "Traceback (most recent call last):\n",
      "  File \"exp.py\", line 114, in <module>\n",
      "    no_epoch_info_bar=True)\n",
      "  File \"/home/jupyter/mlp-final/rml/training.py\", line 107, in optimize\n",
      "    store_pt=store_pt, headless=no_epoch_info_bar)\n",
      "  File \"/home/jupyter/mlp-final/rml/utils/prediction.py\", line 15, in wrapper\n",
      "    result = f(model, *args, **kwargs)\n",
      "  File \"/home/jupyter/mlp-final/rml/training.py\", line 185, in evaluate\n",
      "    basic_info_loop(model, loss, valid_dl, step, stepper=basic_stepper, headless=headless)\n",
      "  File \"/home/jupyter/mlp-final/rml/training.py\", line 227, in basic_info_loop\n",
      "    cost, input, target, pred = stepper(model, data, loss, feed_target)\n",
      "  File \"/home/jupyter/mlp-final/rml/training.py\", line 29, in basic_step\n",
      "    cost = loss(pred, target)\n",
      "  File \"exp.py\", line 105, in MSEGapLoss\n",
      "    return mse(pred_gap[pred_gap != 0], targ_gap[targ_gap != 0])\n",
      "  File \"/opt/anaconda3/lib/python3.7/site-packages/torch/nn/modules/module.py\", line 489, in __call__\n",
      "    result = self.forward(*input, **kwargs)\n",
      "  File \"/opt/anaconda3/lib/python3.7/site-packages/torch/nn/modules/loss.py\", line 435, in forward\n",
      "    return F.mse_loss(input, target, reduction=self.reduction)\n",
      "  File \"/opt/anaconda3/lib/python3.7/site-packages/torch/nn/functional.py\", line 2155, in mse_loss\n",
      "    expanded_input, expanded_target = torch.broadcast_tensors(input, target)\n",
      "  File \"/opt/anaconda3/lib/python3.7/site-packages/torch/functional.py\", line 50, in broadcast_tensors\n",
      "    return torch._C._VariableFunctions.broadcast_tensors(tensors)\n",
      "RuntimeError: The size of tensor a (49151) must match the size of tensor b (49152) at non-singleton dimension 0\n",
      "\n",
      "Starting 32_128\n",
      "Loading dataset\n",
      "100%|███████████████████████████████████████| 4000/4000 [00:47<00:00, 89.13it/s]\n",
      "Starting optimization\n",
      "                                                                                \n",
      "Epoch: 0\n",
      "  0%|                                                    | 0/16 [00:00<?, ?it/s]/opt/anaconda3/lib/python3.7/site-packages/torch/nn/modules/upsampling.py:129: UserWarning: nn.Upsample is deprecated. Use nn.functional.interpolate instead.\n",
      "  warnings.warn(\"nn.{} is deprecated. Use nn.functional.interpolate instead.\".format(self.name))\n"
     ]
    }
   ],
   "source": [
    "for t in tuples:\n",
    "    !python exp.py {t[0]} {t[1]}"
   ]
  },
  {
   "cell_type": "code",
   "execution_count": null,
   "metadata": {},
   "outputs": [],
   "source": []
  }
 ],
 "metadata": {
  "kernelspec": {
   "display_name": "Python 3",
   "language": "python",
   "name": "python3"
  },
  "language_info": {
   "codemirror_mode": {
    "name": "ipython",
    "version": 3
   },
   "file_extension": ".py",
   "mimetype": "text/x-python",
   "name": "python",
   "nbconvert_exporter": "python",
   "pygments_lexer": "ipython3",
   "version": "3.6.7"
  }
 },
 "nbformat": 4,
 "nbformat_minor": 2
}
