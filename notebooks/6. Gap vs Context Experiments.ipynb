{
 "cells": [
  {
   "cell_type": "code",
   "execution_count": null,
   "metadata": {},
   "outputs": [],
   "source": [
    "def ms_to_px(ms):\n",
    "    return round(ms/2.667)\n",
    "\n",
    "context_sizes = [32, 64, 128, 256]\n",
    "gap_sizes = [32, 64, 128, 256]\n",
    "tuples = [(g, c) for g in gap_sizes for c in context_sizes]\n",
    "tuples = list(filter(lambda x: ms_to_px(x[0]) <= x[1] - 12, tuples))\n",
    "tuples"
   ]
  },
  {
   "cell_type": "code",
   "execution_count": null,
   "metadata": {},
   "outputs": [],
   "source": [
    "for t in tuples:\n",
    "    !python exp.py {t[0]} {t[1]}"
   ]
  }
 ],
 "metadata": {
  "kernelspec": {
   "display_name": "Python 3",
   "language": "python",
   "name": "python3"
  },
  "language_info": {
   "codemirror_mode": {
    "name": "ipython",
    "version": 3
   },
   "file_extension": ".py",
   "mimetype": "text/x-python",
   "name": "python",
   "nbconvert_exporter": "python",
   "pygments_lexer": "ipython3",
   "version": "3.6.7"
  }
 },
 "nbformat": 4,
 "nbformat_minor": 2
}
